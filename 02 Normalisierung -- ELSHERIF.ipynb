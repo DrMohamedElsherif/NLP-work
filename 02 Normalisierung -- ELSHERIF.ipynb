{
 "cells": [
  {
   "cell_type": "markdown",
   "metadata": {
    "slideshow": {
     "slide_type": "slide"
    }
   },
   "source": [
    "<span style=\"color:red\">Abgegeben von (Name, Vorname):</span> \n",
    "Elsherif, Mohamed (6378374)"
   ]
  },
  {
   "cell_type": "markdown",
   "metadata": {},
   "source": [
    "Wie immer müssen wir zuerst das NLTK-Modul laden. Außerdem importieren wir das Brown Corpus."
   ]
  },
  {
   "cell_type": "code",
   "execution_count": 1,
   "metadata": {
    "ExecuteTime": {
     "end_time": "2023-10-22T10:13:15.326384Z",
     "start_time": "2023-10-22T10:13:14.773942Z"
    }
   },
   "outputs": [],
   "source": [
    "import nltk\n",
    "from nltk.corpus import brown"
   ]
  },
  {
   "cell_type": "markdown",
   "metadata": {},
   "source": [
    "Immer griffbereit:\n",
    "- Website: https://www.nltk.org/\n",
    "- Buch: https://www.nltk.org/book/ch07.html\n",
    "- Module: https://www.nltk.org/py-modindex.html\n",
    "- Beispiele: http://www.nltk.org/howto/"
   ]
  },
  {
   "cell_type": "markdown",
   "metadata": {
    "slideshow": {
     "slide_type": "slide"
    }
   },
   "source": [
    "<br>\n",
    "<font size=\"6\"><strong>2. Sitzung: Morphologie & Normalisierung</strong></font> \n",
    "<br>\n",
    "<br>"
   ]
  },
  {
   "cell_type": "markdown",
   "metadata": {
    "slideshow": {
     "slide_type": "fragment"
    }
   },
   "source": [
    "**Warum Normalisierung der Wortform?**\n",
    "\n",
    "- Wenn wir wissen wollen, wie groß der Wortschatz eines Textes ist.\n",
    "- Wenn wir wissen wollen, wie oft bestimmte Begriffe in einem Text vorkommen.\n",
    "    - z.B. Information Retrieval, Textklassifizierung\n",
    "- Wenn wir Suchanfragen verallgemeinern möchten.\n",
    "- ...\n",
    "\n",
    "Die Normalisierung ist besonders interessant bei Sprachen mit reicher Flexion. Dazu gehört das Deutsche."
   ]
  },
  {
   "cell_type": "markdown",
   "metadata": {
    "slideshow": {
     "slide_type": "slide"
    }
   },
   "source": [
    "# Morphologie\n",
    "\n",
    "(Hinweis: Eine ausführlichere Kurzeinleitung gibt es in den beigestellten Folien `skript-morphologie-wortbegriffe.pdf`).\n",
    "\n",
    "Die Morphologie innerhalb der Linguistik beschäftigt sich mit dem **inneren Aufbau von Wortformen** anhand von Morphemen.\n",
    "\n",
    "Es gibt verschiedene Arten von **Morphemen**:\n",
    "- **Wurzel**: der kleinste Teil eines Wortes, der die zentralen semantischen Informationen beiträgt und kein Affix enthält.\n",
    "    - z.B. *zer-**leg**-en*\n",
    "- **Derivationsaffixe**: eine geschlossene Klasse von Morphemen, die die Wortart (Nomen, Verb, Adjektiv, ...) bestimmen können\n",
    "    - z.B. **zer**-*leg-en*\n",
    "- **Stamm**: der Teil eines Wortes, der die Wurzel und alle Derivationsaffixe enthält.\n",
    "    - z.B. **zer-leg**-*en*\n",
    "- **Flexionsaffixe**: eine geschlossene Klasse von Morphemen, die immer an letzter Stelle im Wort stehen und bestimmte semantische (Genus, Komparation, Person, Numerus, Aspekt, Aktionsart, Tempus, Modus) oder funktionale (Kasus) Informationen beitragen.\n",
    "    - z.B. *zer-leg*-**en**\n",
    "\n",
    "Unter Normalisierung im Bereich der Morphologie versteht man die Ersetzung einer Wortform durch ihren Stamm (Stemming) oder durch eine Zitationsform oder Lemma (Lemmatisierung).\n"
   ]
  },
  {
   "cell_type": "markdown",
   "metadata": {
    "slideshow": {
     "slide_type": "slide"
    }
   },
   "source": [
    "# Normalisierung der Groß-/Kleinschreibung\n",
    "\n",
    "Die einfachste Form der Normalisierung ist die Vereinheitlichung der Groß-/Kleinschreibung.\n",
    "\n",
    "Zum Beispiel kann man durchgängig die Kleinschreibung verwenden. Dafür steht die String-Funktion `lower()` zur Verfügung."
   ]
  },
  {
   "cell_type": "code",
   "execution_count": 2,
   "metadata": {
    "ExecuteTime": {
     "end_time": "2023-10-22T10:13:23.042954Z",
     "start_time": "2023-10-22T10:13:23.032025Z"
    }
   },
   "outputs": [
    {
     "data": {
      "text/plain": [
       "'peter went to the white house and read the new york times.'"
      ]
     },
     "execution_count": 2,
     "metadata": {},
     "output_type": "execute_result"
    }
   ],
   "source": [
    "word = \"Peter went to the White House and read the New York Times.\"\n",
    "word.lower()"
   ]
  },
  {
   "cell_type": "markdown",
   "metadata": {
    "slideshow": {
     "slide_type": "fragment"
    }
   },
   "source": [
    "Das Problem bei dieser rasenmäherartigen Normalisierung besteht darin, dass gewisse Unterscheidungsmöglichkeiten hinsichtlich der Bedeutung verloren gehen können.\n",
    "\n",
    "- *White House* $\\Rightarrow$ *white house* \n",
    "- *Peter* $\\Rightarrow$ *peter* (*to peter out* bedeutet 'versiegen')"
   ]
  },
  {
   "cell_type": "markdown",
   "metadata": {
    "slideshow": {
     "slide_type": "fragment"
    }
   },
   "source": [
    "Trotzdem kann diese Art der Normalisierung je nach Anwendung sinnvoll sein, z.B. bei der groben Klassifizierung größerer Textmengen.\n",
    "\n",
    "Doch es geht noch extremer ..."
   ]
  },
  {
   "cell_type": "markdown",
   "metadata": {
    "slideshow": {
     "slide_type": "slide"
    }
   },
   "source": [
    "# Stemming (Rückschnitt)\n",
    "\n",
    "Als Stemming bezeichnet man Verfahren, die die Suffixe eines Wortes tilgen und dadurch unterschiedliche Wortformen vereinheitlichen: \n",
    "\n",
    "- *connect* $\\Rightarrow$ *connect*\n",
    "- *connected* $\\Rightarrow$ *connect*\n",
    "- *connecting* $\\Rightarrow$ *connect*\n",
    "- *connection* $\\Rightarrow$ *connect*\n",
    "- *connections* $\\Rightarrow$ *connect*"
   ]
  },
  {
   "cell_type": "markdown",
   "metadata": {
    "slideshow": {
     "slide_type": "subslide"
    }
   },
   "source": [
    "Man beachte: \n",
    "- Solche Verfahren zielen **nicht** auf eine linguistisch adäquate Bildung des Stammes! Das ist Thema der Computationellen Morphologie bzw. Ziel des morphologischen Parsens. (siehe https://aclweb.org/aclwiki/Morphology_software_for_English)\n",
    "- Solche Verfahren können die Grenze zwischen Wortarten verwischen.\n",
    "    - *connection* $\\Rightarrow$ *connect*\n",
    "    - *connects* $\\Rightarrow$ *connect*\n",
    "- Der Übergang zwischen nützlichem und schädlichem Stemming ist fließend und auch abhängig von der Anwendung.\n",
    "    - *relate* $\\Rightarrow$ *relate*\n",
    "    - *relativity* $\\Rightarrow$ *relate*    (schädlich?)\n",
    "    - *organ* $\\Rightarrow$ *organ*  \n",
    "    - *organization* $\\Rightarrow$ *organ*    (schädlich!)\n",
    "   "
   ]
  },
  {
   "cell_type": "markdown",
   "metadata": {
    "slideshow": {
     "slide_type": "slide"
    }
   },
   "source": [
    "## Funktionsweise\n",
    "\n",
    "Die Funktionsweise ist vergleichsweise simpel: Das Stemming wird von bedingten Ersetzungsregeln der Form \n",
    "- `(condition) S1 -> S2`\n",
    "\n",
    "kontrolliert, wobei `S1` durch `S2` ersetzt wird, wenn `condition` erfüllt ist.\n",
    "\n",
    "Die Stemmingverfahren unterscheiden sich im Prinzip darin, was in `condition`, `S1` und `S2` stehen kann, wie diese Regeln geordnet sind (das längste `S1` gewinnt!), und ob es mehrere Durchläufe gibt."
   ]
  },
  {
   "cell_type": "markdown",
   "metadata": {
    "slideshow": {
     "slide_type": "slide"
    }
   },
   "source": [
    "## Stemming mit regulären Ausdrücken\n",
    "\n",
    "Die einfachsten Stemming-Methoden verwenden reguläre Ausdrücke für Affixe, die getilgt werden, falls Sie am Ende der Wortform stehen. (Dann werden die Affixe auch *Suffixe* genannt.) Die Regeln sehen also so aus:\n",
    "\n",
    "- `(S1 steht am Ende) S1 -> \"\"`\n",
    "\n",
    "Mit der String-Methode `endswith()` lässt sich das ohne Probleme umsetzen (siehe https://www.nltk.org/book/ch03.html):  "
   ]
  },
  {
   "cell_type": "code",
   "execution_count": 3,
   "metadata": {},
   "outputs": [],
   "source": [
    "def stem(word):\n",
    "    for suffix in ['ing', 'ly', 'ed', 'ious', 'ies', 'ive', 'es', 's', 'ment']:\n",
    "         if word.endswith(suffix):\n",
    "            return word[:-len(suffix)]\n",
    "    return word"
   ]
  },
  {
   "cell_type": "markdown",
   "metadata": {
    "slideshow": {
     "slide_type": "subslide"
    }
   },
   "source": [
    "Dasselbe geht natürlich auch sehr einfach mit regulären Ausdrücken."
   ]
  },
  {
   "cell_type": "code",
   "execution_count": 4,
   "metadata": {},
   "outputs": [],
   "source": [
    "import re\n",
    "def stem2(word):\n",
    "    regexp = r'^(.*?)(ing|ly|ed|ious|ies|ive|es|s|ment)?$'\n",
    "    stem, suffix = re.findall(regexp, word)[0] # re.findall returns a list of pairs \n",
    "    return stem"
   ]
  },
  {
   "cell_type": "code",
   "execution_count": 5,
   "metadata": {},
   "outputs": [
    {
     "data": {
      "text/plain": [
       "['connection', 'i']"
      ]
     },
     "execution_count": 5,
     "metadata": {},
     "output_type": "execute_result"
    }
   ],
   "source": [
    "[stem2(word) for word in [\"connections\", \"is\"]]"
   ]
  },
  {
   "cell_type": "markdown",
   "metadata": {
    "slideshow": {
     "slide_type": "subslide"
    }
   },
   "source": [
    "Diese beiden einfachen Stemmer haben natürlich diverse Einschränkungen: \n",
    "- keine Mindestlänge\n",
    "- nur Tilgungen (Problem: *women* $\\Rightarrow$ *woman*)\n",
    "- keine Mehrfachtilgung (wie beim Beispiel mit *connections* oben)\n",
    "\n",
    "NLTK enthält ein Modul für die Entwicklung eines einfachen [RegExp-Stemmers](https://www.nltk.org/api/nltk.stem.html#module-nltk.stem.regexp) (`RegexpStemmer` in `nltk.stem`), der zumindest die Angabe einer Mindestlänge zulässt."
   ]
  },
  {
   "cell_type": "code",
   "execution_count": 6,
   "metadata": {},
   "outputs": [
    {
     "data": {
      "text/plain": [
       "['connection', 'is']"
      ]
     },
     "execution_count": 6,
     "metadata": {},
     "output_type": "execute_result"
    }
   ],
   "source": [
    "from nltk.stem import RegexpStemmer\n",
    "st = RegexpStemmer('ing$|s$|e$|able$', min=4)\n",
    "[st.stem(word) for word in [\"connections\", \"is\"]]"
   ]
  },
  {
   "cell_type": "markdown",
   "metadata": {
    "slideshow": {
     "slide_type": "slide"
    }
   },
   "source": [
    "Neben `RegexpStemmer` enthält NLTK aber auch fertige Stemmer für eine Reihe von Sprachen (darunter Arabisch!).\n",
    "\n",
    "## Stemmer fürs Englische\n",
    "\n",
    "\n",
    "Für das Englische stehen im Modul `nltk.stem` gleich drei Standard-Stemmer zu Auswahl:\n",
    "\n",
    "- der Porter-Stemmer (`PorterStemmer`)\n",
    "    - Ein sehr früher Stemmer aus den späten 1970ern.\n",
    "    - https://tartarus.org/martin/PorterStemmer/index.html\n",
    "    - Regeln der Form `(condition) S1 -> S2` mit nur einem Durchlauf, aber unterschiedliche \"Schritte\".\n",
    "- der Lancaster-Stemmer (`LancasterStemmer`)\n",
    "    - rekursive Anwendung der Stemming-Regeln $\\Rightarrow$ Gefahr des Overstemming\n",
    "    - https://dl.acm.org/citation.cfm?id=101310\n",
    "- der Snowball-Stemmer (`SnowballStemmer`)\n",
    "    - Weiterentwicklung des Porter Stemmers\n",
    "    - derzeit der Standard-Stemmer\n",
    "    - verfügbar auch für andere Sprachen \n",
    "    - http://snowball.tartarus.org/texts/introduction.html\n"
   ]
  },
  {
   "cell_type": "code",
   "execution_count": 7,
   "metadata": {
    "ExecuteTime": {
     "end_time": "2023-10-22T10:58:24.653064Z",
     "start_time": "2023-10-22T10:58:24.644998Z"
    },
    "slideshow": {
     "slide_type": "subslide"
    }
   },
   "outputs": [],
   "source": [
    "from nltk.stem import PorterStemmer\n",
    "from nltk.stem import LancasterStemmer\n",
    "from nltk.stem import SnowballStemmer\n",
    "pst = PorterStemmer()\n",
    "lst = LancasterStemmer()\n",
    "sste = SnowballStemmer(\"english\")"
   ]
  },
  {
   "cell_type": "code",
   "execution_count": 8,
   "metadata": {
    "ExecuteTime": {
     "end_time": "2023-10-22T10:59:21.698938Z",
     "start_time": "2023-10-22T10:59:21.684963Z"
    },
    "slideshow": {
     "slide_type": "fragment"
    }
   },
   "outputs": [
    {
     "name": "stdout",
     "output_type": "stream",
     "text": [
      "Input               Porter Stemmer      Lancaster Stemmer   Sowball Stemmer     \n",
      "-----               --------------      -----------------   ---------------     \n",
      "connections         connect             connect             connect             \n",
      "connectionistic     connectionist       connect             connectionist       \n",
      "flies               fli                 fli                 fli                 \n",
      "friend              friend              friend              friend              \n",
      "friendship          friendship          friend              friendship          \n",
      "friends             friend              friend              friend              \n",
      "friendships         friendship          friend              friendship          \n",
      "stabil              stabil              stabl               stabil              \n",
      "destabilize         destabil            dest                destabil            \n",
      "misunderstandings   misunderstand       misunderstand       misunderstand       \n",
      "railroad            railroad            railroad            railroad            \n",
      "moonlight           moonlight           moonlight           moonlight           \n",
      "football            footbal             footbal             footbal             \n",
      "women               women               wom                 women               \n",
      "woman               woman               wom                 woman               \n",
      "ate                 ate                 at                  ate                 \n",
      "at                  at                  at                  at                  \n",
      "generously          gener               gen                 generous            \n"
     ]
    }
   ],
   "source": [
    "word_list = [\"connections\",\"connectionistic\",\"flies\",\"friend\", \"friendship\", \"friends\", \"friendships\",\"stabil\",\"destabilize\",\"misunderstandings\",\"railroad\",\"moonlight\",\"football\",\"women\",\"woman\",\"ate\",\"at\",\"generously\"]\n",
    "print(\"{0:20}{1:20}{2:20}{3:20}\".format(\"Input\",\"Porter Stemmer\",\"Lancaster Stemmer\",\"Sowball Stemmer\"))\n",
    "print(\"{0:20}{1:20}{2:20}{3:20}\".format(\"-----\",\"--------------\",\"-----------------\",\"---------------\"))\n",
    "for word in word_list:\n",
    "    print(\"{0:20}{1:20}{2:20}{3:20}\".format(word,pst.stem(word),lst.stem(word),sste.stem(word)))"
   ]
  },
  {
   "attachments": {
    "2022-11-08_14-47-49_screenshot.png": {
     "image/png": "[encoded data removed]"
    }
   },
   "cell_type": "markdown",
   "metadata": {
    "slideshow": {
     "slide_type": "slide"
    }
   },
   "source": [
    "## Stemmer fürs Deutsche\n",
    "\n",
    "\n",
    "NLTK enthält zwei fertige Stemmer für das Deutsche. \n",
    "\n",
    "- der Snowball Stemmer, den wir oben schon fürs Englische gesehen haben\n",
    "- der Cistem Stemmer\n",
    "    - entwickelt an der LMU München\n",
    "    - http://www.cis.lmu.de/~weissweiler/cistem/\n",
    "    - Funktionsweise: ![2022-11-08_14-47-49_screenshot.png](attachment:2022-11-08_14-47-49_screenshot.png)"
   ]
  },
  {
   "cell_type": "markdown",
   "metadata": {},
   "source": [
    "<span style=\"color:red\">Frage am Rande:</span> Wer findet den Fehler in dieser Darstellung?"
   ]
  },
  {
   "cell_type": "code",
   "execution_count": 9,
   "metadata": {
    "ExecuteTime": {
     "end_time": "2023-10-22T11:01:36.929284Z",
     "start_time": "2023-10-22T11:01:36.923581Z"
    },
    "slideshow": {
     "slide_type": "subslide"
    }
   },
   "outputs": [],
   "source": [
    "from nltk.stem import SnowballStemmer\n",
    "from nltk.stem.cistem import Cistem\n",
    "sstg = SnowballStemmer(\"german\")\n",
    "cist = Cistem()"
   ]
  },
  {
   "cell_type": "code",
   "execution_count": 10,
   "metadata": {
    "ExecuteTime": {
     "end_time": "2023-10-22T11:01:38.977583Z",
     "start_time": "2023-10-22T11:01:38.970102Z"
    }
   },
   "outputs": [
    {
     "name": "stdout",
     "output_type": "stream",
     "text": [
      "Input               Snowball Stemmer    Cistem Stemmer      \n",
      "-----               ----------------    --------------      \n",
      "Adler               adl                 adler               \n",
      "Adlers              adl                 adler               \n",
      "Adlern              adl                 adler               \n",
      "aß                  ass                 ass                 \n",
      "gab                 gab                 gab                 \n",
      "Häuser              haus                hau                 \n",
      "Hau                 hau                 hau                 \n",
      "Absurditäten        absurditat          absurditat          \n",
      "Mäuserich           mauserich           mauserich           \n",
      "schmeckte           schmeckt            schmeck             \n"
     ]
    }
   ],
   "source": [
    "word_list = [\"Adler\",\"Adlers\",\"Adlern\",\"aß\",\"gab\",\"Häuser\",\"Hau\",\"Absurditäten\",\"Mäuserich\",\"schmeckte\"]\n",
    "print(\"{0:20}{1:20}{2:20}\".format(\"Input\",\"Snowball Stemmer\",\"Cistem Stemmer\"))\n",
    "print(\"{0:20}{1:20}{2:20}\".format(\"-----\",\"----------------\",\"--------------\"))\n",
    "for word in word_list:\n",
    "    print(\"{0:20}{1:20}{2:20}\".format(word,sstg.stem(word),cist.stem(word)))"
   ]
  },
  {
   "cell_type": "markdown",
   "metadata": {
    "slideshow": {
     "slide_type": "slide"
    }
   },
   "source": [
    "## Evaluierung\n",
    "\n",
    "Die Evaluierung eines Stemmers läuft im Prinzip so ab: \n",
    "\n",
    "- Es gibt eine festgelegte **Testmenge** und eine gewünschte Ausgabe (der sogenannte **Gold-Standard**).\n",
    "- Es wird mit bestimmten **Evaluationsmaßen** (Precision, Recall, F1-Measure, Accuracy) gemessen, wie nah der Stemmer für die Testmenge am Gold-Standard dran ist.\n",
    "- Es wird die **Geschwindigkeit** des Stemmers gemessen."
   ]
  },
  {
   "cell_type": "markdown",
   "metadata": {
    "slideshow": {
     "slide_type": "fragment"
    }
   },
   "source": [
    "Das grundsätzliche Problem: \n",
    "- Der Gold-Standard steht nicht wirklich fest und ist abhängig von der Anwendung und dem linguistischen Anspruch.\n",
    "- Es ist prinzipiell unklar, wie man Geschwindigkeit und Qualität miteinander verrechnen kann.\n",
    "- Die Evaluationsergebnisse gelten nur für die Testmenge.\n",
    "\n",
    "Siehe das [Cistem-Papier](http://www.cis.lmu.de/~weissweiler/cistem/) für ein Beispiel für die Evaluation eines Stemmers."
   ]
  },
  {
   "cell_type": "markdown",
   "metadata": {
    "slideshow": {
     "slide_type": "slide"
    }
   },
   "source": [
    "## <span style=\"color:red\">Aufgaben I</span>"
   ]
  },
  {
   "cell_type": "markdown",
   "metadata": {},
   "source": [
    "<span style=\"color:red\">A1-1:</span> Wenden Sie den Snowball-Stemmer auf die Textsorte \"news\" im Brown-Korpus an, indem die Form jedes Worttokens jeweils durch das Resultat des Stemmers ersetzt wird!"
   ]
  },
  {
   "cell_type": "code",
   "execution_count": 11,
   "metadata": {
    "ExecuteTime": {
     "end_time": "2023-10-22T11:02:33.574354Z",
     "start_time": "2023-10-22T11:02:32.376011Z"
    }
   },
   "outputs": [
    {
     "name": "stdout",
     "output_type": "stream",
     "text": [
      "Original: The Fulton County Grand Jury said Friday an investigation of Atlanta's recent primary election produced `` no evidence '' that any irregularities took place .\n",
      "Stemmed: the fulton counti grand juri said friday an investig of atlanta recent primari elect produc `` no evid '' that ani irregular took place .\n",
      "\n",
      "Original: The jury further said in term-end presentments that the City Executive Committee , which had over-all charge of the election , `` deserves the praise and thanks of the City of Atlanta '' for the manner in which the election was conducted .\n",
      "Stemmed: the juri further said in term-end present that the citi execut committe , which had over-al charg of the elect , `` deserv the prais and thank of the citi of atlanta '' for the manner in which the elect was conduct .\n",
      "\n",
      "Original: The September-October term jury had been charged by Fulton Superior Court Judge Durwood Pye to investigate reports of possible `` irregularities '' in the hard-fought primary which was won by Mayor-nominate Ivan Allen Jr. .\n",
      "Stemmed: the september-octob term juri had been charg by fulton superior court judg durwood pye to investig report of possibl `` irregular '' in the hard-fought primari which was won by mayor-nomin ivan allen jr. .\n",
      "\n"
     ]
    }
   ],
   "source": [
    "# Lösung zu A1-1\n",
    "\n",
    "# Definiere den Snowball-Stemmer für Englisch\n",
    "stemmer = SnowballStemmer(\"english\")\n",
    "\n",
    "# Holen der Sätze aus der Textkategorie \"news\"\n",
    "news_sentences = brown.sents(categories='news')\n",
    "\n",
    "# Stemming der Wörter in den \"news\"-Sätzen\n",
    "stemmed_sentences = []\n",
    "for sentence in news_sentences:\n",
    "    # Anwenden des Stemmers auf jedes Wort im Satz\n",
    "    stemmed_sentence = [stemmer.stem(word) for word in sentence]\n",
    "    # Füge den gestemmten Satz zur Liste hinzu\n",
    "    stemmed_sentences.append(stemmed_sentence)\n",
    "\n",
    "# Output der ersten 3 Sätze\n",
    "for i in range(3):\n",
    "    print('Original:', ' '.join(news_sentences[i]))\n",
    "    print('Stemmed:', ' '.join(stemmed_sentences[i]))\n",
    "    print()"
   ]
  },
  {
   "cell_type": "markdown",
   "metadata": {},
   "source": [
    "<span style=\"color:red\">A1-2:</span> Um wieviel Prozent verringert sich die Anzahl der Wortformen im News-Teil des Brown-Korpus _nur_ durch das Stemmen? "
   ]
  },
  {
   "cell_type": "code",
   "execution_count": 12,
   "metadata": {},
   "outputs": [
    {
     "name": "stdout",
     "output_type": "stream",
     "text": [
      "Number of unique word forms before stemming: 14394\n",
      "Number of unique word forms after stemming: 9312\n",
      "Percentage decrease in word forms due to stemming: 35.30637765735723%\n"
     ]
    }
   ],
   "source": [
    "# Lösung A1-2\n",
    "\n",
    "# Reduziere die list of Wörter (aus sentences) into eine Liste für original und root Wörter.\n",
    "original_words = [word for sentence in news_sentences for word in sentence]\n",
    "stemmed_words = [word for sentence in stemmed_sentences for word in sentence]\n",
    "\n",
    "# Berechne the number der unique word forms before und nach dem Stemming.\n",
    "unique_words_before = set(original_words)\n",
    "unique_words_after = set(stemmed_words)\n",
    "\n",
    "# Berechne the precentage Rückgang der unique word forms.\n",
    "original_count = len(unique_words_before)\n",
    "stemmed_count = len(unique_words_after)\n",
    "percentage_decrease = ((original_count - stemmed_count) / original_count) * 100\n",
    "\n",
    "print(f\"Number of unique word forms before stemming: {original_count}\")\n",
    "print(f\"Number of unique word forms after stemming: {stemmed_count}\")\n",
    "print(f\"Percentage decrease in word forms due to stemming: {percentage_decrease}%\")"
   ]
  },
  {
   "cell_type": "markdown",
   "metadata": {},
   "source": [
    "Aber dem Zipf'schen Gesetz entkommt man auch durch das Stemming nicht:"
   ]
  },
  {
   "cell_type": "code",
   "execution_count": 13,
   "metadata": {
    "ExecuteTime": {
     "end_time": "2023-10-22T12:23:50.588976Z",
     "start_time": "2023-10-22T12:23:50.585414Z"
    }
   },
   "outputs": [
    {
     "data": {
      "image/png": "[encoded data removed]",
      "text/plain": [
       "<Figure size 640x480 with 1 Axes>"
      ]
     },
     "metadata": {},
     "output_type": "display_data"
    },
    {
     "data": {
      "image/png": "[encoded data removed]",
      "text/plain": [
       "<Figure size 1400x400 with 1 Axes>"
      ]
     },
     "metadata": {},
     "output_type": "display_data"
    }
   ],
   "source": [
    "#%matplotlib notebook\n",
    "#fd.plot(100)\n",
    "\n",
    "### Es war unklar, ob dies eine zu erledigende Aufgabe ist oder nicht. Deshalb habe ich sie vorsichtshalber gemacht ###\n",
    "from nltk.probability import FreqDist\n",
    "\n",
    "######## Verwendung der FreqDist Plot methode ########\n",
    "# Frequency der Originalwörter\n",
    "original = FreqDist(original_words)\n",
    "original.plot(100)\n",
    "\n",
    "# Frequency der gestammten Wörter\n",
    "stemmed = FreqDist(stemmed_words)\n",
    "stemmed.plot(100)\n",
    "\n",
    "######## Verwendung von Matplotlib ########\n",
    "import matplotlib.pyplot as plt\n",
    "\n",
    "# Die 100 häufigsten Wörter und ihre frequencies Extraktieren\n",
    "top_original_wörter = original.most_common(100)\n",
    "top_stemmed_wörter = stemmed.most_common(100)\n",
    "\n",
    "# Wörter und frequency für original und stemmed Extraktieren\n",
    "original_wörter, original_freqs = zip(*top_original_wörter)\n",
    "stemmed_wörter, stemmed_freqs = zip(*top_stemmed_wörter)\n",
    "\n",
    "# Plot original und stemmed frequencies\n",
    "plt.figure(figsize=(14, 4))\n",
    "plt.plot(original_freqs, label=\"Original Wörter\", color=\"purple\")\n",
    "plt.plot(stemmed_freqs, label=\"Gestammten Wörter\", color=\"orange\", linestyle='--')\n",
    "\n",
    "# Custom Wörter labels wie x-ticks legen \n",
    "plt.xticks(ticks=range(len(original_wörter)), labels=original_wörter, rotation=90)\n",
    "plt.title(\"Die 100 häufigsten Wörter vor und nach der Stemming\")\n",
    "plt.xlabel(\"Wörter\")\n",
    "plt.ylabel(\"Frequency\")\n",
    "plt.legend()\n",
    "plt.grid(False)\n",
    "plt.show()"
   ]
  },
  {
   "cell_type": "code",
   "execution_count": null,
   "metadata": {},
   "outputs": [],
   "source": []
  },
  {
   "cell_type": "markdown",
   "metadata": {},
   "source": [
    "<span style=\"color:red\">Frage am Rande:</span> Um wieviel Prozent verringert sich die Anzahl der Wort**token**?    <span style=\"color:darkblue\"><strong> 0% This is because stemming only changes the shape of each individual word token, but not the total number of tokens in the texts themselves</strong></span>"
   ]
  },
  {
   "cell_type": "markdown",
   "metadata": {
    "slideshow": {
     "slide_type": "slide"
    }
   },
   "source": [
    "# Lemmatisierung\n",
    "\n",
    "Die Lemmatisierung ist eine weitere Form der Wortnormalisierung und dem Stemming sehr ähnlich. \n",
    "\n",
    "Unter Lemmatisierung versteht man die Abbildung einer Wortform auf ein **Lemma**. \n",
    "\n",
    "*Definition Lemma* (siehe Folien)\n",
    "> Ein Lemma besteht aus allen Wortformen derselben Wortart, die aus einem Stamm mittels Flexion & (Vokal-)Modifikation gebildet werden können.\n",
    "\n",
    "Was wir bei der Lemmatisierung aber eigentlich wollen, ist nicht eine Menge von Wortformen, sondern **eine** Wortform, die das Lemma repräsentiert, die sogenannte *Basisform*, *Zitierform* oder *Lemmaform* – kurz: Lemma."
   ]
  },
  {
   "cell_type": "markdown",
   "metadata": {
    "slideshow": {
     "slide_type": "subslide"
    }
   },
   "source": [
    "Es gibt bestimmte Konventionen, wie die **Zitierform** für ein Lemma gewählt wird. Z.B. ist üblicherweise das Lemma eines Verbs die Infinitivform und das Lemma eines Nomens die Nominativ-Singular-Form.  \n",
    "\n",
    "Wichtig ist aber eigentlich nur, dass unterschiedliche Lemmata unterschiedliche Ziterformen haben. \n",
    "\n",
    "- {*house*, *houses*, *housed*, *housing*} $\\Rightarrow$ <span style=\"font-variant: small-caps;\">house.V</span>\n",
    "- {*house*, *houses*} $\\Rightarrow$ <span style=\"font-variant: small-caps;\">house.N</span>\n",
    "\n",
    "So genau nehmen es aber Lemmatisierer nicht unbedingt und verlassen sich, was die Wortart betrifft, gerne auf den POS-Tagger. "
   ]
  },
  {
   "cell_type": "markdown",
   "metadata": {
    "slideshow": {
     "slide_type": "subslide"
    }
   },
   "source": [
    "## WordNet-Lemmatisierer\n",
    "\n",
    "WordNet ist ein elektronisches Lexikon mit semantischen Informationen in Form von Begriffsnetzen. Wir werden uns diese sehr einschlägige Ressource in einer der nächsten Sitzungen genauer anschauen. \n",
    "\n",
    "NLTK enthält einen Lemmatisierer auf Grundlage der morphologischen Informationen in WordNet. Daher muss WordNet zunächst mit `download()` heruntergeladen werden."
   ]
  },
  {
   "cell_type": "code",
   "execution_count": 14,
   "metadata": {
    "ExecuteTime": {
     "end_time": "2023-10-22T11:30:06.371582Z",
     "start_time": "2023-10-22T11:29:31.765520Z"
    }
   },
   "outputs": [
    {
     "name": "stderr",
     "output_type": "stream",
     "text": [
      "[nltk_data] Downloading collection 'all'\n",
      "[nltk_data]    | \n",
      "[nltk_data]    | Downloading package abc to\n",
      "[nltk_data]    |     /Users/dr.elsherif/nltk_data...\n",
      "[nltk_data]    |   Package abc is already up-to-date!\n",
      "[nltk_data]    | Downloading package alpino to\n",
      "[nltk_data]    |     /Users/dr.elsherif/nltk_data...\n",
      "[nltk_data]    |   Package alpino is already up-to-date!\n",
      "[nltk_data]    | Downloading package averaged_perceptron_tagger to\n",
      "[nltk_data]    |     /Users/dr.elsherif/nltk_data...\n",
      "[nltk_data]    |   Package averaged_perceptron_tagger is already up-\n",
      "[nltk_data]    |       to-date!\n",
      "[nltk_data]    | Downloading package averaged_perceptron_tagger_eng to\n",
      "[nltk_data]    |     /Users/dr.elsherif/nltk_data...\n",
      "[nltk_data]    |   Package averaged_perceptron_tagger_eng is already\n",
      "[nltk_data]    |       up-to-date!\n",
      "[nltk_data]    | Downloading package averaged_perceptron_tagger_ru to\n",
      "[nltk_data]    |     /Users/dr.elsherif/nltk_data...\n",
      "[nltk_data]    |   Package averaged_perceptron_tagger_ru is already\n",
      "[nltk_data]    |       up-to-date!\n",
      "[nltk_data]    | Downloading package averaged_perceptron_tagger_rus to\n",
      "[nltk_data]    |     /Users/dr.elsherif/nltk_data...\n",
      "[nltk_data]    |   Package averaged_perceptron_tagger_rus is already\n",
      "[nltk_data]    |       up-to-date!\n",
      "[nltk_data]    | Downloading package basque_grammars to\n",
      "[nltk_data]    |     /Users/dr.elsherif/nltk_data...\n",
      "[nltk_data]    |   Package basque_grammars is already up-to-date!\n",
      "[nltk_data]    | Downloading package bcp47 to\n",
      "[nltk_data]    |     /Users/dr.elsherif/nltk_data...\n",
      "[nltk_data]    |   Package bcp47 is already up-to-date!\n",
      "[nltk_data]    | Downloading package biocreative_ppi to\n",
      "[nltk_data]    |     /Users/dr.elsherif/nltk_data...\n",
      "[nltk_data]    |   Package biocreative_ppi is already up-to-date!\n",
      "[nltk_data]    | Downloading package bllip_wsj_no_aux to\n",
      "[nltk_data]    |     /Users/dr.elsherif/nltk_data...\n",
      "[nltk_data]    |   Package bllip_wsj_no_aux is already up-to-date!\n",
      "[nltk_data]    | Downloading package book_grammars to\n",
      "[nltk_data]    |     /Users/dr.elsherif/nltk_data...\n",
      "[nltk_data]    |   Package book_grammars is already up-to-date!\n",
      "[nltk_data]    | Downloading package brown to\n",
      "[nltk_data]    |     /Users/dr.elsherif/nltk_data...\n",
      "[nltk_data]    |   Package brown is already up-to-date!\n",
      "[nltk_data]    | Downloading package brown_tei to\n",
      "[nltk_data]    |     /Users/dr.elsherif/nltk_data...\n",
      "[nltk_data]    |   Package brown_tei is already up-to-date!\n",
      "[nltk_data]    | Downloading package cess_cat to\n",
      "[nltk_data]    |     /Users/dr.elsherif/nltk_data...\n",
      "[nltk_data]    |   Package cess_cat is already up-to-date!\n",
      "[nltk_data]    | Downloading package cess_esp to\n",
      "[nltk_data]    |     /Users/dr.elsherif/nltk_data...\n",
      "[nltk_data]    |   Package cess_esp is already up-to-date!\n",
      "[nltk_data]    | Downloading package chat80 to\n",
      "[nltk_data]    |     /Users/dr.elsherif/nltk_data...\n",
      "[nltk_data]    |   Package chat80 is already up-to-date!\n",
      "[nltk_data]    | Downloading package city_database to\n",
      "[nltk_data]    |     /Users/dr.elsherif/nltk_data...\n",
      "[nltk_data]    |   Package city_database is already up-to-date!\n",
      "[nltk_data]    | Downloading package cmudict to\n",
      "[nltk_data]    |     /Users/dr.elsherif/nltk_data...\n",
      "[nltk_data]    |   Package cmudict is already up-to-date!\n",
      "[nltk_data]    | Downloading package comparative_sentences to\n",
      "[nltk_data]    |     /Users/dr.elsherif/nltk_data...\n",
      "[nltk_data]    |   Package comparative_sentences is already up-to-\n",
      "[nltk_data]    |       date!\n",
      "[nltk_data]    | Downloading package comtrans to\n",
      "[nltk_data]    |     /Users/dr.elsherif/nltk_data...\n",
      "[nltk_data]    |   Package comtrans is already up-to-date!\n",
      "[nltk_data]    | Downloading package conll2000 to\n",
      "[nltk_data]    |     /Users/dr.elsherif/nltk_data...\n",
      "[nltk_data]    |   Package conll2000 is already up-to-date!\n",
      "[nltk_data]    | Downloading package conll2002 to\n",
      "[nltk_data]    |     /Users/dr.elsherif/nltk_data...\n",
      "[nltk_data]    |   Package conll2002 is already up-to-date!\n",
      "[nltk_data]    | Downloading package conll2007 to\n",
      "[nltk_data]    |     /Users/dr.elsherif/nltk_data...\n",
      "[nltk_data]    |   Package conll2007 is already up-to-date!\n",
      "[nltk_data]    | Downloading package crubadan to\n",
      "[nltk_data]    |     /Users/dr.elsherif/nltk_data...\n",
      "[nltk_data]    |   Package crubadan is already up-to-date!\n",
      "[nltk_data]    | Downloading package dependency_treebank to\n",
      "[nltk_data]    |     /Users/dr.elsherif/nltk_data...\n",
      "[nltk_data]    |   Package dependency_treebank is already up-to-date!\n",
      "[nltk_data]    | Downloading package dolch to\n",
      "[nltk_data]    |     /Users/dr.elsherif/nltk_data...\n",
      "[nltk_data]    |   Package dolch is already up-to-date!\n",
      "[nltk_data]    | Downloading package europarl_raw to\n",
      "[nltk_data]    |     /Users/dr.elsherif/nltk_data...\n",
      "[nltk_data]    |   Package europarl_raw is already up-to-date!\n",
      "[nltk_data]    | Downloading package extended_omw to\n",
      "[nltk_data]    |     /Users/dr.elsherif/nltk_data...\n",
      "[nltk_data]    |   Package extended_omw is already up-to-date!\n",
      "[nltk_data]    | Downloading package floresta to\n",
      "[nltk_data]    |     /Users/dr.elsherif/nltk_data...\n",
      "[nltk_data]    |   Package floresta is already up-to-date!\n",
      "[nltk_data]    | Downloading package framenet_v15 to\n",
      "[nltk_data]    |     /Users/dr.elsherif/nltk_data...\n",
      "[nltk_data]    |   Package framenet_v15 is already up-to-date!\n",
      "[nltk_data]    | Downloading package framenet_v17 to\n",
      "[nltk_data]    |     /Users/dr.elsherif/nltk_data...\n",
      "[nltk_data]    |   Package framenet_v17 is already up-to-date!\n",
      "[nltk_data]    | Downloading package gazetteers to\n",
      "[nltk_data]    |     /Users/dr.elsherif/nltk_data...\n",
      "[nltk_data]    |   Package gazetteers is already up-to-date!\n",
      "[nltk_data]    | Downloading package genesis to\n",
      "[nltk_data]    |     /Users/dr.elsherif/nltk_data...\n",
      "[nltk_data]    |   Package genesis is already up-to-date!\n",
      "[nltk_data]    | Downloading package gutenberg to\n",
      "[nltk_data]    |     /Users/dr.elsherif/nltk_data...\n",
      "[nltk_data]    |   Package gutenberg is already up-to-date!\n",
      "[nltk_data]    | Downloading package ieer to\n",
      "[nltk_data]    |     /Users/dr.elsherif/nltk_data...\n",
      "[nltk_data]    |   Package ieer is already up-to-date!\n",
      "[nltk_data]    | Downloading package inaugural to\n",
      "[nltk_data]    |     /Users/dr.elsherif/nltk_data...\n",
      "[nltk_data]    |   Package inaugural is already up-to-date!\n",
      "[nltk_data]    | Downloading package indian to\n",
      "[nltk_data]    |     /Users/dr.elsherif/nltk_data...\n",
      "[nltk_data]    |   Package indian is already up-to-date!\n",
      "[nltk_data]    | Downloading package jeita to\n",
      "[nltk_data]    |     /Users/dr.elsherif/nltk_data...\n",
      "[nltk_data]    |   Package jeita is already up-to-date!\n",
      "[nltk_data]    | Downloading package kimmo to\n",
      "[nltk_data]    |     /Users/dr.elsherif/nltk_data...\n",
      "[nltk_data]    |   Package kimmo is already up-to-date!\n",
      "[nltk_data]    | Downloading package knbc to\n",
      "[nltk_data]    |     /Users/dr.elsherif/nltk_data...\n",
      "[nltk_data]    |   Package knbc is already up-to-date!\n",
      "[nltk_data]    | Downloading package large_grammars to\n",
      "[nltk_data]    |     /Users/dr.elsherif/nltk_data...\n",
      "[nltk_data]    |   Package large_grammars is already up-to-date!\n",
      "[nltk_data]    | Downloading package lin_thesaurus to\n",
      "[nltk_data]    |     /Users/dr.elsherif/nltk_data...\n",
      "[nltk_data]    |   Package lin_thesaurus is already up-to-date!\n",
      "[nltk_data]    | Downloading package mac_morpho to\n",
      "[nltk_data]    |     /Users/dr.elsherif/nltk_data...\n",
      "[nltk_data]    |   Package mac_morpho is already up-to-date!\n",
      "[nltk_data]    | Downloading package machado to\n",
      "[nltk_data]    |     /Users/dr.elsherif/nltk_data...\n",
      "[nltk_data]    |   Package machado is already up-to-date!\n",
      "[nltk_data]    | Downloading package masc_tagged to\n",
      "[nltk_data]    |     /Users/dr.elsherif/nltk_data...\n",
      "[nltk_data]    |   Package masc_tagged is already up-to-date!\n",
      "[nltk_data]    | Downloading package maxent_ne_chunker to\n",
      "[nltk_data]    |     /Users/dr.elsherif/nltk_data...\n",
      "[nltk_data]    |   Package maxent_ne_chunker is already up-to-date!\n",
      "[nltk_data]    | Downloading package maxent_ne_chunker_tab to\n",
      "[nltk_data]    |     /Users/dr.elsherif/nltk_data...\n",
      "[nltk_data]    |   Package maxent_ne_chunker_tab is already up-to-\n",
      "[nltk_data]    |       date!\n",
      "[nltk_data]    | Downloading package maxent_treebank_pos_tagger to\n",
      "[nltk_data]    |     /Users/dr.elsherif/nltk_data...\n",
      "[nltk_data]    |   Package maxent_treebank_pos_tagger is already up-\n",
      "[nltk_data]    |       to-date!\n",
      "[nltk_data]    | Downloading package maxent_treebank_pos_tagger_tab to\n",
      "[nltk_data]    |     /Users/dr.elsherif/nltk_data...\n",
      "[nltk_data]    |   Package maxent_treebank_pos_tagger_tab is already\n",
      "[nltk_data]    |       up-to-date!\n",
      "[nltk_data]    | Downloading package moses_sample to\n",
      "[nltk_data]    |     /Users/dr.elsherif/nltk_data...\n",
      "[nltk_data]    |   Package moses_sample is already up-to-date!\n",
      "[nltk_data]    | Downloading package movie_reviews to\n",
      "[nltk_data]    |     /Users/dr.elsherif/nltk_data...\n",
      "[nltk_data]    |   Package movie_reviews is already up-to-date!\n",
      "[nltk_data]    | Downloading package mte_teip5 to\n",
      "[nltk_data]    |     /Users/dr.elsherif/nltk_data...\n",
      "[nltk_data]    |   Package mte_teip5 is already up-to-date!\n",
      "[nltk_data]    | Downloading package mwa_ppdb to\n",
      "[nltk_data]    |     /Users/dr.elsherif/nltk_data...\n",
      "[nltk_data]    |   Package mwa_ppdb is already up-to-date!\n",
      "[nltk_data]    | Downloading package names to\n",
      "[nltk_data]    |     /Users/dr.elsherif/nltk_data...\n",
      "[nltk_data]    |   Package names is already up-to-date!\n",
      "[nltk_data]    | Downloading package nombank.1.0 to\n",
      "[nltk_data]    |     /Users/dr.elsherif/nltk_data...\n",
      "[nltk_data]    |   Package nombank.1.0 is already up-to-date!\n",
      "[nltk_data]    | Downloading package nonbreaking_prefixes to\n",
      "[nltk_data]    |     /Users/dr.elsherif/nltk_data...\n",
      "[nltk_data]    |   Package nonbreaking_prefixes is already up-to-date!\n",
      "[nltk_data]    | Downloading package nps_chat to\n",
      "[nltk_data]    |     /Users/dr.elsherif/nltk_data...\n",
      "[nltk_data]    |   Package nps_chat is already up-to-date!\n",
      "[nltk_data]    | Downloading package omw to\n",
      "[nltk_data]    |     /Users/dr.elsherif/nltk_data...\n",
      "[nltk_data]    |   Package omw is already up-to-date!\n",
      "[nltk_data]    | Downloading package omw-1.4 to\n",
      "[nltk_data]    |     /Users/dr.elsherif/nltk_data...\n",
      "[nltk_data]    |   Package omw-1.4 is already up-to-date!\n",
      "[nltk_data]    | Downloading package opinion_lexicon to\n",
      "[nltk_data]    |     /Users/dr.elsherif/nltk_data...\n",
      "[nltk_data]    |   Package opinion_lexicon is already up-to-date!\n",
      "[nltk_data]    | Downloading package panlex_swadesh to\n",
      "[nltk_data]    |     /Users/dr.elsherif/nltk_data...\n",
      "[nltk_data]    |   Package panlex_swadesh is already up-to-date!\n",
      "[nltk_data]    | Downloading package paradigms to\n",
      "[nltk_data]    |     /Users/dr.elsherif/nltk_data...\n",
      "[nltk_data]    |   Package paradigms is already up-to-date!\n",
      "[nltk_data]    | Downloading package pe08 to\n",
      "[nltk_data]    |     /Users/dr.elsherif/nltk_data...\n",
      "[nltk_data]    |   Package pe08 is already up-to-date!\n",
      "[nltk_data]    | Downloading package perluniprops to\n",
      "[nltk_data]    |     /Users/dr.elsherif/nltk_data...\n",
      "[nltk_data]    |   Package perluniprops is already up-to-date!\n",
      "[nltk_data]    | Downloading package pil to\n",
      "[nltk_data]    |     /Users/dr.elsherif/nltk_data...\n",
      "[nltk_data]    |   Package pil is already up-to-date!\n",
      "[nltk_data]    | Downloading package pl196x to\n",
      "[nltk_data]    |     /Users/dr.elsherif/nltk_data...\n",
      "[nltk_data]    |   Package pl196x is already up-to-date!\n",
      "[nltk_data]    | Downloading package porter_test to\n",
      "[nltk_data]    |     /Users/dr.elsherif/nltk_data...\n",
      "[nltk_data]    |   Package porter_test is already up-to-date!\n",
      "[nltk_data]    | Downloading package ppattach to\n",
      "[nltk_data]    |     /Users/dr.elsherif/nltk_data...\n",
      "[nltk_data]    |   Package ppattach is already up-to-date!\n",
      "[nltk_data]    | Downloading package problem_reports to\n",
      "[nltk_data]    |     /Users/dr.elsherif/nltk_data...\n",
      "[nltk_data]    |   Package problem_reports is already up-to-date!\n",
      "[nltk_data]    | Downloading package product_reviews_1 to\n",
      "[nltk_data]    |     /Users/dr.elsherif/nltk_data...\n",
      "[nltk_data]    |   Package product_reviews_1 is already up-to-date!\n",
      "[nltk_data]    | Downloading package product_reviews_2 to\n",
      "[nltk_data]    |     /Users/dr.elsherif/nltk_data...\n",
      "[nltk_data]    |   Package product_reviews_2 is already up-to-date!\n",
      "[nltk_data]    | Downloading package propbank to\n",
      "[nltk_data]    |     /Users/dr.elsherif/nltk_data...\n",
      "[nltk_data]    |   Package propbank is already up-to-date!\n",
      "[nltk_data]    | Downloading package pros_cons to\n",
      "[nltk_data]    |     /Users/dr.elsherif/nltk_data...\n",
      "[nltk_data]    |   Package pros_cons is already up-to-date!\n",
      "[nltk_data]    | Downloading package ptb to\n",
      "[nltk_data]    |     /Users/dr.elsherif/nltk_data...\n",
      "[nltk_data]    |   Package ptb is already up-to-date!\n",
      "[nltk_data]    | Downloading package punkt to\n",
      "[nltk_data]    |     /Users/dr.elsherif/nltk_data...\n",
      "[nltk_data]    |   Package punkt is already up-to-date!\n",
      "[nltk_data]    | Downloading package punkt_tab to\n",
      "[nltk_data]    |     /Users/dr.elsherif/nltk_data...\n",
      "[nltk_data]    |   Package punkt_tab is already up-to-date!\n",
      "[nltk_data]    | Downloading package qc to\n",
      "[nltk_data]    |     /Users/dr.elsherif/nltk_data...\n",
      "[nltk_data]    |   Package qc is already up-to-date!\n",
      "[nltk_data]    | Downloading package reuters to\n",
      "[nltk_data]    |     /Users/dr.elsherif/nltk_data...\n",
      "[nltk_data]    |   Package reuters is already up-to-date!\n",
      "[nltk_data]    | Downloading package rslp to\n",
      "[nltk_data]    |     /Users/dr.elsherif/nltk_data...\n",
      "[nltk_data]    |   Package rslp is already up-to-date!\n",
      "[nltk_data]    | Downloading package rte to\n",
      "[nltk_data]    |     /Users/dr.elsherif/nltk_data...\n",
      "[nltk_data]    |   Package rte is already up-to-date!\n",
      "[nltk_data]    | Downloading package sample_grammars to\n",
      "[nltk_data]    |     /Users/dr.elsherif/nltk_data...\n",
      "[nltk_data]    |   Package sample_grammars is already up-to-date!\n",
      "[nltk_data]    | Downloading package semcor to\n",
      "[nltk_data]    |     /Users/dr.elsherif/nltk_data...\n",
      "[nltk_data]    |   Package semcor is already up-to-date!\n",
      "[nltk_data]    | Downloading package senseval to\n",
      "[nltk_data]    |     /Users/dr.elsherif/nltk_data...\n",
      "[nltk_data]    |   Package senseval is already up-to-date!\n",
      "[nltk_data]    | Downloading package sentence_polarity to\n",
      "[nltk_data]    |     /Users/dr.elsherif/nltk_data...\n",
      "[nltk_data]    |   Package sentence_polarity is already up-to-date!\n",
      "[nltk_data]    | Downloading package sentiwordnet to\n",
      "[nltk_data]    |     /Users/dr.elsherif/nltk_data...\n",
      "[nltk_data]    |   Package sentiwordnet is already up-to-date!\n",
      "[nltk_data]    | Downloading package shakespeare to\n",
      "[nltk_data]    |     /Users/dr.elsherif/nltk_data...\n",
      "[nltk_data]    |   Package shakespeare is already up-to-date!\n",
      "[nltk_data]    | Downloading package sinica_treebank to\n",
      "[nltk_data]    |     /Users/dr.elsherif/nltk_data...\n",
      "[nltk_data]    |   Package sinica_treebank is already up-to-date!\n",
      "[nltk_data]    | Downloading package smultron to\n",
      "[nltk_data]    |     /Users/dr.elsherif/nltk_data...\n",
      "[nltk_data]    |   Package smultron is already up-to-date!\n",
      "[nltk_data]    | Downloading package snowball_data to\n",
      "[nltk_data]    |     /Users/dr.elsherif/nltk_data...\n",
      "[nltk_data]    |   Package snowball_data is already up-to-date!\n",
      "[nltk_data]    | Downloading package spanish_grammars to\n",
      "[nltk_data]    |     /Users/dr.elsherif/nltk_data...\n",
      "[nltk_data]    |   Package spanish_grammars is already up-to-date!\n",
      "[nltk_data]    | Downloading package state_union to\n",
      "[nltk_data]    |     /Users/dr.elsherif/nltk_data...\n",
      "[nltk_data]    |   Package state_union is already up-to-date!\n",
      "[nltk_data]    | Downloading package stopwords to\n",
      "[nltk_data]    |     /Users/dr.elsherif/nltk_data...\n",
      "[nltk_data]    |   Package stopwords is already up-to-date!\n",
      "[nltk_data]    | Downloading package subjectivity to\n",
      "[nltk_data]    |     /Users/dr.elsherif/nltk_data...\n",
      "[nltk_data]    |   Package subjectivity is already up-to-date!\n",
      "[nltk_data]    | Downloading package swadesh to\n",
      "[nltk_data]    |     /Users/dr.elsherif/nltk_data...\n",
      "[nltk_data]    |   Package swadesh is already up-to-date!\n",
      "[nltk_data]    | Downloading package switchboard to\n",
      "[nltk_data]    |     /Users/dr.elsherif/nltk_data...\n",
      "[nltk_data]    |   Package switchboard is already up-to-date!\n",
      "[nltk_data]    | Downloading package tagsets to\n",
      "[nltk_data]    |     /Users/dr.elsherif/nltk_data...\n",
      "[nltk_data]    |   Package tagsets is already up-to-date!\n",
      "[nltk_data]    | Downloading package tagsets_json to\n",
      "[nltk_data]    |     /Users/dr.elsherif/nltk_data...\n",
      "[nltk_data]    |   Package tagsets_json is already up-to-date!\n",
      "[nltk_data]    | Downloading package timit to\n",
      "[nltk_data]    |     /Users/dr.elsherif/nltk_data...\n",
      "[nltk_data]    |   Package timit is already up-to-date!\n",
      "[nltk_data]    | Downloading package toolbox to\n",
      "[nltk_data]    |     /Users/dr.elsherif/nltk_data...\n",
      "[nltk_data]    |   Package toolbox is already up-to-date!\n",
      "[nltk_data]    | Downloading package treebank to\n",
      "[nltk_data]    |     /Users/dr.elsherif/nltk_data...\n",
      "[nltk_data]    |   Package treebank is already up-to-date!\n",
      "[nltk_data]    | Downloading package twitter_samples to\n",
      "[nltk_data]    |     /Users/dr.elsherif/nltk_data...\n",
      "[nltk_data]    |   Package twitter_samples is already up-to-date!\n",
      "[nltk_data]    | Downloading package udhr to\n",
      "[nltk_data]    |     /Users/dr.elsherif/nltk_data...\n",
      "[nltk_data]    |   Package udhr is already up-to-date!\n",
      "[nltk_data]    | Downloading package udhr2 to\n",
      "[nltk_data]    |     /Users/dr.elsherif/nltk_data...\n",
      "[nltk_data]    |   Package udhr2 is already up-to-date!\n",
      "[nltk_data]    | Downloading package unicode_samples to\n",
      "[nltk_data]    |     /Users/dr.elsherif/nltk_data...\n",
      "[nltk_data]    |   Package unicode_samples is already up-to-date!\n",
      "[nltk_data]    | Downloading package universal_tagset to\n",
      "[nltk_data]    |     /Users/dr.elsherif/nltk_data...\n",
      "[nltk_data]    |   Package universal_tagset is already up-to-date!\n",
      "[nltk_data]    | Downloading package universal_treebanks_v20 to\n",
      "[nltk_data]    |     /Users/dr.elsherif/nltk_data...\n",
      "[nltk_data]    |   Package universal_treebanks_v20 is already up-to-\n",
      "[nltk_data]    |       date!\n",
      "[nltk_data]    | Downloading package vader_lexicon to\n",
      "[nltk_data]    |     /Users/dr.elsherif/nltk_data...\n",
      "[nltk_data]    |   Package vader_lexicon is already up-to-date!\n",
      "[nltk_data]    | Downloading package verbnet to\n",
      "[nltk_data]    |     /Users/dr.elsherif/nltk_data...\n",
      "[nltk_data]    |   Package verbnet is already up-to-date!\n",
      "[nltk_data]    | Downloading package verbnet3 to\n",
      "[nltk_data]    |     /Users/dr.elsherif/nltk_data...\n",
      "[nltk_data]    |   Package verbnet3 is already up-to-date!\n",
      "[nltk_data]    | Downloading package webtext to\n",
      "[nltk_data]    |     /Users/dr.elsherif/nltk_data...\n",
      "[nltk_data]    |   Package webtext is already up-to-date!\n",
      "[nltk_data]    | Downloading package wmt15_eval to\n",
      "[nltk_data]    |     /Users/dr.elsherif/nltk_data...\n",
      "[nltk_data]    |   Package wmt15_eval is already up-to-date!\n",
      "[nltk_data]    | Downloading package word2vec_sample to\n",
      "[nltk_data]    |     /Users/dr.elsherif/nltk_data...\n",
      "[nltk_data]    |   Package word2vec_sample is already up-to-date!\n",
      "[nltk_data]    | Downloading package wordnet to\n",
      "[nltk_data]    |     /Users/dr.elsherif/nltk_data...\n",
      "[nltk_data]    |   Package wordnet is already up-to-date!\n",
      "[nltk_data]    | Downloading package wordnet2021 to\n",
      "[nltk_data]    |     /Users/dr.elsherif/nltk_data...\n",
      "[nltk_data]    |   Package wordnet2021 is already up-to-date!\n",
      "[nltk_data]    | Downloading package wordnet2022 to\n",
      "[nltk_data]    |     /Users/dr.elsherif/nltk_data...\n",
      "[nltk_data]    |   Package wordnet2022 is already up-to-date!\n",
      "[nltk_data]    | Downloading package wordnet31 to\n",
      "[nltk_data]    |     /Users/dr.elsherif/nltk_data...\n",
      "[nltk_data]    |   Package wordnet31 is already up-to-date!\n",
      "[nltk_data]    | Downloading package wordnet_ic to\n",
      "[nltk_data]    |     /Users/dr.elsherif/nltk_data...\n",
      "[nltk_data]    |   Package wordnet_ic is already up-to-date!\n",
      "[nltk_data]    | Downloading package words to\n",
      "[nltk_data]    |     /Users/dr.elsherif/nltk_data...\n",
      "[nltk_data]    |   Package words is already up-to-date!\n",
      "[nltk_data]    | Downloading package ycoe to\n",
      "[nltk_data]    |     /Users/dr.elsherif/nltk_data...\n",
      "[nltk_data]    |   Package ycoe is already up-to-date!\n",
      "[nltk_data]    | \n",
      "[nltk_data]  Done downloading collection all\n"
     ]
    },
    {
     "data": {
      "text/plain": [
       "True"
      ]
     },
     "execution_count": 14,
     "metadata": {},
     "output_type": "execute_result"
    }
   ],
   "source": [
    "#nltk.download()\n",
    "nltk.download('all')"
   ]
  },
  {
   "cell_type": "markdown",
   "metadata": {},
   "source": [
    "Einmal heruntergeladen kann der [WordNet-Lemmatisierer](https://www.nltk.org/api/nltk.stem.html#module-nltk.stem.wordnet) importiert werden."
   ]
  },
  {
   "cell_type": "code",
   "execution_count": 15,
   "metadata": {
    "ExecuteTime": {
     "end_time": "2023-10-22T11:30:13.923613Z",
     "start_time": "2023-10-22T11:30:13.918224Z"
    }
   },
   "outputs": [],
   "source": [
    "from nltk.stem import WordNetLemmatizer\n",
    "wnl = WordNetLemmatizer()"
   ]
  },
  {
   "cell_type": "markdown",
   "metadata": {
    "slideshow": {
     "slide_type": "subslide"
    }
   },
   "source": [
    "Der WordNet-Lemmatisierer normalisiert eine Eingabe, indem in der WordNet-Datenbank das dazu passende Lemma gesucht und ausgegeben wird. Wird kein passendes Lemma gefunden, wird die Eingabe unverändert wieder ausgegeben.\n",
    "\n",
    "Unterschiede zum Snowball-Stemmer:\n",
    "- wesentlich langsamer, da dabei die WordNet-Datenbank durchsucht wird\n",
    "- Erkennung von **Vokalmodifikation** (*women* $\\Rightarrow$ *woman*) und **Unregelmäßigkeiten** (*mice* $\\Rightarrow$ *mouse*)\n",
    "- Ausgabe von vollständigen Wortformen\n",
    "- keine Normalisierung von unbekannten Wortformen (*flooked*)"
   ]
  },
  {
   "cell_type": "code",
   "execution_count": 16,
   "metadata": {
    "ExecuteTime": {
     "end_time": "2023-10-22T11:30:18.803823Z",
     "start_time": "2023-10-22T11:30:17.109028Z"
    }
   },
   "outputs": [
    {
     "name": "stdout",
     "output_type": "stream",
     "text": [
      "Input               Sowball Stemmer     WordNet Lemmatizer  \n",
      "-----               ---------------     ------------------  \n",
      "said                said                said                \n",
      "connections         connect             connection          \n",
      "connectionistic     connectionist       connectionistic     \n",
      "better              better              better              \n",
      "is                  is                  is                  \n",
      "flies               fli                 fly                 \n",
      "friendly            friend              friendly            \n",
      "friendliest         friendliest         friendliest         \n",
      "destabilize         destabil            destabilize         \n",
      "misunderstandings   misunderstand       misunderstanding    \n",
      "football            footbal             football            \n",
      "mice                mice                mouse               \n",
      "women               women               woman               \n",
      "ate                 ate                 ate                 \n",
      "generously          generous            generously          \n",
      "flooked             flook               flooked             \n"
     ]
    }
   ],
   "source": [
    "word_list = [\"said\",\"connections\",\"connectionistic\",\"better\",\"is\",\"flies\",\"friendly\",\"friendliest\",\"destabilize\",\"misunderstandings\",\"football\",\"mice\",\"women\",\"ate\",\"generously\",\"flooked\"]\n",
    "print(\"{0:20}{1:20}{2:20}\".format(\"Input\",\"Sowball Stemmer\",\"WordNet Lemmatizer\"))\n",
    "print(\"{0:20}{1:20}{2:20}\".format(\"-----\",\"---------------\",\"------------------\"))\n",
    "for word in word_list:\n",
    "    print(\"{0:20}{1:20}{2:20}\".format(word,sste.stem(word),wnl.lemmatize(word)))"
   ]
  },
  {
   "cell_type": "markdown",
   "metadata": {
    "slideshow": {
     "slide_type": "subslide"
    }
   },
   "source": [
    "Standardmäßig nimmt der WordNet-Lemmatisierer an, dass die Eingabe ein Nomen ist. Dies kann mit der zweiten Option geändert werden:\n",
    "\n",
    "- \"n\": Nomen\n",
    "- \"v\": Verb\n",
    "- \"a\": Adjektiv\n",
    "- \"r\": Adverb"
   ]
  },
  {
   "cell_type": "code",
   "execution_count": 17,
   "metadata": {
    "ExecuteTime": {
     "end_time": "2023-10-22T11:31:12.713266Z",
     "start_time": "2023-10-22T11:31:12.708289Z"
    }
   },
   "outputs": [
    {
     "name": "stdout",
     "output_type": "stream",
     "text": [
      "is : be\n",
      "better : good\n",
      "better : well\n",
      "mice : mice\n"
     ]
    }
   ],
   "source": [
    "print(\"is :\", wnl.lemmatize(\"is\",pos=\"v\"))\n",
    "print(\"better :\", wnl.lemmatize(\"better\",pos=\"a\"))\n",
    "print(\"better :\", wnl.lemmatize(\"better\",pos=\"r\"))\n",
    "print(\"mice :\", wnl.lemmatize(\"mice\",pos=\"a\"))"
   ]
  },
  {
   "cell_type": "markdown",
   "metadata": {
    "slideshow": {
     "slide_type": "slide"
    }
   },
   "source": [
    "## <span style=\"color:red\">Aufgaben II</span>"
   ]
  },
  {
   "cell_type": "markdown",
   "metadata": {},
   "source": [
    "<span style=\"color:red\">A2:</span> Lemmatisieren Sie den News-Teil des Brown Corpus mit `wnl.lemmatize()`, indem Sie abhängig vom POS-Tag eines Worttokens das `pos`-Argument von `wnl.lemmatize()` spezifizieren."
   ]
  },
  {
   "cell_type": "markdown",
   "metadata": {},
   "source": [
    "Hinweise:\n",
    "- Die POS-Tags sehen Sie, wenn sie `tagged_words()` als Corpus-Reader verwenden."
   ]
  },
  {
   "cell_type": "code",
   "execution_count": 18,
   "metadata": {
    "ExecuteTime": {
     "end_time": "2023-10-22T11:35:45.741895Z",
     "start_time": "2023-10-22T11:35:45.730505Z"
    }
   },
   "outputs": [
    {
     "data": {
      "text/plain": [
       "[('The', 'AT'), ('Fulton', 'NP-TL'), ...]"
      ]
     },
     "execution_count": 18,
     "metadata": {},
     "output_type": "execute_result"
    }
   ],
   "source": [
    "brown.tagged_words(categories=\"news\")"
   ]
  },
  {
   "cell_type": "markdown",
   "metadata": {},
   "source": [
    "- Die POS-Tags des Brown Corpus mit Beschreibung finden Sie hier: http://korpus.uib.no/icame/manuals/BROWN/INDEX.HTM#bc6 (leider stimmt der [Wikipedia-Eintrag](https://en.wikipedia.org/wiki/Brown_Corpus#Part-of-speech_tags_used) diesbezüglich nicht)\n",
    "- Überlegen Sie sich, welche POS-Tags zu Adjektiven und Verben gehören ..."
   ]
  },
  {
   "cell_type": "code",
   "execution_count": 19,
   "metadata": {},
   "outputs": [
    {
     "name": "stdout",
     "output_type": "stream",
     "text": [
      "[('The', 'AT'), ('Fulton', 'NP-TL'), ('County', 'NN-TL'), ('Grand', 'JJ-TL'), ('Jury', 'NN-TL'), ('say', 'VBD'), ('Friday', 'NR'), ('an', 'AT'), ('investigation', 'NN'), ('of', 'IN'), (\"Atlanta's\", 'NP$'), ('recent', 'JJ'), ('primary', 'NN'), ('election', 'NN'), ('produce', 'VBD'), ('``', '``'), ('no', 'AT'), ('evidence', 'NN'), (\"''\", \"''\"), ('that', 'CS'), ('any', 'DTI'), ('irregularities', 'NNS'), ('take', 'VBD'), ('place', 'NN'), ('.', '.'), ('The', 'AT'), ('jury', 'NN'), ('further', 'RBR'), ('say', 'VBD'), ('in', 'IN'), ('term-end', 'NN'), ('presentments', 'NNS'), ('that', 'CS'), ('the', 'AT'), ('City', 'NN-TL'), ('Executive', 'JJ-TL'), ('Committee', 'NN-TL'), (',', ','), ('which', 'WDT'), ('had', 'HVD'), ('over-all', 'JJ'), ('charge', 'NN'), ('of', 'IN'), ('the', 'AT'), ('election', 'NN'), (',', ','), ('``', '``'), ('deserve', 'VBZ'), ('the', 'AT'), ('praise', 'NN'), ('and', 'CC'), ('thanks', 'NNS'), ('of', 'IN'), ('the', 'AT'), ('City', 'NN-TL'), ('of', 'IN-TL'), ('Atlanta', 'NP-TL'), (\"''\", \"''\"), ('for', 'IN'), ('the', 'AT'), ('manner', 'NN'), ('in', 'IN'), ('which', 'WDT'), ('the', 'AT'), ('election', 'NN'), ('was', 'BEDZ'), ('conduct', 'VBN'), ('.', '.'), ('The', 'AT'), ('September-October', 'NP'), ('term', 'NN'), ('jury', 'NN'), ('had', 'HVD'), ('been', 'BEN'), ('charge', 'VBN'), ('by', 'IN'), ('Fulton', 'NP-TL'), ('Superior', 'JJ-TL'), ('Court', 'NN-TL'), ('Judge', 'NN-TL'), ('Durwood', 'NP'), ('Pye', 'NP'), ('to', 'TO'), ('investigate', 'VB'), ('reports', 'NNS'), ('of', 'IN'), ('possible', 'JJ'), ('``', '``'), ('irregularities', 'NNS'), (\"''\", \"''\"), ('in', 'IN'), ('the', 'AT'), ('hard-fought', 'JJ'), ('primary', 'NN'), ('which', 'WDT'), ('was', 'BEDZ'), ('win', 'VBN'), ('by', 'IN'), ('Mayor-nominate', 'NN-TL'), ('Ivan', 'NP')]\n"
     ]
    }
   ],
   "source": [
    "# Lösung zu A2\n",
    "\n",
    "# Initialize the WordNet Lemmatizer\n",
    "wnl = WordNetLemmatizer()\n",
    "\n",
    "# Hole die tagged words aus \"news\" category\n",
    "tagged_words = brown.tagged_words(categories='news')\n",
    "\n",
    "# Function um NLTK POS tags to WordNet POS tags zu konvertieren\n",
    "def get_wordnet_pos(treebank_tag):\n",
    "    \"\"\"\n",
    "    NLTK POS tags to WordNet POS tags convertieren.\n",
    "\n",
    "    Parameters:\n",
    "    ----------\n",
    "    treebank_tag : str\n",
    "        Der POS tag aus NLTK Treebank. \n",
    "        \n",
    "    Returns:\n",
    "    -------\n",
    "    str or None\n",
    "        Den corresponding WordNet POS tag zurückgeben:\n",
    "        - 'a' for Adjektiv\n",
    "        - 'v' for Verb\n",
    "        - 'n' for nouns \n",
    "        - 'r' for Adverb\n",
    "        Oder None wenn the tag keine category entspricht.\n",
    "    \"\"\"\n",
    "    if treebank_tag.startswith('J'):\n",
    "        return 'a'  # Adjective\n",
    "    elif treebank_tag.startswith('V'):\n",
    "        return 'v'  # Verb\n",
    "    #elif treebank_tag.startswith('N'):\n",
    "    #    return 'n'  # Noun\n",
    "    #elif treebank_tag.startswith('R'):\n",
    "    #    return 'r'  # Adverb\n",
    "    else:\n",
    "        return None  \n",
    "\n",
    "# Lemmatize die Wörter based on ihren POS tags und eine liste von (lemmatized_word, POS_tag) erstellen\n",
    "lemmatized_with_tags = []\n",
    "for word, tag in tagged_words:\n",
    "    wordnet_pos = get_wordnet_pos(tag)         # Hole das WordNet POS tag\n",
    "    if wordnet_pos:  \n",
    "        lemmatized_word = wnl.lemmatize(word, pos=wordnet_pos)\n",
    "    else:\n",
    "        lemmatized_word = word  \n",
    "    lemmatized_with_tags.append((lemmatized_word, tag))     # lemmatized wort mit original tag anhängen\n",
    "\n",
    "# Drucken die lemmatized Wörter mit POS tags\n",
    "print(lemmatized_with_tags[:100]) "
   ]
  },
  {
   "cell_type": "markdown",
   "metadata": {
    "slideshow": {
     "slide_type": "slide"
    }
   },
   "source": [
    "<span style=\"color:red\">A3:</span> Geben Sie jeweils die 20 häufigsten lemmatisierten Nomen für die Textsorten `[\"news\",\"romance\",\"religion\"]` aus dem Brown Corpus an!\n",
    "\n",
    "Hinweis:\n",
    "- **Empfehlung:** Eine Frequenzverteilung der Wortformen kann man **sehr** leicht mit `FreqDist` erstellen, siehe https://www.nltk.org/api/nltk.probability.FreqDist.html. Damit und mit einem anderen kleinen Trick kann man (muss man aber nicht!) die Lösung sogar als Einzeiler realisieren."
   ]
  },
  {
   "cell_type": "code",
   "execution_count": 20,
   "metadata": {},
   "outputs": [
    {
     "name": "stdout",
     "output_type": "stream",
     "text": [
      "Top 20 nouns in news:\n",
      "mrs.: 253\n",
      "year: 244\n",
      "state: 211\n",
      "mr.: 170\n",
      "president: 143\n",
      "home: 141\n",
      "school: 125\n",
      "time: 123\n",
      "week: 120\n",
      "day: 116\n",
      "member: 109\n",
      "house: 102\n",
      "city: 99\n",
      "bill: 87\n",
      "committee: 81\n",
      "government: 79\n",
      "service: 79\n",
      "program: 77\n",
      "county: 75\n",
      "game: 75\n",
      "\n",
      "Top 20 nouns in romance:\n",
      "time: 107\n",
      "man: 100\n",
      "day: 96\n",
      "way: 88\n",
      "eye: 88\n",
      "thing: 83\n",
      "hand: 65\n",
      "night: 60\n",
      "woman: 56\n",
      "life: 56\n",
      "room: 54\n",
      "boy: 51\n",
      "head: 50\n",
      "people: 50\n",
      "mother: 50\n",
      "face: 50\n",
      "place: 49\n",
      "year: 49\n",
      "home: 48\n",
      "door: 46\n",
      "\n",
      "Top 20 nouns in religion:\n",
      "god: 138\n",
      "church: 127\n",
      "world: 95\n",
      "spirit: 71\n",
      "man: 68\n",
      "member: 60\n",
      "power: 59\n",
      "christ: 59\n",
      "life: 58\n",
      "number: 53\n",
      "year: 45\n",
      "way: 44\n",
      "faith: 43\n",
      "men: 42\n",
      "death: 42\n",
      "word: 40\n",
      "time: 40\n",
      "thing: 40\n",
      "people: 39\n",
      "england: 37\n",
      "\n"
     ]
    }
   ],
   "source": [
    "# Lösung zu A3\n",
    "\n",
    "from nltk.probability import FreqDist\n",
    "\n",
    "# Function um POS tags zu WordNet POS tags convertieren\n",
    "def get_wordnet_pos(treebank_tag):\n",
    "    if treebank_tag.startswith('N'):\n",
    "        return 'n'  # Noun\n",
    "    else:\n",
    "        return None   \n",
    "\n",
    "# Function um der 20 häufigsten lemmatized nouns in category Abrufen\n",
    "def get_top_nouns(category):\n",
    "    \"\"\"\n",
    "    Abrufen die 20 häufigsten lemmatized nouns in einer specified category.\n",
    "\n",
    "    Parameters:\n",
    "    ----------\n",
    "    category : st\n",
    "        Die category to be analysiert \n",
    "        \n",
    "    Returns:\n",
    "    -------\n",
    "    list of tuples\n",
    "        Eine liste mit den 20 häufigsten lemmatized nouns und their frequencies.\n",
    "        Jedes Tupel enthält:\n",
    "        - lemmatized noun (str)\n",
    "        - frequency (int)\n",
    "    \"\"\"\n",
    "    # die tagged wörter of category erhalten\n",
    "    tagged_words = brown.tagged_words(categories=category)\n",
    "    \n",
    "    # Lemmatize nouns und nur noun filtern\n",
    "    lemmatized_nouns = [\n",
    "        wnl.lemmatize(word.lower(), get_wordnet_pos(tag))\n",
    "        for word, tag in tagged_words\n",
    "        if get_wordnet_pos(tag) is not None\n",
    "    ]\n",
    "    # frequency distribution of lemmatized nouns erstellen\n",
    "    freq_dist = FreqDist(lemmatized_nouns)\n",
    "\n",
    "    return freq_dist.most_common(20)\n",
    "\n",
    "# Die 20 häufigsten for each category erhalten\n",
    "categories = [\"news\", \"romance\", \"religion\"]\n",
    "for category in categories:\n",
    "    print(f\"Top 20 nouns in {category}:\")\n",
    "    top_nouns = get_top_nouns(category)\n",
    "    for noun, frequency in top_nouns:\n",
    "        print(f\"{noun}: {frequency}\")\n",
    "    print() "
   ]
  },
  {
   "cell_type": "code",
   "execution_count": null,
   "metadata": {},
   "outputs": [],
   "source": []
  },
  {
   "cell_type": "code",
   "execution_count": null,
   "metadata": {},
   "outputs": [],
   "source": []
  },
  {
   "cell_type": "markdown",
   "metadata": {
    "slideshow": {
     "slide_type": "subslide"
    }
   },
   "source": [
    "<span style=\"color:red\">Fragen am Rande:</span> \n",
    "- Sind die Textsorten für Sie anhand der häufigsten Nomen erkennbar?    <span style=\"color:darkblue\"><strong>Yes, the text types are recognizable based on the most frequent nouns.</strong></span>\n",
    "- Warum funktionieren wohl auch einfache Stemmer trotz der simpleren Linguistik?    <span style=\"color:darkblue\"><strong>Probably because they primarily focus on reducing words to their root forms by cutting off common affixes</strong></span> "
   ]
  },
  {
   "cell_type": "markdown",
   "metadata": {
    "slideshow": {
     "slide_type": "slide"
    }
   },
   "source": [
    "# Normalisierung von Nicht-Standard-Worten\n",
    "\n",
    "Für Worttoken wie Zahlen, Abkürzungen und Datumsangaben gibt es spezielle Normalisierungsregeln. Z.B. können Dezimalzahlen durch die Zahl 0 ersetzt werden, und Abkürzungen durch AAA. Der Vorteil dieser Normalisierung ist, dass der Wortschatz verringert und damit das statistische Sprachmodell für viele Aufgaben verbessert wird."
   ]
  }
 ],
 "metadata": {
  "kernelspec": {
   "display_name": "Python 3 (ipykernel)",
   "language": "python",
   "name": "python3"
  },
  "language_info": {
   "codemirror_mode": {
    "name": "ipython",
    "version": 3
   },
   "file_extension": ".py",
   "mimetype": "text/x-python",
   "name": "python",
   "nbconvert_exporter": "python",
   "pygments_lexer": "ipython3",
   "version": "3.12.5"
  },
  "toc": {
   "base_numbering": 1,
   "nav_menu": {},
   "number_sections": true,
   "sideBar": true,
   "skip_h1_title": false,
   "title_cell": "Table of Contents",
   "title_sidebar": "Contents",
   "toc_cell": false,
   "toc_position": {},
   "toc_section_display": true,
   "toc_window_display": false
  }
 },
 "nbformat": 4,
 "nbformat_minor": 4
}
