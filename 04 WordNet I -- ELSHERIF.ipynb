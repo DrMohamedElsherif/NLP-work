{
 "cells": [
  {
   "cell_type": "markdown",
   "metadata": {
    "slideshow": {
     "slide_type": "slide"
    }
   },
   "source": [
    "<span style=\"color:red\">Abgegeben von (Name, Vorname):</span> \n",
    "**Elsherif, Mohamed**"
   ]
  },
  {
   "cell_type": "markdown",
   "metadata": {},
   "source": [
    "<br>\n",
    "<font size=\"6\"><strong>4. Sitzung: WordNet – Einführung</strong></font> \n",
    "<br>\n",
    "<br>\n",
    "\n",
    "In den bisherigen Sitzungen haben wir quasi mit der Wortoberfläche gearbeitet und diese normalisiert (für eine grobe Charakterisierung von Texten und Textsorten) oder verglichen (für die Rechtschreibkorrektur). \n",
    "\n",
    "Aber wie kann man eigentlich die \"tiefen\" Eigenschaften von Worten repräsentieren, nämlich deren **\"Bedeutungen\"**? \n",
    "\n",
    "In diesem Notebook werden wir einen sehr populären Ansatz kennenlernen, der die konzeptuellen/ontologischen Bezüge zwischen Bedeutungen ins Zentrum stellt.\n",
    "\n",
    "Für dieses Notebook gibt es eine begeleitendes Skript auf Moodle: `skript-wordnet.pdf`"
   ]
  },
  {
   "cell_type": "markdown",
   "metadata": {
    "slideshow": {
     "slide_type": "slide"
    }
   },
   "source": [
    "# Über WordNet\n",
    "\n",
    "[WordNet](https://wordnet.princeton.edu) ist eine manuell erstellte Datenbank, in der Basisformen von Wörtern (genauer gesagt **Lemmata**) durch semantische Relationen miteinander verbunden sind. WordNet bildet also ein semantisches Netz.\n",
    "\n",
    "Die Knoten des semantischen Netzes bilden sogenannte **Synsets**, Mengen von (Ketten von) Lemmata, die in bestimmten Kontexten **synonym** sind.\n",
    "- Beispiel: {*bank*, *financial institute*}"
   ]
  },
  {
   "cell_type": "markdown",
   "metadata": {
    "slideshow": {
     "slide_type": "subslide"
    }
   },
   "source": [
    "Es bestehen zudem **semantische Relationen** zwischen Synsets:\n",
    "- Hyponymie (`is-a`): *fly* $\\rightarrow$ *travel*\n",
    "- Troponymie (`is-a`): *walk* $\\rightarrow$ *stroll* \n",
    "- Meronymie (`part-of`): *leg* $\\rightarrow$ *table*\n",
    "- Folgebeziehung: *snore* $\\rightarrow$ *sleep* \n",
    "- Antonymie: *increase* $\\leftrightarrow$ *decrease*\n",
    "- derivationelle Beziehung: *destroy* $\\leftrightarrow$ *destruction*\n",
    "\n",
    "Die Synsets und semantischen Relationen bilden zusammen einen gerichteten semantischen Graphen."
   ]
  },
  {
   "cell_type": "markdown",
   "metadata": {
    "slideshow": {
     "slide_type": "subslide"
    }
   },
   "source": [
    "Umfang Version 3.1 von 2012 (Quelle [Wikipedia](https://en.wikipedia.org/wiki/WordNet)):\n",
    "- 155 327 Lemmata\n",
    "- 175 979 Synsets (~Bedeutungen)\n",
    "- 207 016 Lemma-Synset-Paare\n",
    "- durchschn. Lemma-Ambiguität: 1,34\n",
    "- durchschn. Synset-Umfang: 1,176 "
   ]
  },
  {
   "cell_type": "markdown",
   "metadata": {
    "slideshow": {
     "slide_type": "fragment"
    }
   },
   "source": [
    "WordNet enthält eigentlich 4 fast getrennte Teilnetze entsprechend der Wortart der Lemmata:\n",
    "- Nomen: 117 798 (1,23 Bedeutungen/Lemma)\n",
    "- Verben: 11 529 (2,16 Bedeutungen/Lemma)\n",
    "- Adjektive: 22 479\n",
    "- Adverbien: 4 481"
   ]
  },
  {
   "cell_type": "markdown",
   "metadata": {
    "slideshow": {
     "slide_type": "slide"
    }
   },
   "source": [
    " \n",
    "# Installation in NLTK\n",
    "\n",
    "WordNet steht für NLTK als Download zur Verfügung:"
   ]
  },
  {
   "cell_type": "code",
   "execution_count": 1,
   "metadata": {
    "ExecuteTime": {
     "end_time": "2021-11-30T15:40:14.648712Z",
     "start_time": "2021-11-30T15:40:13.674024Z"
    },
    "slideshow": {
     "slide_type": "-"
    }
   },
   "outputs": [
    {
     "name": "stderr",
     "output_type": "stream",
     "text": [
      "[nltk_data] Downloading package wordnet to\n",
      "[nltk_data]     /Users/dr.elsherif/nltk_data...\n",
      "[nltk_data]   Package wordnet is already up-to-date!\n"
     ]
    },
    {
     "data": {
      "text/plain": [
       "True"
      ]
     },
     "execution_count": 1,
     "metadata": {},
     "output_type": "execute_result"
    }
   ],
   "source": [
    "import nltk\n",
    "nltk.download('wordnet')"
   ]
  },
  {
   "cell_type": "markdown",
   "metadata": {
    "slideshow": {
     "slide_type": "fragment"
    }
   },
   "source": [
    "Nach der Installation kann WordNet als Korpus importiert werden."
   ]
  },
  {
   "cell_type": "code",
   "execution_count": 2,
   "metadata": {
    "ExecuteTime": {
     "end_time": "2021-11-30T15:40:14.653753Z",
     "start_time": "2021-11-30T15:40:14.650787Z"
    }
   },
   "outputs": [],
   "source": [
    "from nltk.corpus import wordnet as wn"
   ]
  },
  {
   "cell_type": "markdown",
   "metadata": {
    "slideshow": {
     "slide_type": "slide"
    }
   },
   "source": [
    "# Einfache Abfragen\n",
    "\n",
    "Die Beschreibung des NLTK-Moduls `wordnet` findet man hier: https://www.nltk.org/api/nltk.corpus.reader.html#module-nltk.corpus.reader.wordnet\n",
    "\n",
    "Die abrufbaren Objekte sind \n",
    "- Synsets via `synsets()` und `synset()`\n",
    "- Lemmata via `lemmas()` und `lemma()`"
   ]
  },
  {
   "cell_type": "markdown",
   "metadata": {
    "slideshow": {
     "slide_type": "slide"
    }
   },
   "source": [
    "## Synsets\n",
    "\n",
    "Eine **Liste von Synsets** abhängig von den darin enthaltenen Lemmata oder POS-Tags kann über die Methode `synsets()` abgerufen werden.\n",
    "\n",
    "Argumente von `synsets(name, pos=None, lang='eng', check_exceptions=True)`\n",
    "- `name`: eine Wortform eines Lemmas im Synset\n",
    "- `pos=`: ein POS-Tag, z.B. `wn.VERB`, `wn.NOUN`, `wn.ADV`, `wn.ADJ`\n",
    "- `lang=`: eine Sprachkürzel, z.B. `eng`, `fra`, `jpn`, ... (siehe `wn.langs()`)\n",
    "- `check_exceptions=True`: weitere morphologische Suche"
   ]
  },
  {
   "cell_type": "code",
   "execution_count": 3,
   "metadata": {
    "ExecuteTime": {
     "end_time": "2021-11-30T15:40:15.961255Z",
     "start_time": "2021-11-30T15:40:14.655543Z"
    },
    "scrolled": true,
    "slideshow": {
     "slide_type": "fragment"
    }
   },
   "outputs": [
    {
     "data": {
      "text/plain": [
       "[Synset('bank.n.01'),\n",
       " Synset('depository_financial_institution.n.01'),\n",
       " Synset('bank.n.03'),\n",
       " Synset('bank.n.04'),\n",
       " Synset('bank.n.05'),\n",
       " Synset('bank.n.06'),\n",
       " Synset('bank.n.07'),\n",
       " Synset('savings_bank.n.02'),\n",
       " Synset('bank.n.09'),\n",
       " Synset('bank.n.10'),\n",
       " Synset('bank.v.01'),\n",
       " Synset('bank.v.02'),\n",
       " Synset('bank.v.03'),\n",
       " Synset('bank.v.04'),\n",
       " Synset('bank.v.05'),\n",
       " Synset('deposit.v.02'),\n",
       " Synset('bank.v.07'),\n",
       " Synset('trust.v.01')]"
      ]
     },
     "execution_count": 3,
     "metadata": {},
     "output_type": "execute_result"
    }
   ],
   "source": [
    "wn.synsets('bank')"
   ]
  },
  {
   "cell_type": "markdown",
   "metadata": {
    "slideshow": {
     "slide_type": "subslide"
    }
   },
   "source": [
    "Alternativ kann mit `synset(synsetName)` ein einzelnes Synset aufgrund eines vollständigen Synset-Bezeichners abgerufen werden."
   ]
  },
  {
   "cell_type": "code",
   "execution_count": 4,
   "metadata": {
    "ExecuteTime": {
     "end_time": "2021-11-30T15:40:15.966358Z",
     "start_time": "2021-11-30T15:40:15.963193Z"
    }
   },
   "outputs": [
    {
     "data": {
      "text/plain": [
       "Synset('bank.n.01')"
      ]
     },
     "execution_count": 4,
     "metadata": {},
     "output_type": "execute_result"
    }
   ],
   "source": [
    "wn.synset('bank.n.01')"
   ]
  },
  {
   "cell_type": "markdown",
   "metadata": {
    "slideshow": {
     "slide_type": "subslide"
    }
   },
   "source": [
    "Es gibt eine Reihe von Methoden, mit deren Hilfe auf Attribute eines Synset-Objekts zugegriffen werden können. \n",
    "- `name()`: der Bezeichner des Synsets als String\n",
    "- `pos()`: das POS-Tag des Synsets\n",
    "- `lemmas()`: Liste der [WN-Lemmata](#WordNet-Lemmata-[eigentlich-Lexeme]) (d.h. Lexeme), die zu einem Synset gehören (und deren Wortformen in bestimmten Kontexten synonym sind).\n",
    "- `definition()`: Definition der Bedeutung des Synsets \n",
    "- `examples()`: Liste von Beispielverwendungen des Synsets"
   ]
  },
  {
   "cell_type": "code",
   "execution_count": 5,
   "metadata": {
    "ExecuteTime": {
     "end_time": "2021-11-30T15:40:15.976947Z",
     "start_time": "2021-11-30T15:40:15.967784Z"
    }
   },
   "outputs": [
    {
     "name": "stdout",
     "output_type": "stream",
     "text": [
      "Name:       bank.n.01\n",
      "POS:        n\n",
      "WN-Lemmata: [Lemma('bank.n.01.bank')]\n",
      "Definition: sloping land (especially the slope beside a body of water)\n",
      "Beispiele:  ['they pulled the canoe up on the bank', 'he sat on the bank of the river and watched the currents']\n"
     ]
    }
   ],
   "source": [
    "synsetID = 'bank.n.01'\n",
    "print(\"Name:       \" + str(wn.synset(synsetID).name()))\n",
    "print(\"POS:        \" + str(wn.synset(synsetID).pos()))\n",
    "print(\"WN-Lemmata: \" + str(wn.synset(synsetID).lemmas()))\n",
    "print(\"Definition: \" + str(wn.synset(synsetID).definition()))\n",
    "print(\"Beispiele:  \" + str(wn.synset(synsetID).examples()))"
   ]
  },
  {
   "cell_type": "markdown",
   "metadata": {
    "slideshow": {
     "slide_type": "subslide"
    }
   },
   "source": [
    "Man beachte, dass man bei `lemmas()` die oben schon erwähnten Sprach-Codes verwenden kann: `eng`, `fra`, `jpn`, ... (siehe `wn.langs()`)"
   ]
  },
  {
   "cell_type": "code",
   "execution_count": 6,
   "metadata": {
    "ExecuteTime": {
     "end_time": "2021-11-30T15:40:16.261543Z",
     "start_time": "2021-11-30T15:40:15.979518Z"
    }
   },
   "outputs": [
    {
     "data": {
      "text/plain": [
       "[Lemma('bank.n.01.土手'),\n",
       " Lemma('bank.n.01.岸'),\n",
       " Lemma('bank.n.01.岸べ'),\n",
       " Lemma('bank.n.01.岸辺'),\n",
       " Lemma('bank.n.01.斜面')]"
      ]
     },
     "execution_count": 6,
     "metadata": {},
     "output_type": "execute_result"
    }
   ],
   "source": [
    "wn.synset('bank.n.01').lemmas('jpn')"
   ]
  },
  {
   "cell_type": "markdown",
   "metadata": {},
   "source": [
    "Die Synsets sind also sprachunabhängig!"
   ]
  },
  {
   "cell_type": "markdown",
   "metadata": {
    "slideshow": {
     "slide_type": "slide"
    }
   },
   "source": [
    "## WordNet-Lemmata [eigentlich Lexeme]\n",
    "\n",
    "Ein WN-Lemma sind im Grunde ein Synset, das hinsichtlich der Wortform spezifiert ist.\n",
    "- depository_financial_institution.n.01 $\\to$ depository_financial_institution.n.01.bank\n",
    "- depository_financial_institution.n.01 $\\to$ depository_financial_institution.n.01.depository_financial_institution"
   ]
  },
  {
   "cell_type": "markdown",
   "metadata": {
    "slideshow": {
     "slide_type": "fragment"
    }
   },
   "source": [
    "**ACHTUNG:** NLTK verwendet den Lemma-Begriff so: \n",
    "\n",
    "    \"The lexical entry for a single morphological form of a sense-disambiguated word\" \n",
    "\n",
    "Dies entspricht dem, was wir im Skript `skript-morphologie-wortbegriffe.pdf` ein **Lexem** genannt haben. Lexeme sind nämlich eigentlich Lemmata mit einer festgelegten Bedeutung. Um deutlich zu machen, wann \"Lemma\" entsprechend der WordNet-Terminologie gemeint ist, werde ich in solchen Fällen **WN-Lemma** (= Lexem) schreiben."
   ]
  },
  {
   "cell_type": "markdown",
   "metadata": {
    "slideshow": {
     "slide_type": "subslide"
    }
   },
   "source": [
    "Spiegelbildlich zu `synsets()` und `synset()` gibt es `lemmas(name, pos=None, lang='eng')` und `lemma(name, lang='eng')`."
   ]
  },
  {
   "cell_type": "code",
   "execution_count": 7,
   "metadata": {
    "ExecuteTime": {
     "end_time": "2021-11-30T15:40:16.267714Z",
     "start_time": "2021-11-30T15:40:16.263485Z"
    }
   },
   "outputs": [
    {
     "data": {
      "text/plain": [
       "[Lemma('bank.n.01.bank'),\n",
       " Lemma('depository_financial_institution.n.01.bank'),\n",
       " Lemma('bank.n.03.bank'),\n",
       " Lemma('bank.n.04.bank'),\n",
       " Lemma('bank.n.05.bank'),\n",
       " Lemma('bank.n.06.bank'),\n",
       " Lemma('bank.n.07.bank'),\n",
       " Lemma('savings_bank.n.02.bank'),\n",
       " Lemma('bank.n.09.bank'),\n",
       " Lemma('bank.n.10.bank'),\n",
       " Lemma('bank.v.01.bank'),\n",
       " Lemma('bank.v.02.bank'),\n",
       " Lemma('bank.v.03.bank'),\n",
       " Lemma('bank.v.04.bank'),\n",
       " Lemma('bank.v.05.bank'),\n",
       " Lemma('deposit.v.02.bank'),\n",
       " Lemma('bank.v.07.bank'),\n",
       " Lemma('trust.v.01.bank')]"
      ]
     },
     "execution_count": 7,
     "metadata": {},
     "output_type": "execute_result"
    }
   ],
   "source": [
    "wn.lemmas('bank')"
   ]
  },
  {
   "cell_type": "code",
   "execution_count": 8,
   "metadata": {},
   "outputs": [
    {
     "data": {
      "text/plain": [
       "Lemma('bank.n.01.bank')"
      ]
     },
     "execution_count": 8,
     "metadata": {},
     "output_type": "execute_result"
    }
   ],
   "source": [
    "wn.lemma('bank.n.01.bank')"
   ]
  },
  {
   "cell_type": "markdown",
   "metadata": {
    "slideshow": {
     "slide_type": "-"
    }
   },
   "source": [
    "Der Bezeichner für WN-Lemmata enthält einen Synset-Bezeichner (z.B. `bank.n.01`) gefolgt von einem Lemma (z.B. `bank`)."
   ]
  },
  {
   "cell_type": "markdown",
   "metadata": {
    "slideshow": {
     "slide_type": "subslide"
    }
   },
   "source": [
    "Wie bei `synset()` gibt es eine Reihe von Methoden, mit deren Hilfe auf Attribute des WN-Lemma-Objekts zugegriffen werden können. \n",
    "- `name()`: der Bezeichner des WN-Lemma-Objekts als String\n",
    "- `synset()`: Bezeichner des Synsets\n",
    "- `count()`: Anzahl \"in WordNet\". Tatsächlich ist dies die Anzahl der WN-Lemma-Verwendungen in **SemCor** (siehe unten). "
   ]
  },
  {
   "cell_type": "code",
   "execution_count": 9,
   "metadata": {
    "ExecuteTime": {
     "end_time": "2021-11-30T15:40:16.283457Z",
     "start_time": "2021-11-30T15:40:16.271101Z"
    }
   },
   "outputs": [
    {
     "name": "stdout",
     "output_type": "stream",
     "text": [
      "Name:              bank\n",
      "Synsets:           Synset('bank.n.01')\n",
      "Anzahl in SemCor:  25\n"
     ]
    }
   ],
   "source": [
    "wnlemmaID = 'bank.n.01.bank'\n",
    "print(\"Name:              \" + str(wn.lemma(wnlemmaID).name()))\n",
    "print(\"Synsets:           \" + str(wn.lemma(wnlemmaID).synset()))\n",
    "print(\"Anzahl in SemCor:  \" + str(wn.lemma(wnlemmaID).count()))"
   ]
  },
  {
   "cell_type": "markdown",
   "metadata": {},
   "source": [
    "Die Anzahl der Vorkommen eines eines WN-Lemmas in SemCor ist beispielsweise wichtig für Verfahren, die Wörtern automatisch eine Bedeutung zuweisen. "
   ]
  },
  {
   "cell_type": "markdown",
   "metadata": {
    "slideshow": {
     "slide_type": "slide"
    }
   },
   "source": [
    "## Statistik\n",
    "\n",
    "Mit diesem Wissen und der Generator-Funktion `all_synsets()` können wir eine einfache Statistik erstellen, die  den Umfang von WordNet wiederspiegelt."
   ]
  },
  {
   "cell_type": "code",
   "execution_count": 10,
   "metadata": {
    "ExecuteTime": {
     "end_time": "2021-11-30T15:40:23.344967Z",
     "start_time": "2021-11-30T15:40:16.285896Z"
    }
   },
   "outputs": [
    {
     "name": "stdout",
     "output_type": "stream",
     "text": [
      "Anzahl der Synsets:     117659\n",
      "Anzahl der WN-Lemmata:  206978\n",
      "Anzahl der Lemmaformen: 148730\n",
      "Durchschnittliche Anzahl der Lemmaformen in einem Synset: 1.759134447853543 WN-Lemmata/Synset\n",
      "Durchschnittliche Ambiguität einer Lemmaformen:           1.391635850198346 Lemmaformen/WN-Lemmata\n"
     ]
    }
   ],
   "source": [
    "all_synsets = [synset for synset in wn.all_synsets()]\n",
    "all_wnlemmata = [lemma for synset in all_synsets for lemma in synset.lemmas()]\n",
    "all_lemmaforms = set([lemma.name() for lemma in all_wnlemmata])\n",
    "\n",
    "print(\"Anzahl der Synsets:     {}\".format(len(all_synsets)))\n",
    "print(\"Anzahl der WN-Lemmata:  {}\".format(len(all_wnlemmata)))\n",
    "print(\"Anzahl der Lemmaformen: {}\".format(len(all_lemmaforms)))\n",
    "print(\"Durchschnittliche Anzahl der Lemmaformen in einem Synset: {} WN-Lemmata/Synset\".format(len(all_wnlemmata) / len(all_synsets)))\n",
    "print(\"Durchschnittliche Ambiguität einer Lemmaformen:           {} Lemmaformen/WN-Lemmata\".format(len(all_wnlemmata) / len(all_lemmaforms)))"
   ]
  },
  {
   "cell_type": "markdown",
   "metadata": {
    "slideshow": {
     "slide_type": "fragment"
    }
   },
   "source": [
    "Die Gesamtzahlen sind etwas niedriger als die Zahlen oben für WordNet 3.1. Das liegt daran, dass in NLTK nur die Vorgängerversion 3.0 zur Verfügung steht. "
   ]
  },
  {
   "cell_type": "markdown",
   "metadata": {
    "slideshow": {
     "slide_type": "slide"
    }
   },
   "source": [
    "## SemCor\n",
    "\n",
    "SemCor ist ein mit WordNet-Synsets annotierter Teil des Brown-Corpus (u.a.) und umfasst ca. 240 000 Worttoken.\n",
    "\n",
    "SemCor ist in NLTK enthalten und als `corpus.reader`-Modul abrufbar: https://www.nltk.org/api/nltk.corpus.reader.html#module-nltk.corpus.reader.semcor "
   ]
  },
  {
   "cell_type": "code",
   "execution_count": 11,
   "metadata": {
    "ExecuteTime": {
     "end_time": "2021-11-30T15:40:24.007703Z",
     "start_time": "2021-11-30T15:40:23.346624Z"
    }
   },
   "outputs": [
    {
     "name": "stderr",
     "output_type": "stream",
     "text": [
      "[nltk_data] Downloading package semcor to\n",
      "[nltk_data]     /Users/dr.elsherif/nltk_data...\n",
      "[nltk_data]   Package semcor is already up-to-date!\n"
     ]
    },
    {
     "data": {
      "text/plain": [
       "['(DT The)',\n",
       " \"(Lemma('group.n.01.group') (NE (NNP Fulton County Grand Jury)))\",\n",
       " \"(Lemma('state.v.01.say') (VB said))\",\n",
       " \"(Lemma('friday.n.01.Friday') (NN Friday))\",\n",
       " '(DT an)',\n",
       " \"(Lemma('probe.n.01.investigation') (NN investigation))\",\n",
       " '(IN of)',\n",
       " \"(Lemma('atlanta.n.01.Atlanta') (NN Atlanta))\",\n",
       " \"(POS 's)\",\n",
       " \"(Lemma('late.s.03.recent') (JJ recent))\",\n",
       " \"(Lemma('primary.n.01.primary_election') (NN primary election))\",\n",
       " \"(Lemma('produce.v.04.produce') (VB produced))\",\n",
       " '(None ``)',\n",
       " '(DT no)',\n",
       " \"(Lemma('evidence.n.01.evidence') (NN evidence))\",\n",
       " \"(None '')\",\n",
       " '(IN that)',\n",
       " '(DT any)',\n",
       " \"(Lemma('abnormality.n.04.irregularity') (NN irregularities))\",\n",
       " \"(Lemma('happen.v.01.take_place') (VB took place))\",\n",
       " '(None .)']"
      ]
     },
     "execution_count": 11,
     "metadata": {},
     "output_type": "execute_result"
    }
   ],
   "source": [
    "nltk.download('semcor')\n",
    "from nltk.corpus import semcor\n",
    "\n",
    "list(map(str, semcor.tagged_chunks(tag='both')[:21]))"
   ]
  },
  {
   "cell_type": "markdown",
   "metadata": {
    "slideshow": {
     "slide_type": "slide"
    }
   },
   "source": [
    "## <span style=\"color:red\">Aufgaben I</span>\n",
    "\n",
    "<span style=\"color:red\">A1:</span> Schreiben Sie eine Funktion `mfs_of(lemma,tag)`, die für eine Lemmaform und ein POS-Tag aus $\\{n,v,a,r,s\\}$ die in SemCor am häufigsten zugewiesenen Synsets ausgibt. \n",
    "\n",
    "**Tip:** Verwenden Sie die Methode `count()`, um die Anzahl eines WN-Lemmas in SemCor abzufragen. "
   ]
  },
  {
   "cell_type": "code",
   "execution_count": 12,
   "metadata": {
    "ExecuteTime": {
     "end_time": "2021-11-30T15:40:24.047915Z",
     "start_time": "2021-11-30T15:40:24.010878Z"
    }
   },
   "outputs": [],
   "source": [
    "def mfs_of(lemma,tag) :\n",
    "    mfs = []\n",
    "    \n",
    "    # Lösung A1\n",
    "    # POS tags zu WordNet POS tags Mappieren\n",
    "    pos_map = {'n': wn.NOUN, 'v': wn.VERB, 'a': wn.ADJ, 'r': wn.ADV, 's': wn.ADJ_SAT}\n",
    "    wn_tag = pos_map.get(tag)\n",
    "\n",
    "    if not wn_tag:\n",
    "        return mfs  # Return empty if tag is not recognized\n",
    "\n",
    "    # alle Synsets für das Lemma und das POS-Tag abrufen\n",
    "    synsets = wn.synsets(lemma, pos=wn_tag)\n",
    "    \n",
    "    # häufigsten Synsets verfolgen\n",
    "    max_count = 0\n",
    "    for synset in synsets:\n",
    "        # zählt für jedes Lemma im Synset Summen, um die Synset-Häufigkeit zu erhalten \n",
    "        synset_count = sum(lem.count() for lem in synset.lemmas() if lem.name() == lemma)\n",
    "\n",
    "        # überprufen ob dieses Synset die bisher höchste Frequenz aufweist\n",
    "        if synset_count > max_count:\n",
    "            max_count = synset_count\n",
    "            mfs = [synset]              # Liste mit neuem häufigsten Synset zurücksetzen\n",
    "        elif synset_count == max_count:\n",
    "            mfs.append(synset)         # zur list hinzufugen wenn es mit current max frequency einstimmt\n",
    "    \n",
    " \n",
    "    return mfs"
   ]
  },
  {
   "cell_type": "code",
   "execution_count": 13,
   "metadata": {
    "ExecuteTime": {
     "end_time": "2021-11-30T15:40:24.047915Z",
     "start_time": "2021-11-30T15:40:24.010878Z"
    }
   },
   "outputs": [
    {
     "data": {
      "text/plain": [
       "[Synset('bank.n.01')]"
      ]
     },
     "execution_count": 13,
     "metadata": {},
     "output_type": "execute_result"
    }
   ],
   "source": [
    "# Tests für A1 (nicht verändern)\n",
    "\n",
    "mfs_of('bank','n')"
   ]
  },
  {
   "cell_type": "markdown",
   "metadata": {
    "slideshow": {
     "slide_type": "fragment"
    }
   },
   "source": [
    "Glückwunsch! Wenn alles richtig ist, haben Sie soeben eine wichtige Baseline bei der Evaluierung von Disambiguierungsverfahren erstellt. \n",
    "\n",
    "Diese Baseline heißt üblicherweise **MFS-Baseline**, weil einfach nur der \"most frequent sense\" ausgewählt wird.\n"
   ]
  },
  {
   "cell_type": "markdown",
   "metadata": {
    "slideshow": {
     "slide_type": "slide"
    }
   },
   "source": [
    "## Semantische Relationen \n",
    "\n",
    "Sowohl für Synsets als auch WN-Lemmata gibt es Funktionen für die Abfrage der semantischen Relationen zwischen diesen Objekten."
   ]
  },
  {
   "cell_type": "markdown",
   "metadata": {
    "slideshow": {
     "slide_type": "slide"
    }
   },
   "source": [
    "### Hypernymie, Hyponymie, Meronomie, Holonymie (Lemmata & Synsets)\n",
    "\n",
    "- `hypernyms()`: Liste der Hypernyme (*table* $\\rightarrow$ *array*)\n",
    "- `hyponyms()`: Liste der Hyponyme (*table* $\\rightarrow$ *calendar*)\n",
    "- `member_holonyms()`, `substance_holonyms()`, `part_holonyms()`: Holonymiebeziehungen (*arm* $\\rightarrow$ *body*)\n",
    "- `member_meronyms()`, `substance_meronyms()`, `part_meronyms()`: Meronymiebeziehungen (*body* $\\rightarrow$ *arm*)\n",
    "- `entailments()`: Liste der Implikationen (*snore* $\\rightarrow$ *sleep*)\n",
    "- `causes()`: Liste der Ursachen"
   ]
  },
  {
   "cell_type": "code",
   "execution_count": 14,
   "metadata": {
    "ExecuteTime": {
     "end_time": "2021-11-30T15:40:24.058122Z",
     "start_time": "2021-11-30T15:40:24.050474Z"
    }
   },
   "outputs": [
    {
     "name": "stdout",
     "output_type": "stream",
     "text": [
      "Synset('arm.n.01')\n",
      "Hypernyme:          [Synset('limb.n.01')]\n",
      "Hyponyme:           []\n",
      "Mitglied-Holonyme:  []\n",
      "Substanz-Holonyme:  []\n",
      "Teil-Holonyme:      [Synset('body.n.01'), Synset('homo.n.02')]\n",
      "Implikationen:      []\n",
      "Ursachen:           []\n"
     ]
    }
   ],
   "source": [
    "syns = wn.synset('arm.n.01')\n",
    "\n",
    "print(syns)\n",
    "print(\"Hypernyme:          {}\".format(syns.hypernyms()))\n",
    "print(\"Hyponyme:           {}\".format(syns.hyponyms()))\n",
    "print(\"Mitglied-Holonyme:  {}\".format(syns.member_holonyms()))\n",
    "print(\"Substanz-Holonyme:  {}\".format(syns.substance_holonyms()))\n",
    "print(\"Teil-Holonyme:      {}\".format(syns.part_holonyms()))\n",
    "print(\"Implikationen:      {}\".format(syns.entailments()))\n",
    "print(\"Ursachen:           {}\".format(syns.causes()))\n"
   ]
  },
  {
   "cell_type": "markdown",
   "metadata": {
    "slideshow": {
     "slide_type": "slide"
    }
   },
   "source": [
    "### Antonymie, Related Forms (nur WN-Lemmata)\n",
    "\n",
    "Für Lemmata gibt es außerdem noch zwei spezielle Relationen:\n",
    "\n",
    "- `antonyms()`: Liste der Antonyme (*dead* $\\rightarrow$ *living*)\n",
    "- `derivationally_related_forms()`: Liste der Lemmata mit derivationellem Bezug (*decision* $\\rightarrow$ *decide*)\n"
   ]
  },
  {
   "cell_type": "code",
   "execution_count": 15,
   "metadata": {
    "ExecuteTime": {
     "end_time": "2021-11-30T15:40:24.068999Z",
     "start_time": "2021-11-30T15:40:24.062751Z"
    }
   },
   "outputs": [
    {
     "name": "stdout",
     "output_type": "stream",
     "text": [
      "Lemma('wet.v.01.wet')\n",
      "Antonyme:                  [Lemma('dry.v.01.dry')]\n",
      "mit derivationallem Bezug: [Lemma('moisture.n.01.wet'), Lemma('wetter.n.02.wetter'), Lemma('wetting.n.01.wetting')]\n"
     ]
    }
   ],
   "source": [
    "wnlem = wn.lemmas('wet')[1]\n",
    "\n",
    "print(wnlem)\n",
    "print(\"Antonyme:                  {}\".format(wnlem.antonyms()))\n",
    "print(\"mit derivationallem Bezug: {}\".format(wnlem.derivationally_related_forms()))"
   ]
  },
  {
   "cell_type": "markdown",
   "metadata": {
    "slideshow": {
     "slide_type": "slide"
    }
   },
   "source": [
    "### Indirekte Beziehungen (nur Synsets)\n",
    "\n",
    "Die Position im semantischen Graphen kann mit folgenden Funktionen ermittelt werden:\n",
    "\n",
    "- `max_depth()`: maximaler Hyponymie-Pfad vom Wurzelknoten (allgemeinstes Synset)\n",
    "- `min_depth()`: minimaler Hyponymie-Pfad vom Wurzelknoten (allgemeinstes Synset)\n",
    "- `root_hypernyms(synset)`: Liste der Wurzel-Synsets\n",
    "- `tree(rel)`: Ausgabe der `rel`-Pfade zu den Wurzel-Synsets"
   ]
  },
  {
   "cell_type": "code",
   "execution_count": 16,
   "metadata": {
    "ExecuteTime": {
     "end_time": "2021-11-30T15:40:24.081888Z",
     "start_time": "2021-11-30T15:40:24.071235Z"
    }
   },
   "outputs": [
    {
     "name": "stdout",
     "output_type": "stream",
     "text": [
      "Synset('person.n.01')\n",
      "minimale Tiefe: 3\n",
      "maximale Tiefe: 6\n",
      "Wurzel-Synsets: [Synset('entity.n.01')]\n",
      "Relationspfade zum Wurzel-Synset:\n",
      "[Synset('person.n.01'),\n",
      " [Synset('organism.n.01'),\n",
      "  [Synset('living_thing.n.01'),\n",
      "   [Synset('whole.n.02'),\n",
      "    [Synset('object.n.01'),\n",
      "     [Synset('physical_entity.n.01'), [Synset('entity.n.01')]]]]]],\n",
      " [Synset('causal_agent.n.01'),\n",
      "  [Synset('physical_entity.n.01'), [Synset('entity.n.01')]]]]\n"
     ]
    }
   ],
   "source": [
    "from pprint import pprint\n",
    "syns = wn.synset('person.n.01')\n",
    "hyp = lambda s:s.hypernyms()\n",
    "\n",
    "print(syns)\n",
    "print(\"minimale Tiefe: {}\".format(syns.min_depth()))\n",
    "print(\"maximale Tiefe: {}\".format(syns.max_depth()))\n",
    "print(\"Wurzel-Synsets: {}\".format(syns.root_hypernyms()))\n",
    "print(\"Relationspfade zum Wurzel-Synset:\")\n",
    "pprint(syns.tree(hyp))\n"
   ]
  },
  {
   "cell_type": "markdown",
   "metadata": {
    "slideshow": {
     "slide_type": "subslide"
    }
   },
   "source": [
    "Statt eines geklammerten Ausdrucks kann der Hyponymiepfad natürlich auch als Graph ausgegeben werden."
   ]
  },
  {
   "cell_type": "code",
   "execution_count": 17,
   "metadata": {
    "ExecuteTime": {
     "end_time": "2021-11-30T15:40:24.324389Z",
     "start_time": "2021-11-30T15:40:24.084001Z"
    }
   },
   "outputs": [],
   "source": [
    "# Largely taken from http://www.randomhacks.net/2009/12/29/visualizing-wordnet-relationships-as-graphs/\n",
    "#!pip install networkx\n",
    "from nltk.corpus import wordnet as wn\n",
    "import networkx as nx\n",
    "\n",
    "\n",
    "def closure_graph(synset, fn):\n",
    "    seen = set()\n",
    "    graph = nx.DiGraph()\n",
    "\n",
    "    def recurse(s):\n",
    "        if not s in seen:\n",
    "            seen.add(s)\n",
    "            graph.add_node(s.name())\n",
    "            for s1 in fn(s):\n",
    "                graph.add_node(s1.name())\n",
    "                graph.add_edge(s.name(), s1.name())\n",
    "                recurse(s1)\n",
    "\n",
    "    recurse(synset)\n",
    "    nx.set_node_attributes(graph, {synset.name(): 'red'}, 'color')\n",
    "    return graph"
   ]
  },
  {
   "cell_type": "code",
   "execution_count": 18,
   "metadata": {
    "ExecuteTime": {
     "end_time": "2021-11-30T15:40:24.324389Z",
     "start_time": "2021-11-30T15:40:24.084001Z"
    }
   },
   "outputs": [],
   "source": [
    "import matplotlib\n",
    "\n",
    "\n",
    "def draw_closure_graph(syns):\n",
    "    graph = closure_graph(syns, lambda s: s.hypernyms())\n",
    "    # highlight seed synset\n",
    "    color_map = ['red' if node == syns.name() else 'blue' for node in graph]\n",
    "    pos = nx.spring_layout(graph)  # generate positions for all nodes\n",
    "    nx.draw(graph, pos, with_labels=True, node_color=color_map)\n",
    "    matplotlib.pyplot.show()"
   ]
  },
  {
   "cell_type": "code",
   "execution_count": 19,
   "metadata": {
    "ExecuteTime": {
     "end_time": "2021-11-30T15:46:36.765310Z",
     "start_time": "2021-11-30T15:46:36.603037Z"
    },
    "slideshow": {
     "slide_type": "subslide"
    }
   },
   "outputs": [
    {
     "data": {
      "image/png": "[encoded data removed]",
      "text/plain": [
       "<Figure size 640x480 with 1 Axes>"
      ]
     },
     "metadata": {},
     "output_type": "display_data"
    }
   ],
   "source": [
    "draw_closure_graph(wn.synset('person.n.01'))"
   ]
  },
  {
   "cell_type": "markdown",
   "metadata": {
    "slideshow": {
     "slide_type": "-"
    }
   },
   "source": [
    "Man beachte, dass in diesem Graphen die Kanten vom Unterbegriff/Hyponym auf den Oberbegriff/das Hyperonym zeigen."
   ]
  },
  {
   "cell_type": "markdown",
   "metadata": {
    "slideshow": {
     "slide_type": "subslide"
    }
   },
   "source": [
    "Die Länge des kürzesten **gerichteten** Hyponymiepfades zwischen zwei beliebigen Synsets kann mit der Funktion `shortest_path_distance()` berechnet werden. Falls kein gerichteter Hyponymiepfad zwischen den Synsets besteht, werden die kürzesten Hyponymiepfade zum nächsten gemeinsamen Hypernym addiert: "
   ]
  },
  {
   "cell_type": "code",
   "execution_count": 20,
   "metadata": {
    "ExecuteTime": {
     "end_time": "2021-11-30T15:40:24.821260Z",
     "start_time": "2021-11-30T15:40:24.814659Z"
    }
   },
   "outputs": [
    {
     "name": "stdout",
     "output_type": "stream",
     "text": [
      "[Synset('dog.n.01'), Synset('person.n.01')]\n",
      "Kürzeste Hyponymiepfadlänge zwischen den Synsets: 4\n"
     ]
    }
   ],
   "source": [
    "syns1 = wn.synset('dog.n.01')\n",
    "syns2 = wn.synset('person.n.01')\n",
    "\n",
    "print([syns1, syns2])\n",
    "print(\"Kürzeste Hyponymiepfadlänge zwischen den Synsets: {}\".format(syns1.shortest_path_distance(syns2)))"
   ]
  },
  {
   "cell_type": "code",
   "execution_count": 21,
   "metadata": {},
   "outputs": [
    {
     "data": {
      "image/png": "[encoded data removed]",
      "text/plain": [
       "<Figure size 640x480 with 1 Axes>"
      ]
     },
     "metadata": {},
     "output_type": "display_data"
    }
   ],
   "source": [
    "draw_closure_graph(wn.synset('dog.n.01'))"
   ]
  },
  {
   "cell_type": "markdown",
   "metadata": {
    "slideshow": {
     "slide_type": "slide"
    }
   },
   "source": [
    "### Gemeinsame Hypernyme (nur Synsets)\n",
    "\n",
    "NLTK stellt auch Funktionen zur Verfügung, um gemeinsem Hypernyme auszugeben:\n",
    "\n",
    "- `common_hypernyms(synset)`: Liste der gemeinsamen Hypernyme\n",
    "- `lowest_common_hypernyms(synset)`: Liste der nächsten gemeinsamen Hypernyme\n"
   ]
  },
  {
   "cell_type": "code",
   "execution_count": 22,
   "metadata": {
    "ExecuteTime": {
     "end_time": "2021-11-30T15:40:24.831709Z",
     "start_time": "2021-11-30T15:40:24.824114Z"
    }
   },
   "outputs": [
    {
     "name": "stdout",
     "output_type": "stream",
     "text": [
      "[Synset('bank.n.01'), Synset('sea.n.01')]\n",
      "Gemeinsame Hypernyme:              [Synset('entity.n.01'), Synset('physical_entity.n.01')]\n",
      "Die nächsten gemeinsame Hypernyme: [Synset('physical_entity.n.01')]\n"
     ]
    }
   ],
   "source": [
    "syns1 = wn.synset('bank.n.01')\n",
    "syns2 = wn.synset('sea.n.01')\n",
    "\n",
    "print([syns1, syns2])\n",
    "print(\"Gemeinsame Hypernyme:              {}\".format(syns1.common_hypernyms(syns2)))\n",
    "print(\"Die nächsten gemeinsame Hypernyme: {}\".format(syns1.lowest_common_hypernyms(syns2)))"
   ]
  },
  {
   "cell_type": "markdown",
   "metadata": {
    "slideshow": {
     "slide_type": "slide"
    }
   },
   "source": [
    "## <span style=\"color:red\">Aufgaben II</span>\n",
    "\n",
    "<span style=\"color:red\">A2:</span> Schreiben Sie die Funktionen `common_hyponyms(synset1,synset2)` und `highest_common_hyponyms(synset1,synset2)`, die für zwei Synsets alle gemeinsamen (auch indirekten) Hyponyme bzw. die \"höchsten\"/allgemeinsten gemeinsamen Hyponyme ausgeben!\n",
    "\n",
    "**Tip:** Verwenden Sie `shortest_path_distance()` oder `min_depth()` und die Synset-Funktion [`closure()`](https://www.nltk.org/api/nltk.corpus.reader.wordnet.html?highlight=closure#nltk.corpus.reader.wordnet.Synset.closure)."
   ]
  },
  {
   "cell_type": "code",
   "execution_count": 23,
   "metadata": {},
   "outputs": [],
   "source": [
    "def common_hyponyms(synset1, synset2):\n",
    "    # alle direkten und indirekten Hyponyme ermitteln \n",
    "    hyponyms1 = set(synset1.closure(lambda s: s.hyponyms()))\n",
    "    hyponyms2 = set(synset2.closure(lambda s: s.hyponyms()))\n",
    "\n",
    "    # intersection beider sets von Hyponymen finden\n",
    "    common_hyponyms = hyponyms1.intersection(hyponyms2)\n",
    "    \n",
    "    # die common Hyponyme als liste zuruckgeben\n",
    "    return list(common_hyponyms)\n",
    "\n",
    "def highest_common_hyponyms(synset1, synset2):\n",
    "    # alle common Hyponyme (direkt und indirekt) erhalten\n",
    "    common_hyponyms_list = common_hyponyms(synset1, synset2)\n",
    "    \n",
    "    # die häufigsten Hyponeme mit der lowest depth finden\n",
    "    if common_hyponyms_list:\n",
    "        # Hyponyme nach ihrer depth in heirarchy sortieren \n",
    "        sorted_common_hyponyms = sorted(common_hyponyms_list, key=lambda s: s.min_depth())\n",
    "        \n",
    "        # Die allgemeinsten Hyponyme sind diejenigen mit der lowest depth\n",
    "        return [sorted_common_hyponyms[0]]    \n",
    "    \n",
    "    #return []  "
   ]
  },
  {
   "cell_type": "code",
   "execution_count": 24,
   "metadata": {
    "ExecuteTime": {
     "end_time": "2021-11-30T15:40:32.037365Z",
     "start_time": "2021-11-30T15:40:24.847713Z"
    }
   },
   "outputs": [
    {
     "name": "stdout",
     "output_type": "stream",
     "text": [
      "[Synset('causal_agent.n.01'), Synset('organism.n.01')]\n",
      "Gemeinsame Hyponyme:              7054\n",
      "Die nächsten gemeinsame Hyponyme: [Synset('person.n.01')]\n",
      "Distanzen zu Synset('causal_agent.n.01'): [1]\n",
      "Distanzen zu Synset('organism.n.01'): [1]\n"
     ]
    }
   ],
   "source": [
    "# Tests für A2 (nicht verändern)\n",
    "\n",
    "syns1 = wn.synset('causal_agent.n.01')\n",
    "syns2 = wn.synset('organism.n.01')\n",
    "\n",
    "print([syns1, syns2])\n",
    "ch = common_hyponyms(syns1,syns2)\n",
    "hch = highest_common_hyponyms(syns1,syns2)\n",
    "print(\"Gemeinsame Hyponyme:              {}\".format(len(ch)))\n",
    "print(\"Die nächsten gemeinsame Hyponyme: {}\".format(hch))\n",
    "print(\"Distanzen zu {}: {}\".format(syns1,[syns1.shortest_path_distance(syns) for syns in hch]))\n",
    "print(\"Distanzen zu {}: {}\".format(syns2,[syns2.shortest_path_distance(syns) for syns in hch]))"
   ]
  },
  {
   "cell_type": "markdown",
   "metadata": {
    "slideshow": {
     "slide_type": "subslide"
    }
   },
   "source": [
    "Wir stellen fest, dass die meisten Synsets in WordNet (anders als `causal_agent.n.01` und `organism.n.01`) entweder keine gemeinsamen Hyponyme haben oder in einer direkten oder indirekten Hyponymierelation zueinander stehen. \n",
    "\n",
    "Es könnte also hilfreich sein, wenn man eine Funktion zur Hand hätte, die für ein Synset eine Liste von \"unabhängigen Co-Hypernymen\" (z.B. `causal_agent.n.01` bei `organism.n.01` und umgekehrt) ausgibt, für die jeweils gemeinsame Hyponyme in WordNet existieren, mit denen aber das Synset **nicht** in einer (transitiven) Hyponymierelation steht ... \n",
    "\n",
    "<span style=\"color:red\">A3:</span> Schreiben Sie eine solche Funktionen `co_hyperonyms(synset)`, die für ein Synset alle Synsets ausgibt, mit denen gemeinsame, aber nicht unbedingt unmittelbare Hyponyme existieren, wobei zwischen diesen Synsets **keine** (transitive) Hyponymiebeziehung bestehen darf!"
   ]
  },
  {
   "cell_type": "code",
   "execution_count": 25,
   "metadata": {
    "ExecuteTime": {
     "end_time": "2021-11-30T15:40:32.045928Z",
     "start_time": "2021-11-30T15:40:32.039387Z"
    }
   },
   "outputs": [],
   "source": [
    "def co_hyperonyms(synset):\n",
    "    out = []\n",
    "\n",
    "    # Lösung A3\n",
    "    # alle Hyponyme sammeln\n",
    "    hyponyms_of_synset = set(synset.closure(lambda s: s.hyponyms()))\n",
    "    \n",
    "    # alle hypernyms sammeln \n",
    "    hypernyms_of_synset = set(synset.closure(lambda s: s.hypernyms()))\n",
    "    \n",
    "    # alle Synsets in WordNet mit demselben POS-Tag loopen\n",
    "    for candidate in wn.all_synsets(synset.pos()):\n",
    "        if candidate == synset:\n",
    "            continue  \n",
    "        \n",
    "        # common Hyponyme zwischen Kandidat und dem original Synset finden\n",
    "        candidate_hyponyms = set(candidate.closure(lambda s: s.hyponyms()))\n",
    "        common_hyponyms = hyponyms_of_synset.intersection(candidate_hyponyms)\n",
    "        \n",
    "        # der Kandidat kein Hypernym oder Hyponym des original Synsets sicherstellen\n",
    "        if common_hyponyms and not (\n",
    "            candidate in hypernyms_of_synset or synset in candidate.closure(lambda s: s.hyponyms())\n",
    "        ):\n",
    "            out.append(candidate)\n",
    "\n",
    "    return out"
   ]
  },
  {
   "cell_type": "code",
   "execution_count": 26,
   "metadata": {
    "ExecuteTime": {
     "end_time": "2021-11-30T15:40:33.209312Z",
     "start_time": "2021-11-30T15:40:32.048188Z"
    }
   },
   "outputs": [
    {
     "name": "stdout",
     "output_type": "stream",
     "text": [
      "Co-Hypernyme von Synset('organism.n.01'): Anzahl: 3551 \n",
      " [Synset('abstraction.n.06'), Synset('cell.n.02'), Synset('causal_agent.n.01'), Synset('person.n.01'), Synset('animal.n.01'), Synset('plant.n.02'), Synset('artifact.n.01'), Synset('psychological_feature.n.01'), Synset('cognition.n.01'), Synset('attribute.n.02'), Synset('state.n.02'), Synset('group.n.01'), Synset('relation.n.01'), Synset('communication.n.02'), Synset('pest.n.04'), Synset('scavenger.n.03'), Synset('bottom-feeder.n.02'), Synset('work_animal.n.01'), Synset('beast_of_burden.n.01'), Synset('pack_animal.n.01'), Synset('domestic_animal.n.01'), Synset('marine_animal.n.01'), Synset('female.n.01'), Synset('male.n.01'), Synset('young.n.01'), Synset('young_mammal.n.01'), Synset('pup.n.01'), Synset('cub.n.03'), Synset('microorganism.n.01'), Synset('anaerobe.n.01'), Synset('hybrid.n.03'), Synset('virus.n.01'), Synset('arbovirus.n.01'), Synset('adenovirus.n.01'), Synset('arenavirus.n.01'), Synset('filovirus.n.01'), Synset('flavivirus.n.01'), Synset('poxvirus.n.01'), Synset('variola_virus.n.01'), Synset('bacteriophage.n.01'), Synset('plant_virus.n.01'), Synset('animal_virus.n.01'), Synset('retrovirus.n.01'), Synset('myxovirus.n.01'), Synset('paramyxovirus.n.01'), Synset('picornavirus.n.01'), Synset('enterovirus.n.01'), Synset('herpes.n.02'), Synset('herpes_simplex.n.02'), Synset('herpes_zoster.n.02'), Synset('papovavirus.n.01'), Synset('reovirus.n.01'), Synset('moneran.n.01'), Synset('archaebacteria.n.01'), Synset('halophile.n.01'), Synset('bacteria.n.01'), Synset('probiotic.n.01'), Synset('bacillus.n.01'), Synset('coccus.n.01'), Synset('coccobacillus.n.01'), Synset('eubacteria.n.01'), Synset('cyanobacteria.n.01'), Synset('phototrophic_bacteria.n.01'), Synset('pseudomonad.n.01'), Synset('thiobacillus.n.01'), Synset('spirillum.n.01'), Synset('vibrio.n.01'), Synset('corynebacterium.n.01'), Synset('listeria.n.01'), Synset('enteric_bacteria.n.01'), Synset('escherichia.n.01'), Synset('salmonella.n.01'), Synset('shigella.n.01'), Synset('tumor_virus.n.01'), Synset('vector.n.04'), Synset('chlamydia.n.02'), Synset('mycoplasma.n.01'), Synset('nitrobacterium.n.01'), Synset('actinomycete.n.01'), Synset('streptomyces.n.01'), Synset('mycobacteria.n.01'), Synset('rod.n.02'), Synset('lactobacillus.n.01'), Synset('diplococcus.n.01'), Synset('spirochete.n.01'), Synset('phytoplankton.n.01'), Synset('parasite.n.01'), Synset('ectoparasite.n.01'), Synset('host.n.03'), Synset('protoctist.n.01'), Synset('protozoan.n.01'), Synset('sarcodinian.n.01'), Synset('actinopod.n.01'), Synset('rhizopod.n.01'), Synset('endameba.n.01'), Synset('ameba.n.01'), Synset('foram.n.01'), Synset('ciliate.n.01'), Synset('alga.n.01'), Synset('seaweed.n.01'), Synset('yellow-green_algae.n.01'), Synset('brown_algae.n.01'), Synset('kelp.n.01'), Synset('rockweed.n.01'), Synset('green_algae.n.01'), Synset('red_algae.n.01'), Synset('flagellate.n.01'), Synset('dinoflagellate.n.01'), Synset('sporozoan.n.01'), Synset('soft-finned_fish.n.01'), Synset('cypriniform_fish.n.01'), Synset('cyprinid.n.01'), Synset('carp.n.02'), Synset('domestic_carp.n.01'), Synset('shiner.n.04'), Synset('goldfish.n.01'), Synset('catostomid.n.01'), Synset('sucker.n.07'), Synset('buffalo_fish.n.01'), Synset('cyprinodont.n.01'), Synset('killifish.n.01'), Synset('topminnow.n.01'), Synset('squirrelfish.n.02'), Synset('dory.n.03'), Synset('stickleback.n.01'), Synset('pipefish.n.01'), Synset('embryo.n.02'), Synset('fetus.n.01'), Synset('blastula.n.01'), Synset('chordate.n.01'), Synset('cephalochordate.n.01'), Synset('tunicate.n.01'), Synset('ascidian.n.01'), Synset('vertebrate.n.01'), Synset('aquatic_vertebrate.n.01'), Synset('jawless_vertebrate.n.01'), Synset('lamprey.n.01'), Synset('hagfish.n.01'), Synset('cartilaginous_fish.n.01'), Synset('holocephalan.n.01'), Synset('chimaera.n.03'), Synset('elasmobranch.n.01'), Synset('shark.n.01'), Synset('mackerel_shark.n.01'), Synset('mako.n.01'), Synset('requiem_shark.n.01'), Synset('dogfish.n.02'), Synset('smooth_dogfish.n.01'), Synset('spiny_dogfish.n.01'), Synset('hammerhead.n.03'), Synset('ray.n.07'), Synset('sawfish.n.01'), Synset('stingray.n.01'), Synset('eagle_ray.n.01'), Synset('manta.n.02'), Synset('skate.n.02'), Synset('bird.n.01'), Synset('cock.n.05'), Synset('night_bird.n.01'), Synset('ratite.n.01'), Synset('moa.n.01'), Synset('passerine.n.01'), Synset('oscine.n.01'), Synset('accentor.n.01'), Synset('lark.n.03'), Synset('pipit.n.01'), Synset('finch.n.01'), Synset('canary.n.04'), Synset('junco.n.01'), Synset('new_world_sparrow.n.01'), Synset('bunting.n.02'), Synset('honeycreeper.n.02'), Synset('sparrow.n.01'), Synset('grosbeak.n.01'), Synset('towhee.n.01'), Synset('weaver.n.02'), Synset('grassfinch.n.01'), Synset('honeycreeper.n.01'), Synset('tyrannid.n.01'), Synset('new_world_flycatcher.n.01'), Synset('kingbird.n.01'), Synset('pewee.n.01'), Synset('cotinga.n.01'), Synset('antbird.n.01'), Synset('old_world_flycatcher.n.01'), Synset('thrush.n.03'), Synset('nightingale.n.01'), Synset('old_world_chat.n.01'), Synset('warbler.n.02'), Synset('kinglet.n.01'), Synset('old_world_warbler.n.01'), Synset('new_world_warbler.n.01'), Synset('flycatching_warbler.n.01'), Synset('new_world_chat.n.01'), Synset('yellowthroat.n.01'), Synset('bird_of_paradise.n.03'), Synset('new_world_oriole.n.01'), Synset('northern_oriole.n.01'), Synset('meadowlark.n.01'), Synset('new_world_blackbird.n.01'), Synset('grackle.n.02'), Synset('old_world_oriole.n.01'), Synset('starling.n.01'), Synset('myna.n.01'), Synset('corvine_bird.n.01'), Synset('crow.n.01'), Synset('jay.n.02'), Synset('old_world_jay.n.01'), Synset('new_world_jay.n.01'), Synset('canada_jay.n.01'), Synset('nutcracker.n.03'), Synset('magpie.n.01'), Synset('australian_magpie.n.01'), Synset('wren.n.02'), Synset('marsh_wren.n.01'), Synset('thrasher.n.02'), Synset('new_zealand_wren.n.01'), Synset('creeper.n.03'), Synset('nuthatch.n.01'), Synset('titmouse.n.01'), Synset('chickadee.n.01'), Synset('swallow.n.03'), Synset('martin.n.05'), Synset('tanager.n.01'), Synset('shrike.n.01'), Synset('butcherbird.n.01'), Synset('bush_shrike.n.01'), Synset('bowerbird.n.01'), Synset('water_ouzel.n.01'), Synset('vireo.n.01'), Synset('waxwing.n.01'), Synset('bird_of_prey.n.01'), Synset('hawk.n.01'), Synset('kite.n.04'), Synset('harrier.n.03'), Synset('falcon.n.01'), Synset('peregrine.n.01'), Synset('caracara.n.01'), Synset('eagle.n.01'), Synset('young_bird.n.01'), Synset('golden_eagle.n.01'), Synset('sea_eagle.n.02'), Synset('vulture.n.01'), Synset('old_world_vulture.n.01'), Synset('new_world_vulture.n.01'), Synset('condor.n.01'), Synset('owl.n.01'), Synset('horned_owl.n.01'), Synset('scops_owl.n.01'), Synset('amphibian.n.03'), Synset('salamander.n.01'), Synset('newt.n.01'), Synset('pacific_newt.n.01'), Synset('ambystomid.n.01'), Synset('climbing_salamander.n.01'), Synset('web-toed_salamander.n.01'), Synset('frog.n.01'), Synset('true_frog.n.01'), Synset('true_toad.n.01'), Synset('spadefoot.n.01'), Synset('tree_toad.n.01'), Synset('cricket_frog.n.01'), Synset('tongueless_frog.n.01'), Synset('reptile.n.01'), Synset('anapsid.n.01'), Synset('diapsid.n.01'), Synset('chelonian.n.01'), Synset('turtle.n.02'), Synset('sea_turtle.n.01'), Synset('ridley.n.01'), Synset('snapping_turtle.n.01'), Synset('mud_turtle.n.01'), Synset('terrapin.n.01'), Synset('box_turtle.n.01'), Synset('tortoise.n.01'), Synset('soft-shelled_turtle.n.01'), Synset('saurian.n.01'), Synset('lizard.n.01'), Synset('gecko.n.01'), Synset('iguanid.n.01'), Synset('spiny_lizard.n.02'), Synset('fence_lizard.n.01'), Synset('horned_lizard.n.01'), Synset('skink.n.01'), Synset('teiid_lizard.n.01'), Synset('whiptail.n.01'), Synset('agamid.n.01'), Synset('moloch.n.03'), Synset('anguid_lizard.n.01'), Synset('venomous_lizard.n.01'), Synset('lacertid_lizard.n.01'), Synset('chameleon.n.03'), Synset('monitor.n.07'), Synset('archosaur.n.01'), Synset('crocodilian_reptile.n.01'), Synset('crocodile.n.01'), Synset('alligator.n.02'), Synset('caiman.n.01'), Synset('dinosaur.n.01'), Synset('ornithischian.n.01'), Synset('armored_dinosaur.n.01'), Synset('ankylosaur.n.01'), Synset('bone-headed_dinosaur.n.01'), Synset('ceratopsian.n.01'), Synset('hadrosaur.n.01'), Synset('saurischian.n.01'), Synset('sauropod.n.01'), Synset('titanosaur.n.01'), Synset('theropod.n.01'), Synset('ceratosaur.n.01'), Synset('ornithomimid.n.01'), Synset('maniraptor.n.01'), Synset('synapsid.n.01'), Synset('therapsid.n.01'), Synset('pterosaur.n.01'), Synset('ichthyosaur.n.01'), Synset('snake.n.01'), Synset('colubrid_snake.n.01'), Synset('green_snake.n.02'), Synset('racer.n.04'), Synset('blacksnake.n.02'), Synset('whip-snake.n.01'), Synset('rat_snake.n.01'), Synset('bull_snake.n.01'), Synset('king_snake.n.01'), Synset('garter_snake.n.01'), Synset('water_snake.n.01'), Synset('grass_snake.n.01'), Synset('sand_snake.n.01'), Synset('lyre_snake.n.01'), Synset('blind_snake.n.01'), Synset('indigo_snake.n.01'), Synset('constrictor.n.01'), Synset('boa.n.02'), Synset('python.n.01'), Synset('elapid.n.01'), Synset('coral_snake.n.02'), Synset('coral_snake.n.01'), Synset('cobra.n.01'), Synset('mamba.n.01'), Synset('black_mamba.n.01'), Synset('krait.n.01'), Synset('viper.n.01'), Synset('pit_viper.n.01'), Synset('rattlesnake.n.01'), Synset('timber_rattlesnake.n.01'), Synset('arthropod.n.01'), Synset('arachnid.n.01'), Synset('false_scorpion.n.01'), Synset('whip-scorpion.n.01'), Synset('spider.n.01'), Synset('wolf_spider.n.01'), Synset('acarine.n.01'), Synset('tick.n.02'), Synset('hard_tick.n.01'), Synset('mite.n.02'), Synset('trombiculid.n.01'), Synset('spider_mite.n.01'), Synset('centipede.n.01'), Synset('gallinaceous_bird.n.01'), Synset('domestic_fowl.n.01'), Synset('jungle_fowl.n.01'), Synset('chicken.n.02'), Synset('cock.n.04'), Synset('hen.n.01'), Synset('turkey.n.01'), Synset('grouse.n.02'), Synset('black_grouse.n.01'), Synset('ptarmigan.n.01'), Synset('red_grouse.n.01'), Synset('prairie_chicken.n.01'), Synset('guan.n.01'), Synset('chachalaca.n.01'), Synset('megapode.n.01'), Synset('mallee_fowl.n.01'), Synset('phasianid.n.01'), Synset('pheasant.n.01'), Synset('bobwhite.n.01'), Synset('old_world_quail.n.01'), Synset('peafowl.n.01'), Synset('quail.n.02'), Synset('partridge.n.03'), Synset('guinea_fowl.n.01'), Synset('columbiform_bird.n.01'), Synset('pigeon.n.01'), Synset('dove.n.01'), Synset('turtledove.n.02'), Synset('domestic_pigeon.n.01'), Synset('homing_pigeon.n.01'), Synset('sandgrouse.n.01'), Synset('parrot.n.01'), Synset('cockatoo.n.01'), Synset('lory.n.01'), Synset('lorikeet.n.01'), Synset('parakeet.n.01'), Synset('cuculiform_bird.n.01'), Synset('cuckoo.n.02'), Synset('coucal.n.01'), Synset('coraciiform_bird.n.01'), Synset('roller.n.06'), Synset('kingfisher.n.01'), Synset('hoopoe.n.01'), Synset('apodiform_bird.n.01'), Synset('swift.n.03'), Synset('hummingbird.n.01'), Synset('caprimulgiform_bird.n.01'), Synset('goatsucker.n.01'), Synset('piciform_bird.n.01'), Synset('woodpecker.n.01'), Synset('flicker.n.02'), Synset('sapsucker.n.01'), Synset('toucan.n.01'), Synset('trogon.n.01'), Synset('quetzal.n.02'), Synset('aquatic_bird.n.01'), Synset('waterfowl.n.01'), Synset('anseriform_bird.n.01'), Synset('duck.n.01'), Synset('teal.n.02'), Synset('widgeon.n.01'), Synset('sheldrake.n.02'), Synset('goldeneye.n.02'), Synset('scaup.n.01'), Synset('wood_duck.n.01'), Synset('sea_duck.n.01'), Synset('scoter.n.01'), Synset('merganser.n.01'), Synset('goose.n.01'), Synset('blue_goose.n.01'), Synset('brant.n.01'), Synset('swan.n.01'), Synset('tundra_swan.n.01'), Synset('screamer.n.03'), Synset('crested_screamer.n.01'), Synset('mammal.n.01'), Synset('prototherian.n.01'), Synset('monotreme.n.01'), Synset('metatherian.n.01'), Synset('marsupial.n.01'), Synset('opossum.n.02'), Synset('bandicoot.n.01'), Synset('kangaroo.n.01'), Synset('wallaby.n.01'), Synset('rat_kangaroo.n.01'), Synset('phalanger.n.01'), Synset('flying_phalanger.n.01'), Synset('dasyurid_marsupial.n.01'), Synset('dasyure.n.01'), Synset('placental.n.01'), Synset('calf.n.01'), Synset('buck.n.05'), Synset('insectivore.n.01'), Synset('mole.n.06'), Synset('shrew_mole.n.01'), Synset('shrew.n.02'), Synset('water_shrew.n.01'), Synset('tenrec.n.01'), Synset('invertebrate.n.01'), Synset('sponge.n.04'), Synset('glass_sponge.n.01'), Synset('coelenterate.n.01'), Synset('jellyfish.n.02'), Synset('hydrozoan.n.01'), Synset('siphonophore.n.01'), Synset('anthozoan.n.01'), Synset('sea_anemone.n.01'), Synset('coral.n.04'), Synset('gorgonian.n.01'), Synset('stony_coral.n.01'), Synset('ctenophore.n.01'), Synset('worm.n.01'), Synset('arrowworm.n.01'), Synset('flatworm.n.01'), Synset('fluke.n.05'), Synset('tapeworm.n.01'), Synset('nematode.n.01'), Synset('eelworm.n.01'), Synset('annelid.n.01'), Synset('oligochaete.n.01'), Synset('polychaete.n.01'), Synset('leech.n.01'), Synset('mollusk.n.01'), Synset('scaphopod.n.01'), Synset('gastropod.n.01'), Synset('abalone.n.01'), Synset('conch.n.01'), Synset('snail.n.01'), Synset('garden_snail.n.01'), Synset('seasnail.n.02'), Synset('neritid.n.01'), Synset('limpet.n.02'), Synset('sea_slug.n.01'), Synset('cowrie.n.01'), Synset('bivalve.n.01'), Synset('clam.n.01'), Synset('quahog.n.02'), Synset('cockle.n.02'), Synset('oyster.n.01'), Synset('mussel.n.02'), Synset('marine_mussel.n.01'), Synset('freshwater_mussel.n.01'), Synset('scallop.n.04'), Synset('shipworm.n.01'), Synset('cephalopod.n.01'), Synset('octopod.n.01'), Synset('decapod.n.02'), Synset('squid.n.02'), Synset('crustacean.n.01'), Synset('malacostracan_crustacean.n.01'), Synset('decapod_crustacean.n.01'), Synset('crab.n.01'), Synset('swimming_crab.n.01'), Synset('pea_crab.n.01'), Synset('spider_crab.n.01'), Synset('lobster.n.02'), Synset('true_lobster.n.01'), Synset('crayfish.n.03'), Synset('shrimp.n.03'), Synset('prawn.n.02'), Synset('krill.n.01'), Synset('stomatopod.n.01'), Synset('mantis_shrimp.n.01'), Synset('isopod.n.01'), Synset('woodlouse.n.01'), Synset('amphipod.n.01'), Synset('branchiopod_crustacean.n.01'), Synset('copepod.n.01'), Synset('barnacle.n.01'), Synset('onychophoran.n.01'), Synset('wading_bird.n.01'), Synset('stork.n.01'), Synset('ibis.n.01'), Synset('spoonbill.n.01'), Synset('heron.n.02'), Synset('egret.n.01'), Synset('night_heron.n.01'), Synset('bittern.n.01'), Synset('crane.n.05'), Synset('rail.n.05'), Synset('crake.n.01'), Synset('gallinule.n.01'), Synset('purple_gallinule.n.01'), Synset('coot.n.01'), Synset('bustard.n.01'), Synset('button_quail.n.01'), Synset('trumpeter.n.03'), Synset('seabird.n.01'), Synset('shorebird.n.01'), Synset('plover.n.01'), Synset('turnstone.n.01'), Synset('sandpiper.n.01'), Synset('yellowlegs.n.01'), Synset('ruff.n.03'), Synset('tattler.n.02'), Synset('woodcock.n.01'), Synset('snipe.n.01'), Synset('dowitcher.n.01'), Synset('curlew.n.01'), Synset('godwit.n.01'), Synset('stilt.n.04'), Synset('stilt.n.03'), Synset('phalarope.n.01'), Synset('courser.n.04'), Synset('coastal_diving_bird.n.01'), Synset('larid.n.01'), Synset('gull.n.02'), Synset('tern.n.01'), Synset('jaeger.n.01'), Synset('skua.n.01'), Synset('auk.n.01'), Synset('guillemot.n.01'), Synset('murre.n.01'), Synset('puffin.n.01'), Synset('gaviiform_seabird.n.01'), Synset('podicipitiform_seabird.n.01'), Synset('grebe.n.01'), Synset('pelecaniform_seabird.n.01'), Synset('pelican.n.01'), Synset('gannet.n.01'), Synset('snakebird.n.01'), Synset('sphenisciform_seabird.n.01'), Synset('penguin.n.01'), Synset('pelagic_bird.n.01'), Synset('albatross.n.02'), Synset('petrel.n.01'), Synset('shearwater.n.01'), Synset('storm_petrel.n.01'), Synset('aquatic_mammal.n.01'), Synset('cetacean.n.01'), Synset('whale.n.02'), Synset('baleen_whale.n.01'), Synset('rorqual.n.01'), Synset('toothed_whale.n.01'), Synset('beaked_whale.n.01'), Synset('dolphin.n.02'), Synset('bottlenose_dolphin.n.01'), Synset('porpoise.n.01'), Synset('sea_cow.n.01'), Synset('carnivore.n.01'), Synset('pinniped_mammal.n.01'), Synset('seal.n.09'), Synset('eared_seal.n.01'), Synset('fur_seal.n.02'), Synset('fur_seal.n.01'), Synset('sea_lion.n.01'), Synset('earless_seal.n.01'), Synset('walrus.n.01'), Synset('canine.n.02'), Synset('bitch.n.04'), Synset('dog.n.01'), Synset('cur.n.01'), Synset('toy_dog.n.01'), Synset('toy_spaniel.n.01'), Synset('english_toy_spaniel.n.01'), Synset('hunting_dog.n.01'), Synset('hound.n.01'), Synset('coonhound.n.01'), Synset('dachshund.n.01'), Synset('foxhound.n.01'), Synset('wolfhound.n.01'), Synset('greyhound.n.01'), Synset('terrier.n.01'), Synset('bullterrier.n.01'), Synset('rat_terrier.n.01'), Synset('manchester_terrier.n.01'), Synset('fox_terrier.n.01'), Synset('wirehair.n.01'), Synset('welsh_terrier.n.01'), Synset('schnauzer.n.01'), Synset('skye_terrier.n.01'), Synset('sporting_dog.n.01'), Synset('retriever.n.01'), Synset('pointer.n.04'), Synset('setter.n.02'), Synset('spaniel.n.01'), Synset('springer_spaniel.n.01'), Synset('water_spaniel.n.01'), Synset('working_dog.n.01'), Synset('watchdog.n.02'), Synset('shepherd_dog.n.01'), Synset('belgian_sheepdog.n.01'), Synset('pinscher.n.01'), Synset('sennenhunde.n.01'), Synset('mastiff.n.01'), Synset('bulldog.n.01'), Synset('guide_dog.n.01'), Synset('sled_dog.n.01'), Synset('dalmatian.n.02'), Synset('spitz.n.01'), Synset('griffon.n.02'), Synset('corgi.n.01'), Synset('poodle.n.01'), Synset('wolf.n.01'), Synset('coyote.n.01'), Synset('wild_dog.n.01'), Synset('hyena.n.01'), Synset('fox.n.01'), Synset('red_fox.n.03'), Synset('arctic_fox.n.01'), Synset('feline.n.01'), Synset('cat.n.01'), Synset('domestic_cat.n.01'), Synset('tom.n.02'), Synset('siamese_cat.n.01'), Synset('wildcat.n.03'), Synset('lynx.n.02'), Synset('big_cat.n.01'), Synset('leopard.n.02'), Synset('lion.n.01'), Synset('tiger.n.02'), Synset('saber-toothed_tiger.n.01'), Synset('bear.n.01'), Synset('brown_bear.n.01'), Synset('american_black_bear.n.01'), Synset('viverrine.n.01'), Synset('civet.n.01'), Synset('mongoose.n.01'), Synset('meerkat.n.01'), Synset('bat.n.01'), Synset('fruit_bat.n.01'), Synset('carnivorous_bat.n.01'), Synset('leafnose_bat.n.01'), Synset('false_vampire.n.01'), Synset('vespertilian_bat.n.01'), Synset('long-eared_bat.n.01'), Synset('freetail.n.01'), Synset('vampire_bat.n.01'), Synset('predator.n.02'), Synset('game.n.04'), Synset('game_bird.n.01'), Synset('fossorial_mammal.n.01'), Synset('tetrapod.n.01'), Synset('insect.n.01'), Synset('mecopteran.n.01'), Synset('beetle.n.01'), Synset('ladybug.n.01'), Synset('ground_beetle.n.01'), Synset('calosoma.n.01'), Synset('firefly.n.02'), Synset('long-horned_beetle.n.01'), Synset('sawyer.n.02'), Synset('leaf_beetle.n.01'), Synset('carpet_beetle.n.01'), Synset('clerid_beetle.n.01'), Synset('lamellicorn_beetle.n.01'), Synset('scarabaeid_beetle.n.01'), Synset('dung_beetle.n.01'), Synset('june_beetle.n.01'), Synset('melolonthid_beetle.n.01'), Synset('elaterid_beetle.n.01'), Synset('weevil.n.01'), Synset('blister_beetle.n.01'), Synset('bark_beetle.n.01'), Synset('darkling_beetle.n.01'), Synset('seed_beetle.n.01'), Synset('louse.n.01'), Synset('bird_louse.n.01'), Synset('flea.n.01'), Synset('dipterous_insect.n.01'), Synset('gall_midge.n.01'), Synset('fly.n.01'), Synset('blowfly.n.01'), Synset('gadfly.n.02'), Synset('botfly.n.01'), Synset('fruit_fly.n.01'), Synset('louse_fly.n.01'), Synset('mosquito.n.01'), Synset('gnat.n.01'), Synset('fungus_gnat.n.01'), Synset('hymenopterous_insect.n.01'), Synset('bee.n.01'), Synset('worker.n.03'), Synset('honeybee.n.01'), Synset('wasp.n.02'), Synset('vespid.n.01'), Synset('paper_wasp.n.01'), Synset('hornet.n.01'), Synset('sphecoid_wasp.n.01'), Synset('digger_wasp.n.01'), Synset('chalcid_fly.n.01'), Synset('sawfly.n.01'), Synset('ant.n.01'), Synset('slave_ant.n.01'), Synset('slave-making_ant.n.01'), Synset('termite.n.01'), Synset('dry-wood_termite.n.01'), Synset('orthopterous_insect.n.01'), Synset('grasshopper.n.01'), Synset('short-horned_grasshopper.n.01'), Synset('locust.n.01'), Synset('long-horned_grasshopper.n.01'), Synset('katydid.n.01'), Synset('cricket.n.01'), Synset('tree_cricket.n.01'), Synset('phasmid.n.01'), Synset('walking_stick.n.02'), Synset('dictyopterous_insect.n.01'), Synset('cockroach.n.01'), Synset('mantis.n.01'), Synset('hemipterous_insect.n.01'), Synset('leaf_bug.n.01'), Synset('mirid_bug.n.01'), Synset('lygus_bug.n.01'), Synset('lygaeid.n.01'), Synset('coreid_bug.n.01'), Synset('heteropterous_insect.n.01'), Synset('water_bug.n.01'), Synset('water_strider.n.01'), Synset('assassin_bug.n.01'), Synset('homopterous_insect.n.01'), Synset('whitefly.n.01'), Synset('sweet-potato_whitefly.n.01'), Synset('coccid_insect.n.01'), Synset('scale_insect.n.01'), Synset('soft_scale.n.01'), Synset('armored_scale.n.01'), Synset('mealybug.n.01'), Synset('plant_louse.n.01'), Synset('aphid.n.01'), Synset('greenfly.n.01'), Synset('woolly_aphid.n.01'), Synset('adelgid.n.01'), Synset('cicada.n.01'), Synset('spittle_insect.n.01'), Synset('leafhopper.n.01'), Synset('plant_hopper.n.01'), Synset('psocopterous_insect.n.01'), Synset('psocid.n.01'), Synset('booklouse.n.01'), Synset('ephemerid.n.01'), Synset('neuropteron.n.01'), Synset('lacewing.n.01'), Synset('green_lacewing.n.01'), Synset('odonate.n.01'), Synset('trichopterous_insect.n.01'), Synset('caseworm.n.01'), Synset('thysanuran_insect.n.01'), Synset('bristletail.n.01'), Synset('thysanopter.n.01'), Synset('thrips.n.01'), Synset('earwig.n.01'), Synset('lepidopterous_insect.n.01'), Synset('butterfly.n.01'), Synset('nymphalid.n.01'), Synset('fritillary.n.02'), Synset('emperor_butterfly.n.01'), Synset('danaid.n.01'), Synset('pierid.n.01'), Synset('cabbage_butterfly.n.01'), Synset('lycaenid.n.01'), Synset('copper.n.05'), Synset('hairstreak.n.01'), Synset('moth.n.01'), Synset('tortricid.n.01'), Synset('lymantriid.n.01'), Synset('geometrid.n.01'), Synset('cankerworm.n.01'), Synset('pyralid.n.01'), Synset('tineoid.n.01'), Synset('tineid.n.01'), Synset('clothes_moth.n.01'), Synset('gelechiid.n.01'), Synset('grain_moth.n.01'), Synset('noctuid_moth.n.01'), Synset('cutworm.n.01'), Synset('underwing.n.01'), Synset('hawkmoth.n.01'), Synset('bombycid.n.01'), Synset('saturniid.n.01'), Synset('giant_silkworm_moth.n.01'), Synset('silkworm.n.02'), Synset('arctiid.n.01'), Synset('lasiocampid.n.01'), Synset('tent_caterpillar.n.01'), Synset('webworm.n.01'), Synset('webworm_moth.n.01'), Synset('caterpillar.n.01'), Synset('bollworm.n.01'), Synset('woolly_bear.n.01'), Synset('larva.n.01'), Synset('grub.n.02'), Synset('pupa.n.01'), Synset('queen.n.01'), Synset('echinoderm.n.01'), Synset('basket_star.n.01'), Synset('sea_urchin.n.01'), Synset('crinoid.n.01'), Synset('sea_cucumber.n.01'), Synset('lagomorph.n.01'), Synset('leporid.n.01'), Synset('rabbit.n.01'), Synset('wood_rabbit.n.01'), Synset('hare.n.01'), Synset('jackrabbit.n.01'), Synset('pika.n.01'), Synset('rodent.n.01'), Synset('mouse.n.01'), Synset('rat.n.01'), Synset('pocket_rat.n.01'), Synset('field_mouse.n.02'), Synset('brown_rat.n.01'), Synset('jerboa_rat.n.01'), Synset('water_rat.n.03'), Synset('new_world_mouse.n.01'), Synset('wood_mouse.n.01'), Synset('wood_rat.n.01'), Synset('vole.n.01'), Synset('packrat.n.02'), Synset('hamster.n.01'), Synset('gerbil.n.01'), Synset('lemming.n.01'), Synset('pied_lemming.n.01'), Synset('porcupine.n.01'), Synset('old_world_porcupine.n.01'), Synset('new_world_porcupine.n.01'), Synset('pocket_mouse.n.01'), Synset('kangaroo_rat.n.01'), Synset('jumping_mouse.n.01'), Synset('jerboa.n.01'), Synset('dormouse.n.01'), Synset('gopher.n.04'), Synset('squirrel.n.01'), Synset('tree_squirrel.n.01'), Synset('ground_squirrel.n.02'), Synset('prairie_dog.n.01'), Synset('american_flying_squirrel.n.01'), Synset('marmot.n.01'), Synset('asiatic_flying_squirrel.n.01'), Synset('beaver.n.07'), Synset('cavy.n.01'), Synset('naked_mole_rat.n.01'), Synset('ungulate.n.01'), Synset('dinocerate.n.01'), Synset('hyrax.n.01'), Synset('odd-toed_ungulate.n.01'), Synset('equine.n.01'), Synset('horse.n.01'), Synset('foal.n.01'), Synset('colt.n.01'), Synset('male_horse.n.01'), Synset('stallion.n.01'), Synset('mare.n.01'), Synset('saddle_horse.n.01'), Synset('warhorse.n.03'), Synset('pony.n.01'), Synset('mustang.n.01'), Synset('bronco.n.01'), Synset('wild_horse.n.01'), Synset('pony.n.05'), Synset('racehorse.n.01'), Synset('racer.n.03'), Synset('harness_horse.n.01'), Synset('workhorse.n.02'), Synset('draft_horse.n.01'), Synset('trotting_horse.n.01'), Synset('ass.n.03'), Synset('domestic_ass.n.01'), Synset('wild_ass.n.01'), Synset('onager.n.02'), Synset('zebra.n.01'), Synset('rhinoceros.n.01'), Synset('tapir.n.01'), Synset('even-toed_ungulate.n.01'), Synset('swine.n.01'), Synset('hog.n.03'), Synset('piglet.n.01'), Synset('peccary.n.01'), Synset('ruminant.n.01'), Synset('bovid.n.01'), Synset('bovine.n.01'), Synset('ox.n.02'), Synset('cattle.n.01'), Synset('bull.n.01'), Synset('cow.n.01'), Synset('beef.n.01'), Synset('brahman.n.04'), Synset('dairy_cattle.n.01'), Synset('old_world_buffalo.n.01'), Synset('water_buffalo.n.01'), Synset('asian_wild_ox.n.01'), Synset('bison.n.01'), Synset('sheep.n.01'), Synset('wether.n.01'), Synset('lamb.n.01'), Synset('domestic_sheep.n.01'), Synset('wild_sheep.n.01'), Synset('mountain_sheep.n.01'), Synset('goat.n.01'), Synset('domestic_goat.n.01'), Synset('wild_goat.n.01'), Synset('goat_antelope.n.01'), Synset('antelope.n.01'), Synset('gazelle.n.01'), Synset('kudu.n.01'), Synset('harnessed_antelope.n.01'), Synset('eland.n.01'), Synset('waterbuck.n.01'), Synset('oryx.n.01'), Synset('deer.n.01'), Synset('stag.n.02'), Synset('red_deer.n.01'), Synset('mule_deer.n.01'), Synset('roe_deer.n.01'), Synset('caribou.n.01'), Synset('chevrotain.n.01'), Synset('camel.n.01'), Synset('llama.n.01'), Synset('giraffe.n.01'), Synset('musteline_mammal.n.01'), Synset('weasel.n.02'), Synset('ermine.n.02'), Synset('mink.n.03'), Synset('polecat.n.02'), Synset('muishond.n.01'), Synset('otter.n.02'), Synset('skunk.n.04'), Synset('badger.n.02'), Synset('marten.n.01'), Synset('pachyderm.n.01'), Synset('edentate.n.01'), Synset('armadillo.n.01'), Synset('sloth.n.02'), Synset('megatherian.n.01'), Synset('mylodontid.n.01'), Synset('anteater.n.02'), Synset('primate.n.02'), Synset('ape.n.01'), Synset('anthropoid_ape.n.01'), Synset('hominoid.n.01'), Synset('hominid.n.01'), Synset('homo.n.02'), Synset('homo_erectus.n.01'), Synset('homo_soloensis.n.01'), Synset('homo_sapiens.n.01'), Synset('australopithecine.n.01'), Synset('dryopithecine.n.01'), Synset('great_ape.n.01'), Synset('gorilla.n.01'), Synset('chimpanzee.n.01'), Synset('lesser_ape.n.01'), Synset('monkey.n.01'), Synset('old_world_monkey.n.01'), Synset('guenon.n.01'), Synset('baboon.n.01'), Synset('macaque.n.01'), Synset('langur.n.01'), Synset('colobus.n.01'), Synset('new_world_monkey.n.01'), Synset('marmoset.n.01'), Synset('tamarin.n.01'), Synset('tree_shrew.n.01'), Synset('lemur.n.01'), Synset('tarsier.n.01'), Synset('flying_lemur.n.01'), Synset('proboscidean.n.01'), Synset('elephant.n.01'), Synset('indian_elephant.n.01'), Synset('mammoth.n.01'), Synset('mastodon.n.01'), Synset('procyonid.n.01'), Synset('raccoon.n.02'), Synset('fish.n.01'), Synset('food_fish.n.01'), Synset('young_fish.n.01'), Synset('bony_fish.n.01'), Synset('crossopterygian.n.01'), Synset('lungfish.n.01'), Synset('catfish.n.03'), Synset('silurid.n.01'), Synset('bullhead.n.02'), Synset('channel_catfish.n.01'), Synset('sea_catfish.n.01'), Synset('gadoid.n.01'), Synset('cod.n.03'), Synset('hake.n.02'), Synset('eel.n.02'), Synset('teleost_fish.n.01'), Synset('clupeid_fish.n.01'), Synset('shad.n.02'), Synset('herring.n.02'), Synset('sardine.n.02'), Synset('pilchard.n.02'), Synset('anchovy.n.02'), Synset('salmonid.n.01'), Synset('salmon.n.01'), Synset('atlantic_salmon.n.02'), Synset('trout.n.02'), Synset('brown_trout.n.01'), Synset('char.n.03'), Synset('whitefish.n.03'), Synset('smelt.n.02'), Synset('tarpon.n.01'), Synset('ribbonfish.n.02'), Synset('toadfish.n.01'), Synset('needlefish.n.01'), Synset('flying_fish.n.01'), Synset('spiny-finned_fish.n.01'), Synset('percoid_fish.n.01'), Synset('perch.n.06'), Synset('pike-perch.n.01'), Synset('walleye.n.02'), Synset('robalo.n.01'), Synset('pike.n.05'), Synset('pickerel.n.02'), Synset('sunfish.n.03'), Synset('crappie.n.02'), Synset('freshwater_bream.n.02'), Synset('black_bass.n.02'), Synset('bass.n.08'), Synset('serranid_fish.n.01'), Synset('sea_bass.n.02'), Synset('grouper.n.02'), Synset('hind.n.01'), Synset('surfperch.n.01'), Synset('cardinalfish.n.01'), Synset('remora.n.01'), Synset('carangid_fish.n.01'), Synset('jack.n.11'), Synset('moonfish.n.01'), Synset('pompano.n.02'), Synset('scad.n.01'), Synset('dolphinfish.n.02'), Synset('characin.n.01'), Synset('cichlid.n.01'), Synset('snapper.n.05'), Synset('grunt.n.03'), Synset('sparid.n.01'), Synset('sea_bream.n.02'), Synset('porgy.n.02'), Synset('sciaenid_fish.n.01'), Synset('drum.n.06'), Synset('croaker.n.02'), Synset('whiting.n.04'), Synset('sea_trout.n.02'), Synset('mullet.n.03'), Synset('goatfish.n.01'), Synset('mullet.n.02'), Synset('silversides.n.01'), Synset('barracuda.n.01'), Synset('sea_chub.n.01'), Synset('butterfly_fish.n.01'), Synset('damselfish.n.01'), Synset('anemone_fish.n.01'), Synset('wrasse.n.01'), Synset('razor_fish.n.01'), Synset('threadfin.n.01'), Synset('blennioid_fish.n.01'), Synset('blenny.n.01'), Synset('pikeblenny.n.01'), Synset('gunnel.n.02'), Synset('prickleback.n.01'), Synset('eelpout.n.01'), Synset('goby.n.01'), Synset('surgeonfish.n.01'), Synset('gempylid.n.01'), Synset('scombroid.n.01'), Synset('mackerel.n.02'), Synset('spanish_mackerel.n.02'), Synset('tuna.n.03'), Synset('bonito.n.03'), Synset('sailfish.n.02'), Synset('billfish.n.02'), Synset('marlin.n.01'), Synset('butterfish.n.02'), Synset('clingfish.n.01'), Synset('tripletail.n.01'), Synset('mojarra.n.01'), Synset('ganoid.n.01'), Synset('sturgeon.n.01'), Synset('scorpaenoid.n.01'), Synset('scorpaenid.n.01'), Synset('scorpionfish.n.01'), Synset('rockfish.n.02'), Synset('sculpin.n.01'), Synset('lumpfish.n.01'), Synset('poacher.n.03'), Synset('greenling.n.01'), Synset('gurnard.n.01'), Synset('sea_robin.n.01'), Synset('plectognath.n.01'), Synset('triggerfish.n.01'), Synset('filefish.n.01'), Synset('boxfish.n.01'), Synset('spiny_puffer.n.01'), Synset('ocean_sunfish.n.01'), Synset('flatfish.n.02'), Synset('righteye_flounder.n.01'), Synset('lefteye_flounder.n.01'), Synset('whiff.n.02'), Synset('sole.n.04'), Synset('bioweapon.n.01'), Synset('device.n.01'), Synset('instrument.n.01'), Synset('instrumentality.n.03'), Synset('weapon.n.01'), Synset('weapon_of_mass_destruction.n.01'), Synset('quality.n.01'), Synset('morality.n.01'), Synset('virtue.n.04'), Synset('cardinal_virtue.n.01'), Synset('theological_virtue.n.01'), Synset('good.n.02'), Synset('content.n.05'), Synset('belief.n.01'), Synset('religion.n.01'), Synset('cult.n.05'), Synset('voodoo.n.03'), Synset('language_unit.n.01'), Synset('name.n.01'), Synset('appellation.n.01'), Synset('title.n.06'), Synset('dysphemism.n.01'), Synset('auditory_communication.n.01'), Synset('speech.n.02'), Synset('saying.n.01'), Synset('biological_group.n.01'), Synset('ethnic_group.n.01'), Synset('taxonomic_group.n.01'), Synset('variety.n.03'), Synset('family.n.06'), Synset('genus.n.02'), Synset('agent.n.01'), Synset('infectious_agent.n.01'), Synset('vector.n.03'), Synset('spiritual_being.n.01'), Synset('spiritual_leader.n.01'), Synset('deity.n.01'), Synset('vestal_virgin.n.01'), Synset('self.n.02'), Synset('adult.n.01'), Synset('adventurer.n.01'), Synset('anomaly.n.02'), Synset('applicant.n.01'), Synset('attendant.n.02'), Synset('benefactor.n.01'), Synset('capitalist.n.02'), Synset('captor.n.01'), Synset('changer.n.01'), Synset('color-blind_person.n.01'), Synset('commoner.n.01'), Synset('communicator.n.01'), Synset('consumer.n.01'), Synset('contestant.n.01'), Synset('coward.n.01'), Synset('creator.n.02'), Synset('defender.n.01'), Synset('discussant.n.01'), Synset('disputant.n.01'), Synset('engineer.n.01'), Synset('entertainer.n.01'), Synset('experimenter.n.02'), Synset('expert.n.01'), Synset('female.n.02'), Synset('finisher.n.04'), Synset('finisher.n.03'), Synset('individualist.n.01'), Synset('inhabitant.n.01'), Synset('native.n.01'), Synset('innocent.n.01'), Synset('intellectual.n.01'), Synset('juvenile.n.01'), Synset('lover.n.01'), Synset('lover.n.03'), Synset('leader.n.01'), Synset('male.n.02'), Synset('mediator.n.01'), Synset('money_handler.n.01'), Synset('national.n.01'), Synset('nonreligious_person.n.01'), Synset('nonworker.n.01'), Synset('peer.n.01'), Synset('perceiver.n.01'), Synset('precursor.n.02'), Synset('primitive.n.01'), Synset('recipient.n.01'), Synset('religious_person.n.01'), Synset('sensualist.n.01'), Synset('traveler.n.01'), Synset('unfortunate.n.01'), Synset('unwelcome_person.n.01'), Synset('unpleasant_person.n.01'), Synset('unskilled_person.n.01'), Synset('worker.n.01'), Synset('wrongdoer.n.01'), Synset('african.n.01'), Synset('black_african.n.01'), Synset('person_of_color.n.01'), Synset('black.n.05'), Synset('black_man.n.01'), Synset('white.n.01'), Synset('circassian.n.01'), Synset('semite.n.01'), Synset('babylonian.n.01'), Synset('white_man.n.01'), Synset('asian.n.01'), Synset('oriental.n.01'), Synset('mongol.n.01'), Synset('amerindian.n.01'), Synset('indian.n.01'), Synset('algonquian.n.01'), Synset('anasazi.n.01'), Synset('athapaskan.n.01'), Synset('mayan.n.01'), Synset('nahuatl.n.01'), Synset('plains_indian.n.01'), Synset('caddo.n.01'), Synset('dhegiha.n.01'), Synset('hokan.n.02'), Synset('iroquois.n.01'), Synset('muskhogean.n.01'), Synset('penutian.n.02'), Synset('pueblo.n.01'), Synset('salish.n.02'), Synset('shahaptian.n.01'), Synset('shoshone.n.01'), Synset('sioux.n.01'), Synset('teton.n.01'), Synset('taracahitian.n.01'), Synset('wakashan.n.01'), Synset('indian.n.02'), Synset('dravidian.n.01'), Synset('slav.n.01'), Synset('acadian.n.01'), Synset('anabaptist.n.01'), Synset('mennonite.n.01'), Synset('christian.n.01'), Synset('gentile.n.03'), Synset('protestant.n.01'), Synset('catholic.n.01'), Synset('roman_catholic.n.01'), Synset('jew.n.01'), Synset('muslim.n.01'), Synset('buddhist.n.01'), Synset('hindu.n.02'), Synset('european.n.01'), Synset('sahib.n.01'), Synset('celt.n.01'), Synset('gaul.n.02'), Synset('frank.n.01'), Synset('teuton.n.02'), Synset('afghan.n.02'), Synset('altaic.n.01'), Synset('angolan.n.01'), Synset('australian.n.01'), Synset('austronesian.n.01'), Synset('bantu.n.01'), Synset('belgian.n.01'), Synset('bornean.n.01'), Synset('brazilian.n.01'), Synset('cambodian.n.01'), Synset('canadian.n.01'), Synset('french_canadian.n.01'), Synset('central_american.n.01'), Synset('chinese.n.02'), Synset('dane.n.01'), Synset('egyptian.n.01'), Synset('britisher.n.01'), Synset('english_person.n.01'), Synset('englishman.n.01'), Synset('englishwoman.n.01'), Synset('saxon.n.01'), Synset('londoner.n.01'), Synset('ethiopian.n.01'), Synset('latvian.n.01'), Synset('frenchman.n.01'), Synset('parisian.n.01'), Synset('cretan.n.01'), Synset('greek.n.02'), Synset('hindu.n.01'), Synset('indonesian.n.01'), Synset('irani.n.01'), Synset('iraqi.n.01'), Synset('irish_person.n.01'), Synset('irishman.n.01'), Synset('israelite.n.01'), Synset('israeli.n.01'), Synset('italian.n.01'), Synset('roman.n.02'), Synset('sicilian.n.01'), Synset('japanese.n.01'), Synset('korean.n.01'), Synset('kurd.n.01'), Synset('latin_american.n.01'), Synset('macedonian.n.01'), Synset('malaysian.n.01'), Synset('mexican.n.01'), Synset('nepalese.n.01'), Synset('nicaraguan.n.01'), Synset('nigerian.n.01'), Synset('north_american.n.01'), Synset('pakistani.n.01'), Synset('south_american_indian.n.01'), Synset('quechua.n.01'), Synset('inca.n.01'), Synset('filipino.n.01'), Synset('pole.n.02'), Synset('polynesian.n.01'), Synset('russian.n.01'), Synset('arab.n.01'), Synset('scandinavian.n.01'), Synset('scot.n.01'), Synset('siberian.n.01'), Synset('south_african.n.01'), Synset('south_american.n.01'), Synset('spaniard.n.01'), Synset('syrian.n.01'), Synset('turk.n.01'), Synset('turki.n.01'), Synset('tungusic.n.01'), Synset('american.n.03'), Synset('american.n.01'), Synset('alaskan.n.01'), Synset('hawaiian.n.02'), Synset('new_yorker.n.01'), Synset('german.n.01'), Synset('berliner.n.01'), Synset('prussian.n.01'), Synset('abandoned_person.n.01'), Synset('abbess.n.01'), Synset('abbot.n.01'), Synset('absconder.n.01'), Synset('absentee.n.01'), Synset('abstainer.n.02'), Synset('abstainer.n.01'), Synset('abstractionist.n.01'), Synset('academic_administrator.n.01'), Synset('academician.n.03'), Synset('accessory.n.03'), Synset('accomplice.n.01'), Synset('accountant.n.01'), Synset('defendant.n.01'), Synset('ace.n.03'), Synset('achiever.n.01'), Synset('acolyte.n.01'), Synset('acquaintance.n.03'), Synset('acquirer.n.01'), Synset('acrobat.n.01'), Synset('aerialist.n.01'), Synset('actor.n.01'), Synset('actor.n.02'), Synset('actress.n.01'), Synset('addict.n.02'), Synset('addict.n.01'), Synset('adjudicator.n.01'), Synset('adjutant.n.01'), Synset('administrator.n.03'), Synset('administrator.n.01'), Synset('admirer.n.03'), Synset('admirer.n.02'), Synset('adolescent.n.01'), Synset('adulterer.n.01'), Synset('adversary.n.01'), Synset('advertiser.n.01'), Synset('adviser.n.01'), Synset('advocate.n.01'), Synset('agent.n.04'), Synset('agent.n.02'), Synset('business_agent.n.01'), Synset('agricultural_laborer.n.01'), Synset('agriculturist.n.01'), Synset('aide.n.02'), Synset('aircrewman.n.01'), Synset('alarmist.n.01'), Synset('ally.n.02'), Synset('alto.n.01'), Synset('alumnus.n.01'), Synset('amateur.n.01'), Synset('amateur.n.02'), Synset('ambassador.n.01'), Synset('analyst.n.01'), Synset('industry_analyst.n.01'), Synset('market_analyst.n.01'), Synset('analyst.n.02'), Synset('anatomist.n.01'), Synset('ancestor.n.01'), Synset('animal_fancier.n.01'), Synset('announcer.n.02'), Synset('announcer.n.01'), Synset('anthropologist.n.01'), Synset('appointee.n.01'), Synset('apprentice.n.01'), Synset('appraiser.n.01'), Synset('appreciator.n.01'), Synset('appropriator.n.01'), Synset('arbiter.n.02'), Synset('archeologist.n.01'), Synset('archbishop.n.01'), Synset('archer.n.01'), Synset('architect.n.01'), Synset('aristocrat.n.01'), Synset('army_engineer.n.01'), Synset('army_officer.n.01'), Synset('arranger.n.02'), Synset('arrival.n.03'), Synset('arsonist.n.01'), Synset('art_dealer.n.01'), Synset('articulator.n.01'), Synset('illustrator.n.01'), Synset('artist.n.01'), Synset('ascender.n.01'), Synset('asserter.n.01'), Synset('assistant.n.01'), Synset('associate.n.01'), Synset('astronaut.n.01'), Synset('astronomer.n.01'), Synset('athlete.n.01'), Synset('attache.n.01'), Synset('attacker.n.01'), Synset('attendant.n.01'), Synset('auditor.n.03'), Synset('aunt.n.01'), Synset('au_pair.n.01'), Synset('authoritarian.n.01'), Synset('authority.n.03'), Synset('authority.n.02'), Synset('aviator.n.01'), Synset('baby.n.01'), Synset('back.n.04'), Synset('bad_person.n.01'), Synset('balker.n.01'), Synset('ball_carrier.n.01'), Synset('ballerina.n.01'), Synset('ballet_dancer.n.01'), Synset('ballplayer.n.01'), Synset('bullfighter.n.01'), Synset('banker.n.01'), Synset('baptist.n.01'), Synset('bargainer.n.02'), Synset('baron.n.03'), Synset('barrister.n.01'), Synset('bartender.n.01'), Synset('baseball_coach.n.01'), Synset('basketball_player.n.01'), Synset('baton_twirler.n.01'), Synset('batter.n.01'), Synset('beautician.n.01'), Synset('beggar.n.01'), Synset('believer.n.02'), Synset('theist.n.01'), Synset('believer.n.01'), Synset('beneficiary.n.01'), Synset('berber.n.01'), Synset('betrothed.n.01'), Synset('bettor.n.01'), Synset('bidder.n.02'), Synset('bigot.n.01'), Synset('big_shot.n.01'), Synset('biochemist.n.01'), Synset('biographer.n.01'), Synset('biologist.n.01'), Synset('bisexual.n.01'), Synset('bishop.n.01'), Synset('biter.n.01'), Synset('blacksmith.n.01'), Synset('blasphemer.n.01'), Synset('blond.n.01'), Synset('blood_donor.n.01'), Synset('bluejacket.n.01'), Synset('boatman.n.01'), Synset('bodyguard.n.01'), Synset('body_servant.n.01'), Synset('bond_servant.n.01'), Synset('booker.n.01'), Synset('bore.n.01'), Synset('borrower.n.01'), Synset('boss.n.02'), Synset('botanist.n.01'), Synset('bourgeois.n.02'), Synset('boxer.n.01'), Synset('boy.n.02'), Synset('boy_scout.n.01'), Synset('brahman.n.02'), Synset('breaker.n.01'), Synset('bride.n.01'), Synset('bridge_partner.n.01'), Synset('bridge_player.n.01'), Synset('broadcaster.n.01'), Synset('brother.n.01'), Synset('brother.n.02'), Synset('buddy.n.01'), Synset('builder.n.03'), Synset('bully.n.01'), Synset('bureaucrat.n.01'), Synset('burglar.n.01'), Synset('businessman.n.01'), Synset('businesswoman.n.01'), Synset('businessperson.n.01'), Synset('butcher.n.03'), Synset('butcher.n.01'), Synset('butt.n.03'), Synset('buyer.n.01'), Synset('cabinet_minister.n.01'), Synset('cad.n.01'), Synset('cadet.n.01'), Synset('calculator.n.01'), Synset('caller.n.06'), Synset('calvinist.n.01'), Synset('campaigner.n.01'), Synset('canon.n.02'), Synset('captain.n.06'), Synset('captain.n.02'), Synset('captain.n.03'), Synset('cardinal.n.01'), Synset('card_player.n.01'), Synset('careerist.n.01'), Synset('caretaker.n.01'), Synset('cartoonist.n.01'), Synset('case.n.06'), Synset('case_officer.n.01'), Synset('cavalryman.n.02'), Synset('celebrant.n.01'), Synset('celebrity.n.01'), Synset('champion.n.01'), Synset('chancellor.n.02'), Synset('chandler.n.03'), Synset('chandler.n.02'), Synset('chap.n.01'), Synset('chaperon.n.01'), Synset('chaplain.n.01'), Synset('charmer.n.02'), Synset('antifeminist.n.01'), Synset('checker.n.01'), Synset('chemist.n.01'), Synset('chess_player.n.01'), Synset('chewer.n.01'), Synset('child.n.01'), Synset('child.n.02'), Synset('chorister.n.01'), Synset('churchgoer.n.01'), Synset('church_officer.n.01'), Synset('cipher.n.04'), Synset('citizen.n.01'), Synset('civil_engineer.n.01'), Synset('civil_rights_leader.n.01'), Synset('claimant.n.01'), Synset('classicist.n.02'), Synset('cleaner.n.03'), Synset('clergyman.n.01'), Synset('cleric.n.01'), Synset('clerk.n.01'), Synset('climber.n.04'), Synset('closer.n.02'), Synset('clown.n.02'), Synset('clumsy_person.n.01'), Synset('coach.n.02'), Synset('coach.n.01'), Synset('cobbler.n.01'), Synset('codefendant.n.01'), Synset('cognitive_scientist.n.01'), Synset('collaborator.n.03'), Synset('collector.n.02'), Synset('collector.n.01'), Synset('college_student.n.01'), Synset('collegian.n.01'), Synset('colonel.n.01'), Synset('columnist.n.01'), Synset('combatant.n.01'), Synset('combat_pilot.n.01'), Synset('comedian.n.01'), Synset('comedian.n.02'), Synset('commanding_officer.n.01'), Synset('commissioned_officer.n.01'), Synset('commissioned_military_officer.n.01'), Synset('commissioned_naval_officer.n.01'), Synset('commissioner.n.01'), Synset('committee_member.n.01'), Synset('council_member.n.01'), Synset('communist.n.02'), Synset('commuter.n.02'), Synset('companion.n.01'), Synset('compiler.n.01'), Synset('composer.n.01'), Synset('compulsive.n.01'), Synset('computer_expert.n.01'), Synset('computer_scientist.n.01'), Synset('computer_user.n.01'), Synset('conciliator.n.01'), Synset('concubine.n.01'), Synset('conductor.n.01'), Synset('conductor.n.03'), Synset('confederate.n.01'), Synset('confederate_soldier.n.01'), Synset('confidant.n.01'), Synset('swindler.n.01'), Synset('congressman.n.01'), Synset('connoisseur.n.01'), Synset('conqueror.n.01'), Synset('conservative.n.01'), Synset('nonconformist.n.02'), Synset('consort.n.01'), Synset('contractor.n.01'), Synset('contractor.n.03'), Synset('conversationalist.n.01'), Synset('converso.n.01'), Synset('convert.n.01'), Synset('convict.n.01'), Synset('convict.n.02'), Synset('cook.n.01'), Synset('chef.n.01'), Synset('copycat.n.01'), Synset('corporate_executive.n.01'), Synset('correspondent.n.01'), Synset('correspondent.n.02'), Synset('cosmopolitan.n.01'), Synset('counselor.n.01'), Synset('count.n.03'), Synset('counterperson.n.01'), Synset('compatriot.n.01'), Synset('couturier.n.01'), Synset('cowboy.n.01'), Synset('craftsman.n.03'), Synset('creditor.n.01'), Synset('crewman.n.02'), Synset('cricketer.n.01'), Synset('criminal.n.01'), Synset('cripple.n.01'), Synset('critic.n.03'), Synset('critic.n.02'), Synset('critic.n.01'), Synset('crossing_guard.n.01'), Synset('cuckold.n.01'), Synset('cur.n.02'), Synset('curate.n.01'), Synset('custodian.n.01'), Synset('customer.n.01'), Synset('cutter.n.03'), Synset('cynic.n.01'), Synset('dame.n.02'), Synset('dancer.n.01'), Synset('dancer.n.02'), Synset('dandy.n.01'), Synset('daredevil.n.01'), Synset('darling.n.01'), Synset('date.n.02'), Synset('daughter.n.01'), Synset('dawdler.n.01'), Synset('day_boarder.n.01'), Synset('daydreamer.n.01'), Synset('deacon.n.01'), Synset('dead_person.n.01'), Synset('decoder.n.01'), Synset('decoy.n.01'), Synset('deaf_person.n.01'), Synset('debaser.n.01'), Synset('debater.n.01'), Synset('debtor.n.01'), Synset('deceiver.n.01'), Synset('defaulter.n.02'), Synset('delayer.n.01'), Synset('delegate.n.01'), Synset('deliverer.n.04'), Synset('deliveryman.n.01'), Synset('demonstrator.n.03'), Synset('dentist.n.01'), Synset('dependant.n.01'), Synset('depositor.n.01'), Synset('depressive.n.01'), Synset('deputy.n.02'), Synset('deputy.n.04'), Synset('dervish.n.01'), Synset('descendant.n.01'), Synset('descender.n.01'), Synset('deserter.n.02'), Synset('desk_clerk.n.01'), Synset('desperate.n.01'), Synset('destroyer.n.02'), Synset('detective.n.01'), Synset('detective.n.02'), Synset('detractor.n.01'), Synset('devil_worshiper.n.01'), Synset('diagnostician.n.01'), Synset('dichromat.n.01'), Synset('dictator.n.02'), Synset('digger.n.01'), Synset('diner.n.01'), Synset('dining-room_attendant.n.01'), Synset('diplomat.n.01'), Synset('director.n.01'), Synset('director.n.03'), Synset('disbeliever.n.01'), Synset('disciple.n.01'), Synset('dispatcher.n.02'), Synset('dissenter.n.01'), Synset('distributor.n.01'), Synset('diver.n.01'), Synset('divider.n.02'), Synset('diviner.n.01'), Synset('doctor.n.01'), Synset('domestic.n.01'), Synset('domestic_partner.n.01'), Synset('donor.n.01'), Synset('donor.n.02'), Synset('doorkeeper.n.03'), Synset('double.n.03'), Synset('double-crosser.n.01'), Synset('draftsman.n.02'), Synset('draper.n.01'), Synset('drawee.n.01'), Synset('dresser.n.02'), Synset('drinker.n.02'), Synset('drinker.n.01'), Synset('driver.n.02'), Synset('drug_addict.n.01'), Synset('drug_user.n.01'), Synset('drummer.n.01'), Synset('drunk.n.02'), Synset('drunkard.n.01'), Synset('duchess.n.01'), Synset('dwarf.n.01'), Synset('eager_beaver.n.01'), Synset('earner.n.01'), Synset('eater.n.01'), Synset('eavesdropper.n.01'), Synset('eccentric.n.01'), Synset('economist.n.01'), Synset('economizer.n.01'), Synset('editor.n.01'), Synset('educator.n.01'), Synset('egotist.n.01'), Synset('elder.n.01'), Synset('elder.n.03'), Synset('elected_official.n.01'), Synset('electrician.n.01'), Synset('elitist.n.01'), Synset('embroiderer.n.01'), Synset('emissary.n.01'), Synset('emotional_person.n.01'), Synset('emperor.n.01'), Synset('employee.n.01'), Synset('employer.n.01'), Synset('endomorph.n.01'), Synset('enemy.n.02'), Synset('end.n.08'), Synset('endorser.n.02'), Synset('engraver.n.01'), Synset('enlisted_man.n.01'), Synset('enlisted_person.n.01'), Synset('enrollee.n.01'), Synset('enthusiast.n.01'), Synset('entomologist.n.01'), Synset('entrant.n.03'), Synset('environmentalist.n.01'), Synset('escort.n.03'), Synset('evaluator.n.01'), Synset('evangelist.n.01'), Synset('examiner.n.02'), Synset('executioner.n.01'), Synset('executive.n.01'), Synset('executor.n.01'), Synset('exhibitionist.n.02'), Synset('exhibitionist.n.01'), Synset('exile.n.01'), Synset('explorer.n.01'), Synset('faddist.n.01'), Synset('fakir.n.01'), Synset('fan.n.03'), Synset('fancier.n.01'), Synset('farmer.n.01'), Synset('farmhand.n.01'), Synset('fascist.n.01'), Synset('father.n.01'), Synset('father_figure.n.01'), Synset('female_aristocrat.n.01'), Synset('female_offspring.n.01'), Synset('female_sibling.n.01'), Synset('female_child.n.01'), Synset('feminist.n.01'), Synset('ferryman.n.01'), Synset('feudal_lord.n.01'), Synset('fiduciary.n.01'), Synset('fielder.n.02'), Synset('fielder.n.01'), Synset('fighter_pilot.n.01'), Synset('film_maker.n.01'), Synset('financier.n.01'), Synset('finder.n.02'), Synset('fireman.n.04'), Synset('fire_warden.n.01'), Synset('first_sergeant.n.01'), Synset('fisherman.n.01'), Synset('flag_officer.n.01'), Synset('flatterer.n.01'), Synset('flunky.n.02'), Synset('foe.n.02'), Synset('folk_dancer.n.01'), Synset('folk_writer.n.01'), Synset('follower.n.01'), Synset('follower.n.02'), Synset('fool.n.01'), Synset('football_coach.n.01'), Synset('football_official.n.01'), Synset('football_player.n.01'), Synset('forebear.n.01'), Synset('forecaster.n.01'), Synset('forefather.n.01'), Synset('foreigner.n.01'), Synset('foreigner.n.02'), Synset('boss.n.03'), Synset('foreman.n.01'), Synset('foreperson.n.01'), Synset('forger.n.02'), Synset('fortuneteller.n.01'), Synset('foster-child.n.01'), Synset('foster-parent.n.01'), Synset('founder.n.02'), Synset('founder.n.03'), Synset('freak.n.01'), Synset('free_agent.n.02'), Synset('freeholder.n.01'), Synset('freeman.n.01'), Synset('freemason.n.01'), Synset('friar.n.01'), Synset('monk.n.01'), Synset('friend.n.01'), Synset('fugitive.n.02'), Synset('gambler.n.01'), Synset('gamekeeper.n.01'), Synset('gangster.n.01'), Synset('gardener.n.01'), Synset('gardener.n.02'), Synset('garmentmaker.n.01'), Synset('gay_man.n.01'), Synset('general.n.01'), Synset('general_officer.n.01'), Synset('general_practitioner.n.01'), Synset('generator.n.03'), Synset('geneticist.n.01'), Synset('genitor.n.01'), Synset('progenitor.n.01'), Synset('genius.n.01'), Synset('gentleman.n.01'), Synset('geographer.n.01'), Synset('geologist.n.01'), Synset('geophysicist.n.01'), Synset('gigolo.n.01'), Synset('girl.n.01'), Synset('girl_scout.n.01'), Synset('government_agent.n.01'), Synset('godchild.n.01'), Synset('godparent.n.01'), Synset('gold_miner.n.01'), Synset('golfer.n.01'), Synset('good_person.n.01'), Synset('gossip.n.03'), Synset('goth.n.02'), Synset('governor.n.01'), Synset('grader.n.01'), Synset('grandchild.n.01'), Synset('grandma.n.01'), Synset('grandmaster.n.01'), Synset('grandparent.n.01'), Synset('granter.n.01'), Synset('grantor.n.01'), Synset('gravida.n.02'), Synset('great_grandchild.n.01'), Synset('great_grandparent.n.01'), Synset('grocer.n.01'), Synset('groomsman.n.01'), Synset('grouch.n.01'), Synset('guard.n.01'), Synset('guerrilla.n.01'), Synset('guest.n.01'), Synset('guest.n.03'), Synset('guide.n.02'), Synset('guy.n.01'), Synset('gymnast.n.01'), Synset('gypsy.n.02'), Synset('hack.n.01'), Synset('hairdresser.n.01'), Synset('half-caste.n.01'), Synset('handicapped_person.n.01'), Synset('animal_trainer.n.01'), Synset('harvester.n.01'), Synset('hater.n.01'), Synset('hauler.n.01'), Synset('head.n.15'), Synset('head.n.04'), Synset('headman.n.02'), Synset('headmaster.n.01'), Synset('head_of_household.n.01'), Synset('head_of_state.n.01'), Synset('health_professional.n.01'), Synset('hearer.n.01'), Synset('heathen.n.01'), Synset('hedonist.n.01'), Synset('heir.n.01'), Synset('helmsman.n.01'), Synset('hired_help.n.01'), Synset('herder.n.02'), Synset('heterosexual.n.01'), Synset('highjacker.n.02'), Synset('hiker.n.01'), Synset('hired_hand.n.01'), Synset('historian.n.01'), Synset('hitter.n.02'), Synset('hoarder.n.01'), Synset('hockey_player.n.01'), Synset('holder.n.02'), Synset('holdup_man.n.01'), Synset('homeless.n.01'), Synset('homeowner.n.01'), Synset('homosexual.n.01'), Synset('honoree.n.01'), Synset('hood.n.01'), Synset('hope.n.04'), Synset('horseman.n.01'), Synset('horticulturist.n.01'), Synset('host.n.08'), Synset('host.n.01'), Synset('humanist.n.01'), Synset('humorist.n.01'), Synset('hunted_person.n.01'), Synset('hunter.n.01'), Synset('hunter.n.02'), Synset('husband.n.01'), Synset('hustler.n.02'), Synset('hypocrite.n.01'), Synset('ice-skater.n.01'), Synset('idealist.n.01'), Synset('identical_twin.n.01'), Synset('idiot.n.01'), Synset('idler.n.01'), Synset('idol.n.02'), Synset('idolater.n.01'), Synset('ignoramus.n.01'), Synset('illiterate.n.01'), Synset('immune.n.01'), Synset('imp.n.02'), Synset('impersonator.n.01'), Synset('important_person.n.01'), Synset('imposter.n.01'), Synset('incompetent.n.01'), Synset('incumbent.n.01'), Synset('indian_chief.n.01'), Synset('individual.n.02'), Synset('infantryman.n.01'), Synset('infielder.n.01'), Synset('informant.n.01'), Synset('informer.n.01'), Synset('initiate.n.02'), Synset('in-law.n.01'), Synset('inquirer.n.01'), Synset('inquisitor.n.02'), Synset('instigator.n.02'), Synset('instigator.n.01'), Synset('insurgent.n.01'), Synset('interpreter.n.01'), Synset('interviewee.n.01'), Synset('intruder.n.01'), Synset('inventor.n.01'), Synset('investigator.n.02'), Synset('investment_banker.n.01'), Synset('investor.n.01'), Synset('ironworker.n.01'), Synset('itinerant.n.01'), Synset('jazz_musician.n.01'), Synset('jerk.n.01'), Synset('jewelry_maker.n.01'), Synset('jobber.n.01'), Synset('jobholder.n.01'), Synset('journalist.n.01'), Synset('judge.n.01'), Synset('jumper.n.02'), Synset('jumper.n.01'), Synset('jurist.n.01'), Synset('juror.n.01'), Synset('keeper.n.01'), Synset('kicker.n.01'), Synset('kidnapper.n.01'), Synset('killer.n.01'), Synset('king.n.01'), Synset('counsel_to_the_crown.n.01'), Synset('relative.n.01'), Synset('kin.n.01'), Synset('kinsman.n.01'), Synset('kinswoman.n.01'), Synset('knight.n.01'), Synset('laborer.n.01'), Synset('lady.n.03'), Synset('lady.n.01'), Synset('lama.n.01'), Synset('landlord.n.01'), Synset('landowner.n.01'), Synset('large_person.n.01'), Synset('lass.n.01'), Synset('laudator.n.01'), Synset('laugher.n.01'), Synset('laureate.n.01'), Synset('lawgiver.n.01'), Synset('lawman.n.01'), Synset('lawyer.n.01'), Synset('layman.n.01'), Synset('learner.n.01'), Synset('legislator.n.01'), Synset('lender.n.01'), Synset('lesbian.n.01'), Synset('lexicographer.n.01'), Synset('liar.n.01'), Synset('liberal.n.01'), Synset('liberator.n.01'), Synset('libertarian.n.01'), Synset('libertine.n.01'), Synset('librarian.n.01'), Synset('lieutenant.n.01'), Synset('lineman.n.01'), Synset('linguist.n.02'), Synset('linguist.n.01'), Synset('literate.n.01'), Synset('litigant.n.01'), Synset('logician.n.01'), Synset('loner.n.01'), Synset('lord.n.03'), Synset('loser.n.01'), Synset('failure.n.04'), Synset('lowerclassman.n.01'), Synset('lumberman.n.01'), Synset('lunatic.n.01'), Synset('machine.n.02'), Synset('maestro.n.01'), Synset('magician.n.01'), Synset('magistrate.n.01'), Synset('maid.n.02'), Synset('maid.n.01'), Synset('maker.n.01'), Synset('malcontent.n.01'), Synset('male_aristocrat.n.01'), Synset('male_child.n.01'), Synset('male_offspring.n.01'), Synset('male_sibling.n.01'), Synset('man.n.01'), Synset('manicurist.n.01'), Synset('manipulator.n.02'), Synset('mannequin.n.01'), Synset('man_of_means.n.01'), Synset('manservant.n.01'), Synset('manufacturer.n.02'), Synset('marauder.n.01'), Synset('marcher.n.02'), Synset('mariner.n.01'), Synset('marksman.n.01'), Synset('marshal.n.01'), Synset('marshal.n.02'), Synset('martinet.n.01'), Synset('martyr.n.01'), Synset('martyr.n.02'), Synset('masochist.n.01'), Synset('massager.n.01'), Synset('master.n.09'), Synset('master.n.04'), Synset('master_of_ceremonies.n.01'), Synset('masturbator.n.01'), Synset('mathematician.n.01'), Synset('math_teacher.n.01'), Synset('mayor.n.01'), Synset('measurer.n.01'), Synset('mechanical_engineer.n.01'), Synset('meddler.n.01'), Synset('medical_officer.n.01'), Synset('medical_practitioner.n.01'), Synset('medical_scientist.n.01'), Synset('member.n.01'), Synset('memorizer.n.01'), Synset('mender.n.01'), Synset('mentor.n.01'), Synset('mercenary.n.01'), Synset('merchant.n.01'), Synset('messenger.n.01'), Synset('messenger_boy.n.01'), Synset('meteorologist.n.01'), Synset('methodist.n.01'), Synset('microbiologist.n.01'), Synset('middle-aged_man.n.01'), Synset('migrant.n.01'), Synset('miler.n.02'), Synset('militant.n.01'), Synset('militarist.n.01'), Synset('military_attache.n.01'), Synset('military_governor.n.01'), Synset('military_leader.n.01'), Synset('military_officer.n.01'), Synset('military_policeman.n.01'), Synset('militiaman.n.01'), Synset('mill-hand.n.01'), Synset('miner.n.01'), Synset('minister.n.02'), Synset('minstrel.n.02'), Synset('misanthrope.n.01'), Synset('miser.n.01'), Synset('misfit.n.01'), Synset('missionary.n.01'), Synset('mistress.n.03'), Synset('mistress.n.01'), Synset('mixed-blood.n.01'), Synset('model.n.03'), Synset('model.n.06'), Synset('ideal.n.02'), Synset('moderator.n.04'), Synset('molester.n.01'), Synset('monarchist.n.01'), Synset('monetarist.n.01'), Synset('moneymaker.n.01'), Synset('monster.n.04'), Synset('moocher.n.01'), Synset('moralist.n.01'), Synset('mortician.n.01'), Synset('mother.n.01'), Synset('mountaineer.n.01'), Synset('mountebank.n.01'), Synset('mourner.n.01'), Synset('mover.n.03'), Synset('mover.n.01'), Synset('mufti.n.01'), Synset('murderer.n.01'), Synset('musician.n.02'), Synset('musician.n.01'), Synset('music_teacher.n.01'), Synset('muslimah.n.01'), Synset('mutant.n.01'), Synset('mute.n.01'), Synset('mystic.n.01'), Synset('nanny.n.01'), Synset('narrator.n.01'), Synset('nationalist.n.02'), Synset('nationalist_leader.n.01'), Synset('naval_officer.n.01'), Synset('navigator.n.03'), Synset('navigator.n.02'), Synset('obstructionist.n.01'), Synset('naysayer.n.01'), Synset('nazi.n.01'), Synset('necessitarian.n.01'), Synset('needleworker.n.01'), Synset('negotiator.n.01'), Synset('neonate.n.01'), Synset('nephew.n.01'), Synset('neurobiologist.n.01'), Synset('neuroscientist.n.01'), Synset('neurotic.n.01'), Synset('neutral.n.01'), Synset('newcomer.n.01'), Synset('newcomer.n.02'), Synset('newlywed.n.01'), Synset('newscaster.n.01'), Synset('newspaper_editor.n.01'), Synset('newspaper_columnist.n.01'), Synset('niece.n.01'), Synset('niggard.n.01'), Synset('nomad.n.01'), Synset('noncommissioned_officer.n.01'), Synset('novice.n.02'), Synset('nude.n.03'), Synset('nurse.n.01'), Synset('nun.n.01'), Synset('oarsman.n.01'), Synset('observer.n.02'), Synset('obstetrician.n.01'), Synset('occultist.n.01'), Synset('officeholder.n.01'), Synset('officer.n.04'), Synset('official.n.02'), Synset('official.n.01'), Synset('agent.n.05'), Synset('offspring.n.01'), Synset('oilman.n.02'), Synset('oilman.n.01'), Synset('old_man.n.01'), Synset('oldster.n.01'), Synset('old_woman.n.01'), Synset('opera_star.n.01'), Synset('operator.n.03'), Synset('opportunist.n.01'), Synset('oppressor.n.01'), Synset('optimist.n.01'), Synset('orator.n.01'), Synset('organizer.n.01'), Synset('originator.n.01'), Synset('orthodox_jew.n.01'), Synset('outcast.n.01'), Synset('outdoorsman.n.01'), Synset('outfielder.n.01'), Synset('overlord.n.01'), Synset('overseer.n.01'), Synset('owner.n.01'), Synset('owner.n.02'), Synset('pacifist.n.01'), Synset('pagan.n.02'), Synset('painter.n.01'), Synset('painter.n.02'), Synset('panelist.n.01'), Synset('parachutist.n.01'), Synset('paralytic.n.01'), Synset('paraprofessional.n.01'), Synset('pardoner.n.02'), Synset('parent.n.01'), Synset('parodist.n.01'), Synset('parricide.n.01'), Synset('partaker.n.01'), Synset('participant.n.01'), Synset('partisan.n.01'), Synset('partner.n.03'), Synset('party.n.05'), Synset('passenger.n.01'), Synset('patient.n.01'), Synset('patriarch.n.03'), Synset('patriot.n.01'), Synset('patron.n.01'), Synset('patron.n.03'), Synset('patron.n.02'), Synset('pauper.n.01'), Synset('payer.n.01'), Synset('peasant.n.01'), Synset('peasant.n.02'), Synset('pedaler.n.01'), Synset('pedant.n.01'), Synset('peddler.n.01'), Synset('pedestrian.n.01'), Synset('peer.n.02'), Synset('penitent.n.01'), Synset('pensioner.n.01'), Synset('percussionist.n.01'), Synset('performer.n.01'), Synset('personal_representative.n.01'), Synset('personification.n.01'), Synset('embodiment.n.01'), Synset('persuader.n.01'), Synset('pervert.n.01'), Synset('pessimist.n.01'), Synset('pest.n.03'), Synset('petitioner.n.01'), Synset('petty_officer.n.01'), Synset('pharaoh.n.01'), Synset('pharmacist.n.01'), Synset('philosopher.n.01'), Synset('phonetician.n.01'), Synset('phonologist.n.01'), Synset('photographer.n.01'), Synset('photographer's_model.n.01'), Synset('phrygian.n.01'), Synset('physical_therapist.n.01'), Synset('physicist.n.01'), Synset('pilgrim.n.03'), Synset('pilot.n.01'), Synset('pimp.n.01'), Synset('pioneer.n.02'), Synset('piper.n.01'), Synset('pirate.n.02'), Synset('pisser.n.01'), Synset('pitcher.n.01'), Synset('plaintiff.n.01'), Synset('planner.n.01'), Synset('plater.n.01'), Synset('player.n.01'), Synset('playgoer.n.01'), Synset('plebeian.n.01'), Synset('pledgee.n.01'), Synset('plunderer.n.01'), Synset('poet.n.01'), Synset('policeman.n.01'), Synset('police_matron.n.01'), Synset('police_sergeant.n.01'), Synset('politician.n.02'), Synset('politician.n.01'), Synset('polygamist.n.01'), Synset('poor_person.n.01'), Synset('pope.n.01'), Synset('porter.n.01'), Synset('poseur.n.01'), Synset('positivist.n.01'), Synset('poster_child.n.01'), Synset('postmaster.n.01'), Synset('powerhouse.n.01'), Synset('practitioner.n.01'), Synset('prayer.n.05'), Synset('preacher.n.01'), Synset('predecessor.n.01'), Synset('preserver.n.03'), Synset('preserver.n.02'), Synset('president.n.03'), Synset('president.n.04'), Synset('presiding_officer.n.01'), Synset('priest.n.01'), Synset('priest.n.02'), Synset('prince.n.01'), Synset('princess.n.01'), Synset('principal.n.06'), Synset('principal.n.02'), Synset('principal.n.05'), Synset('printer.n.01'), Synset('printmaker.n.01'), Synset('prisoner.n.01'), Synset('private_detective.n.01'), Synset('prizefighter.n.01'), Synset('proctor.n.01'), Synset('procurator.n.02'), Synset('prodigal.n.01'), Synset('prodigy.n.01'), Synset('producer.n.02'), Synset('professional.n.01'), Synset('professional.n.02'), Synset('professor.n.01'), Synset('programmer.n.01'), Synset('proletarian.n.01'), Synset('promiser.n.01'), Synset('promoter.n.01'), Synset('propagandist.n.01'), Synset('prophet.n.01'), Synset('proposer.n.02'), Synset('prosecutor.n.01'), Synset('prospector.n.01'), Synset('prostitute.n.01'), Synset('protege.n.01'), Synset('psychiatrist.n.01'), Synset('psychic.n.01'), Synset('psychologist.n.01'), Synset('psychotherapist.n.01'), Synset('psychotic.n.01'), Synset('publican.n.01'), Synset('publicist.n.01'), Synset('public_relations_person.n.01'), Synset('public_servant.n.01'), Synset('publisher.n.03'), Synset('puller.n.01'), Synset('pursuer.n.01'), Synset('pusher.n.03'), Synset('quarryman.n.01'), Synset('queen.n.02'), Synset('queen.n.03'), Synset('queen_dowager.n.01'), Synset('quitter.n.01'), Synset('rabbi.n.01'), Synset('racketeer.n.01'), Synset('radical.n.03'), Synset('radiobiologist.n.01'), Synset('rancher.n.01'), Synset('ranch_hand.n.01'), Synset('reactionary.n.01'), Synset('reader.n.01'), Synset('reader.n.03'), Synset('realist.n.01'), Synset('realist.n.02'), Synset('real_estate_broker.n.01'), Synset('reasoner.n.01'), Synset('recruit.n.01'), Synset('recruiter.n.02'), Synset('recruiter.n.01'), Synset('redact.n.01'), Synset('reformer.n.01'), Synset('refugee.n.01'), Synset('registered_nurse.n.01'), Synset('registrar.n.03'), Synset('reliever.n.03'), Synset('religious.n.01'), Synset('eremite.n.01'), Synset('religious_leader.n.01'), Synset('repairman.n.01'), Synset('reporter.n.01'), Synset('representative.n.01'), Synset('reprobate.n.01'), Synset('rescuer.n.02'), Synset('research_worker.n.01'), Synset('reservist.n.01'), Synset('resident.n.01'), Synset('respondent.n.02'), Synset('rester.n.01'), Synset('restrainer.n.02'), Synset('retailer.n.01'), Synset('retiree.n.01'), Synset('reveler.n.01'), Synset('reviewer.n.01'), Synset('revolutionist.n.01'), Synset('rich_person.n.01'), Synset('rider.n.01'), Synset('rifleman.n.02'), Synset('rightist.n.01'), Synset('riser.n.01'), Synset('rival.n.01'), Synset('roarer.n.01'), Synset('roaster.n.02'), Synset('robber.n.01'), Synset('rocker.n.02'), Synset('roller-skater.n.01'), Synset('roofer.n.01'), Synset('ruler.n.01'), Synset('civil_authority.n.01'), Synset('runner.n.02'), Synset('runner.n.06'), Synset('running_back.n.01'), Synset('rustic.n.01'), Synset('saboteur.n.01'), Synset('sage.n.01'), Synset('sailor.n.01'), Synset('saint.n.02'), Synset('saint.n.01'), Synset('salesclerk.n.01'), Synset('salesgirl.n.01'), Synset('salesman.n.01'), Synset('salesperson.n.01'), Synset('salvager.n.01'), Synset('savage.n.01'), Synset('saver.n.02'), Synset('savior.n.02'), Synset('saxophonist.n.01'), Synset('scalper.n.01'), Synset('schemer.n.01'), Synset('scholar.n.01'), Synset('scholar.n.03'), Synset('scholiast.n.01'), Synset('schoolchild.n.01'), Synset('schoolteacher.n.01'), Synset('scientist.n.01'), Synset('scold.n.01'), Synset('scout.n.04'), Synset('scout.n.02'), Synset('screen_actor.n.01'), Synset('scriptwriter.n.01'), Synset('sculptor.n.01'), Synset('secret_agent.n.01'), Synset('secretary.n.02'), Synset('secretary.n.01'), Synset('seducer.n.02'), Synset('seducer.n.01'), Synset('seeker.n.01'), Synset('selfish_person.n.01'), Synset('seller.n.01'), Synset('senator.n.01'), Synset('sender.n.01'), Synset('separatist.n.01'), Synset('serf.n.01'), Synset('sergeant.n.01'), Synset('serial_killer.n.01'), Synset('servant.n.01'), Synset('serviceman.n.01'), Synset('settler.n.01'), Synset('sewer.n.02'), Synset('shark.n.02'), Synset('sheepherder.n.01'), Synset('shipper.n.01'), Synset('shopkeeper.n.01'), Synset('shopper.n.01'), Synset('shot.n.05'), Synset('showman.n.02'), Synset('shrew.n.01'), Synset('shy_person.n.01'), Synset('sibling.n.01'), Synset('sick_person.n.01'), Synset('signaler.n.01'), Synset('signer.n.02'), Synset('simpleton.n.01'), Synset('singer.n.01'), Synset('sinner.n.01'), Synset('sister.n.03'), Synset('sister.n.01'), Synset('skater.n.01'), Synset('skeptic.n.01'), Synset('skidder.n.01'), Synset('skier.n.01'), Synset('skilled_worker.n.01'), Synset('slacker.n.01'), Synset('slave.n.01'), Synset('slaver.n.01'), Synset('sledder.n.01'), Synset('sleeper.n.01'), Synset('slicker.n.02'), Synset('slob.n.01'), Synset('small_businessman.n.01'), Synset('small_person.n.01'), Synset('small_farmer.n.01'), Synset('smiler.n.01'), Synset('smith.n.10'), Synset('smith.n.09'), Synset('smoker.n.01'), Synset('smuggler.n.01'), Synset('sneak_thief.n.01'), Synset('snoop.n.01'), Synset('soccer_player.n.01'), Synset('social_anthropologist.n.01'), Synset('social_climber.n.01'), Synset('socialist.n.01'), Synset('collectivist.n.01'), Synset('social_scientist.n.01'), Synset('social_worker.n.01'), Synset('sociologist.n.01'), Synset('soldier.n.01'), Synset('solicitor.n.02'), Synset('solicitor.n.01'), Synset('soloist.n.01'), Synset('son.n.01'), Synset('songster.n.02'), Synset('sophisticate.n.01'), Synset('soprano.n.01'), Synset('sorcerer.n.01'), Synset('shaman.n.01'), Synset('medicine_man.n.01'), Synset('sorceress.n.01'), Synset('southerner.n.01'), Synset('sovereign.n.01'), Synset('spanish_american.n.01'), Synset('speaker.n.01'), Synset('specialist.n.01'), Synset('specialist.n.02'), Synset('spectator.n.01'), Synset('speculator.n.02'), Synset('spendthrift.n.01'), Synset('spoilsport.n.01'), Synset('spokesperson.n.01'), Synset('sporting_man.n.01'), Synset('sports_fan.n.01'), Synset('spouse.n.01'), Synset('spy.n.01'), Synset('spy.n.02'), Synset('squire.n.01'), Synset('staff_officer.n.01'), Synset('stage_director.n.01'), Synset('stagehand.n.01'), Synset('stander.n.01'), Synset('stand-in.n.01'), Synset('star.n.04'), Synset('starter.n.02'), Synset('statesman.n.01'), Synset('statistician.n.02'), Synset('stepchild.n.01'), Synset('stepparent.n.01'), Synset('steward.n.01'), Synset('steward.n.03'), Synset('stock_trader.n.01'), Synset('stockholder.n.01'), Synset('stockman.n.01'), Synset('stranger.n.01'), Synset('strategist.n.01'), Synset('street_urchin.n.01'), Synset('student.n.01'), Synset('stupid.n.01'), Synset('subordinate.n.01'), Synset('substitute.n.02'), Synset('suffragist.n.01'), Synset('suicide_bomber.n.01'), Synset('suitor.n.01'), Synset('superior.n.02'), Synset('superior.n.01'), Synset('supervisor.n.01'), Synset('supplier.n.01'), Synset('supporter.n.01'), Synset('supremacist.n.01'), Synset('surgeon.n.01'), Synset('surveyor.n.01'), Synset('suspect.n.01'), Synset('sweetheart.n.01'), Synset('swimmer.n.02'), Synset('swimmer.n.01'), Synset('sycophant.n.01'), Synset('sympathizer.n.02'), Synset('sympathizer.n.01'), Synset('tailor.n.01'), Synset('taskmaster.n.01'), Synset('taster.n.01'), Synset('tax_assessor.n.01'), Synset('taxonomist.n.01'), Synset('taxpayer.n.01'), Synset('teacher.n.01'), Synset('technician.n.01'), Synset('television_reporter.n.01'), Synset('teller.n.02'), Synset('tenant.n.01'), Synset('tenant.n.02'), Synset('tennis_player.n.01'), Synset('terrorist.n.01'), Synset('testator.n.01'), Synset('testee.n.01'), Synset('theologian.n.01'), Synset('therapist.n.01'), Synset('thief.n.01'), Synset('thinker.n.02'), Synset('thin_person.n.01'), Synset('thrall.n.02'), Synset('thrower.n.02'), Synset('tipster.n.01'), Synset('toastmaster.n.01'), Synset('tormentor.n.01'), Synset('torturer.n.01'), Synset('tough_guy.n.01'), Synset('tourist.n.01'), Synset('townsman.n.02'), Synset('trader.n.01'), Synset('traditionalist.n.01'), Synset('traffic_cop.n.01'), Synset('dealer.n.03'), Synset('trainee.n.01'), Synset('trainer.n.01'), Synset('trainman.n.01'), Synset('traitor.n.01'), Synset('tramp.n.01'), Synset('transferer.n.01'), Synset('trapper.n.01'), Synset('traveling_salesman.n.01'), Synset('treasurer.n.01'), Synset('troublemaker.n.01'), Synset('trumpeter.n.01'), Synset('tumbler.n.01'), Synset('twin.n.01'), Synset('typist.n.01'), Synset('tyrant.n.01'), Synset('uncle.n.01'), Synset('undergraduate.n.01'), Synset('unemployed_person.n.01'), Synset('union_representative.n.01'), Synset('unmarried_woman.n.01'), Synset('unpleasant_woman.n.01'), Synset('upstart.n.02'), Synset('upstart.n.01'), Synset('urchin.n.01'), Synset('user.n.01'), Synset('usher.n.03'), Synset('usurper.n.01'), Synset('vacationer.n.01'), Synset('vagrant.n.01'), Synset('vegetarian.n.01'), Synset('veteran.n.02'), Synset('veterinarian.n.01'), Synset('vice_president.n.01'), Synset('viceroy.n.01'), Synset('victim.n.01'), Synset('victim.n.02'), Synset('victimizer.n.01'), Synset('victor.n.01'), Synset('villain.n.01'), Synset('visayan.n.01'), Synset('visionary.n.02'), Synset('visionary.n.01'), Synset('visitor.n.01'), Synset('visually_impaired_person.n.01'), Synset('volunteer.n.02'), Synset('votary.n.02'), Synset('voter.n.01'), Synset('vulgarian.n.01'), Synset('waiter.n.01'), Synset('waitress.n.01'), Synset('waiter.n.02'), Synset('wanderer.n.01'), Synset('wanton.n.01'), Synset('warder.n.01'), Synset('wardress.n.01'), Synset('warrior.n.01'), Synset('washer.n.01'), Synset('watchman.n.01'), Synset('wayfarer.n.02'), Synset('weakling.n.01'), Synset('weeper.n.01'), Synset('welder.n.01'), Synset('west_indian.n.01'), Synset('whiner.n.01'), Synset('augustinian.n.01'), Synset('white_supremacist.n.01'), Synset('widow.n.01'), Synset('wife.n.01'), Synset('wild_man.n.01'), Synset('winner.n.02'), Synset('winner.n.01'), Synset('witch_doctor.n.01'), Synset('witness.n.01'), Synset('witness.n.05'), Synset('woman.n.01'), Synset('womanizer.n.01'), Synset('woodworker.n.01'), Synset('workman.n.01'), Synset('worshiper.n.01'), Synset('wrecker.n.01'), Synset('wrestler.n.01'), Synset('wright.n.07'), Synset('writer.n.01'), Synset('writer.n.02'), Synset('yankee.n.01'), Synset('young_person.n.01'), Synset('zoologist.n.01'), Synset('crop.n.02'), Synset('wilding.n.01'), Synset('ornamental.n.01'), Synset('bryophyte.n.01'), Synset('moss.n.01'), Synset('liverwort.n.01'), Synset('pteridophyte.n.01'), Synset('fern.n.01'), Synset('fern_ally.n.01'), Synset('cryptogam.n.01'), Synset('spermatophyte.n.01'), Synset('perennial.n.01'), Synset('dicot_family.n.01'), Synset('dilleniid_dicot_family.n.01'), Synset('dicot_genus.n.01'), Synset('caryophylloid_dicot_genus.n.01'), Synset('rosid_dicot_genus.n.01'), Synset('gymnosperm.n.01'), Synset('ephedra.n.01'), Synset('cycad.n.01'), Synset('sago_palm.n.02'), Synset('zamia.n.01'), Synset('pine.n.01'), Synset('pinon.n.01'), Synset('nut_pine.n.01'), Synset('white_pine.n.01'), Synset('yellow_pine.n.01'), Synset('larch.n.02'), Synset('fir.n.02'), Synset('silver_fir.n.01'), Synset('cedar.n.03'), Synset('spruce.n.02'), Synset('hemlock.n.04'), Synset('douglas_fir.n.02'), Synset('cedar.n.01'), Synset('cypress.n.02'), Synset('arborvitae.n.01'), Synset('araucaria.n.01'), Synset('kauri_pine.n.01'), Synset('celery_pine.n.01'), Synset('yellowwood.n.02'), Synset('gymnospermous_yellowwood.n.01'), Synset('angiospermous_yellowwood.n.01'), Synset('yew.n.02'), Synset('angiosperm.n.01'), Synset('dicot.n.01'), Synset('flower.n.01'), Synset('wildflower.n.01'), Synset('gametophyte.n.01'), Synset('custard_apple.n.01'), Synset('barberry.n.01'), Synset('allspice.n.02'), Synset('laurel.n.01'), Synset('anise_tree.n.01'), Synset('magnolia.n.02'), Synset('moonseed.n.01'), Synset('water_lily.n.01'), Synset('buttercup.n.01'), Synset('aconite.n.01'), Synset('baneberry.n.02'), Synset('anemone.n.01'), Synset('thimbleweed.n.01'), Synset('columbine.n.01'), Synset('bugbane.n.02'), Synset('clematis.n.01'), Synset('delphinium.n.01'), Synset('hellebore.n.02'), Synset('nigella.n.01'), Synset('pasqueflower.n.01'), Synset('wax_myrtle.n.01'), Synset('rush.n.03'), Synset('zebrawood.n.02'), Synset('legume.n.01'), Synset('melilotus.n.01'), Synset('darling_pea.n.01'), Synset('clover.n.01'), Synset('mimosa.n.02'), Synset('acacia.n.01'), Synset('wattle.n.03'), Synset('albizzia.n.01'), Synset('nitta_tree.n.01'), Synset('mesquite.n.01'), Synset('dogbane.n.01'), Synset('allamanda.n.01'), Synset('carissa.n.01'), Synset('frangipani.n.01'), Synset('rauwolfia.n.02'), Synset('strophanthus.n.01'), Synset('periwinkle.n.01'), Synset('arum.n.02'), Synset('alocasia.n.01'), Synset('anthurium.n.01'), Synset('caladium.n.01'), Synset('monstera.n.01'), Synset('nephthytis.n.01'), Synset('arrow_arum.n.01'), Synset('calla_lily.n.01'), Synset('duckweed.n.01'), Synset('watermeal.n.01'), Synset('birthwort.n.01'), Synset('wild_ginger.n.01'), Synset('sandwort.n.03'), Synset('mouse-ear_chickweed.n.01'), Synset('pink.n.02'), Synset('china_pink.n.01'), Synset('lychnis.n.01'), Synset('silene.n.01'), Synset('chickweed.n.01'), Synset('fig_marigold.n.01'), Synset('amaranth.n.02'), Synset('bloodleaf.n.01'), Synset('goosefoot.n.01'), Synset('orach.n.01'), Synset('saltbush.n.01'), Synset('beet.n.01'), Synset('sand_verbena.n.01'), Synset('bougainvillea.n.01'), Synset('four_o'clock.n.01'), Synset('cactus.n.01'), Synset('echinocactus.n.01'), Synset('prickly_pear.n.01'), Synset('night-blooming_cereus.n.01'), Synset('pokeweed.n.01'), Synset('purslane.n.01'), Synset('portulaca.n.01'), Synset('indian_lettuce.n.01'), Synset('flame_flower.n.02'), Synset('caper.n.01'), Synset('spiderflower.n.01'), Synset('crucifer.n.01'), Synset('cress.n.01'), Synset('watercress.n.01'), Synset('rock_cress.n.01'), Synset('winter_cress.n.01'), Synset('cabbage.n.03'), Synset('head_cabbage.n.01'), Synset('kale.n.02'), Synset('turnip_plant.n.01'), Synset('mustard.n.01'), Synset('bittercress.n.01'), Synset('draba.n.01'), Synset('wallflower.n.01'), Synset('woad.n.02'), Synset('stock.n.12'), Synset('radish_plant.n.01'), Synset('pennycress.n.01'), Synset('poppy.n.01'), Synset('prickly_poppy.n.01'), Synset('composite.n.02'), Synset('compass_plant.n.02'), Synset('everlasting.n.01'), Synset('achillea.n.01'), Synset('ageratum.n.02'), Synset('ragweed.n.02'), Synset('ammobium.n.01'), Synset('cat's_foot.n.01'), Synset('burdock.n.01'), Synset('artemisia.n.01'), Synset('wormwood.n.01'), Synset('mugwort.n.01'), Synset('sagebrush.n.01'), Synset('aster.n.01'), Synset('wood_aster.n.01'), Synset('daisy.n.01'), Synset('bur_marigold.n.01'), Synset('oxeye.n.02'), Synset('calendula.n.01'), Synset('thistle.n.01'), Synset('carline_thistle.n.01'), Synset('catananche.n.01'), Synset('centaury.n.02'), Synset('knapweed.n.01'), Synset('chrysanthemum.n.02'), Synset('golden_aster.n.01'), Synset('goldenbush.n.02'), Synset('plume_thistle.n.01'), Synset('woolly_thistle.n.02'), Synset('coreopsis.n.01'), Synset('fleabane.n.02'), Synset('woolly_sunflower.n.01'), Synset('cotton_rose.n.02'), Synset('gaillardia.n.01'), Synset('gazania.n.01'), Synset('african_daisy.n.02'), Synset('cudweed.n.01'), Synset('gumweed.n.01'), Synset('matchweed.n.01'), Synset('goldenbush.n.01'), Synset('sneezeweed.n.01'), Synset('sunflower.n.01'), Synset('hawkweed.n.02'), Synset('inula.n.01'), Synset('marsh_elder.n.01'), Synset('krigia.n.01'), Synset('lettuce.n.02'), Synset('hawkbit.n.01'), Synset('blazing_star.n.02'), Synset('tarweed.n.01'), Synset('rattlesnake_root.n.02'), Synset('daisybush.n.01'), Synset('coneflower.n.02'), Synset('coneflower.n.01'), Synset('cutleaved_coneflower.n.01'), Synset('golden_thistle.n.01'), Synset('white-topped_aster.n.01'), Synset('goldenrod.n.01'), Synset('sow_thistle.n.01'), Synset('marigold.n.01'), Synset('dandelion.n.01'), Synset('crownbeard.n.01'), Synset('zinnia.n.01'), Synset('campanula.n.01'), Synset('orchid.n.01'), Synset('orchis.n.01'), Synset('arethusa.n.01'), Synset('caladenia.n.01'), Synset('helleborine.n.03'), Synset('coral_root.n.01'), Synset('lady's_slipper.n.01'), Synset('yellow_lady's_slipper.n.01'), Synset('helleborine.n.02'), Synset('fringed_orchis.n.01'), Synset('rein_orchid.n.01'), Synset('spider_orchid.n.01'), Synset('moth_orchid.n.01'), Synset('butterfly_orchid.n.01'), Synset('ladies'_tresses.n.01'), Synset('vanda.n.01'), Synset('vanilla.n.01'), Synset('yam.n.02'), Synset('primrose.n.01'), Synset('pimpernel.n.02'), Synset('featherfoil.n.01'), Synset('loosestrife.n.02'), Synset('water_pimpernel.n.01'), Synset('thrift.n.01'), Synset('gramineous_plant.n.01'), Synset('grass.n.01'), Synset('wheatgrass.n.01'), Synset('bent.n.02'), Synset('foxtail.n.01'), Synset('broom_grass.n.01'), Synset('oat.n.01'), Synset('brome.n.01'), Synset('grama.n.01'), Synset('reed_grass.n.01'), Synset('burgrass.n.01'), Synset('finger_grass.n.02'), Synset('crabgrass.n.01'), Synset('lyme_grass.n.01'), Synset('wild_rye.n.01'), Synset('love_grass.n.01'), Synset('plume_grass.n.01'), Synset('manna_grass.n.01'), Synset('barley.n.02'), Synset('rye_grass.n.01'), Synset('rice.n.02'), Synset('ricegrass.n.01'), Synset('panic_grass.n.01'), Synset('bluegrass.n.01'), Synset('meadowgrass.n.01'), Synset('sugarcane.n.02'), Synset('foxtail_millet.n.01'), Synset('millet.n.01'), Synset('reed.n.01'), Synset('sorghum.n.01'), Synset('grain_sorghum.n.01'), Synset('cordgrass.n.01'), Synset('dropseed.n.01'), Synset('cereal.n.01'), Synset('wheat.n.01'), Synset('corn.n.01'), Synset('field_corn.n.01'), Synset('zoysia.n.01'), Synset('bamboo.n.02'), Synset('sedge.n.01'), Synset('cotton_grass.n.01'), Synset('spike_rush.n.01'), Synset('pandanus.n.02'), Synset('cattail.n.01'), Synset('gourd.n.03'), Synset('squash.n.01'), Synset('summer_squash.n.01'), Synset('marrow.n.02'), Synset('winter_squash.n.01'), Synset('turban_squash.n.01'), Synset('bryony.n.01'), Synset('melon.n.02'), Synset('sweet_melon.n.01'), Synset('luffa.n.02'), Synset('lobelia.n.01'), Synset('mallow.n.01'), Synset('hollyhock.n.02'), Synset('althea.n.01'), Synset('poppy_mallow.n.01'), Synset('cotton.n.03'), Synset('hibiscus.n.01'), Synset('seashore_mallow.n.01'), Synset('globe_mallow.n.01'), Synset('tulipwood_tree.n.01'), Synset('sterculia.n.01'), Synset('bottle-tree.n.01'), Synset('screw_tree.n.01'), Synset('cacao.n.01'), Synset('linden.n.02'), Synset('herb.n.01'), Synset('vegetable.n.02'), Synset('protea.n.01'), Synset('banksia.n.01'), Synset('grevillea.n.01'), Synset('silk_oak.n.01'), Synset('macadamia.n.01'), Synset('casuarina.n.01'), Synset('beefwood.n.03'), Synset('heath.n.01'), Synset('erica.n.01'), Synset('andromeda.n.02'), Synset('arbutus.n.01'), Synset('bearberry.n.03'), Synset('manzanita.n.01'), Synset('huckleberry.n.02'), Synset('kalmia.n.01'), Synset('rhododendron.n.01'), Synset('cranberry.n.01'), Synset('blueberry.n.01'), Synset('shortia.n.01'), Synset('australian_heath.n.01'), Synset('epacris.n.01'), Synset('wintergreen.n.01'), Synset('pipsissewa.n.01'), Synset('beech.n.01'), Synset('chestnut.n.02'), Synset('tanbark_oak.n.01'), Synset('southern_beech.n.01'), Synset('new_zealand_beech.n.01'), Synset('oak.n.02'), Synset('live_oak.n.01'), Synset('white_oak.n.01'), Synset('red_oak.n.01'), Synset('scrub_oak.n.01'), Synset('chestnut_oak.n.01'), Synset('birch.n.02'), Synset('alder.n.02'), Synset('hornbeam.n.01'), Synset('hop_hornbeam.n.01'), Synset('hazelnut.n.01'), Synset('centaury.n.01'), Synset('gentian.n.01'), Synset('fringed_gentian.n.01'), Synset('sabbatia.n.01'), Synset('olive_tree.n.01'), Synset('fringe_tree.n.01'), Synset('forestiera.n.01'), Synset('ash.n.02'), Synset('red_ash.n.01'), Synset('jasmine.n.01'), Synset('privet.n.01'), Synset('lilac.n.01'), Synset('witch_hazel.n.01'), Synset('liquidambar.n.02'), Synset('walnut.n.03'), Synset('hickory.n.02'), Synset('wing_nut.n.01'), Synset('oleaster.n.01'), Synset('loosestrife.n.01'), Synset('myrtle.n.02'), Synset('gum_tree.n.01'), Synset('eucalyptus.n.02'), Synset('flooded_gum.n.01'), Synset('mallee.n.01'), Synset('stringybark.n.01'), Synset('tupelo.n.02'), Synset('enchanter's_nightshade.n.01'), Synset('willowherb.n.01'), Synset('fuchsia.n.01'), Synset('evening_primrose.n.01'), Synset('daphne.n.01'), Synset('water_chestnut.n.01'), Synset('canna.n.01'), Synset('maranta.n.01'), Synset('banana.n.01'), Synset('ginger.n.01'), Synset('begonia.n.01'), Synset('tuberous_begonia.n.01'), Synset('poon.n.02'), Synset('st_john's_wort.n.01'), Synset('rockrose.n.02'), Synset('helianthemum.n.01'), Synset('dipterocarp.n.01'), Synset('candlewood.n.01'), Synset('passionflower.n.01'), Synset('reseda.n.01'), Synset('viola.n.01'), Synset('violet.n.01'), Synset('nettle.n.01'), Synset('false_nettle.n.01'), Synset('cannabis.n.01'), Synset('hop.n.02'), Synset('mulberry.n.01'), Synset('fig_tree.n.01'), Synset('fig.n.02'), Synset('elm.n.01'), Synset('hackberry.n.01'), Synset('iridaceous_plant.n.01'), Synset('iris.n.01'), Synset('bearded_iris.n.01'), Synset('beardless_iris.n.01'), Synset('crocus.n.01'), Synset('amaryllis.n.01'), Synset('blood_lily.n.01'), Synset('narcissus.n.01'), Synset('daffodil.n.01'), Synset('star_grass.n.02'), Synset('liliaceous_plant.n.01'), Synset('lily.n.01'), Synset('agapanthus.n.01'), Synset('colicroot.n.01'), Synset('alliaceous_plant.n.01'), Synset('wild_onion.n.01'), Synset('onion.n.02'), Synset('aloe.n.01'), Synset('kniphofia.n.01'), Synset('poker_plant.n.01'), Synset('alstroemeria.n.01'), Synset('asphodel.n.01'), Synset('brodiaea.n.01'), Synset('mariposa.n.01'), Synset('globe_lily.n.01'), Synset('camas.n.01'), Synset('dogtooth_violet.n.01'), Synset('fritillary.n.01'), Synset('tulip.n.01'), Synset('day_lily.n.02'), Synset('hyacinth.n.02'), Synset('star-of-bethlehem.n.01'), Synset('grape_hyacinth.n.01'), Synset('scilla.n.01'), Synset('false_asphodel.n.01'), Synset('bog_asphodel.n.01'), Synset('hellebore.n.01'), Synset('death_camas.n.01'), Synset('trillium.n.01'), Synset('sarsaparilla.n.01'), Synset('clintonia.n.01'), Synset('solomon's-seal.n.01'), Synset('bellwort.n.01'), Synset('agave.n.01'), Synset('dracaena.n.01'), Synset('sansevieria.n.01'), Synset('yucca.n.01'), Synset('cassia.n.01'), Synset('locust_tree.n.01'), Synset('senna.n.01'), Synset('amorpha.n.01'), Synset('angelim.n.01'), Synset('milk_vetch.n.01'), Synset('wild_indigo.n.01'), Synset('pea_tree.n.01'), Synset('glory_pea.n.01'), Synset('coronilla.n.01'), Synset('crotalaria.n.01'), Synset('broom.n.02'), Synset('rosewood.n.02'), Synset('blackwood.n.02'), Synset('tick_trefoil.n.01'), Synset('coral_tree.n.01'), Synset('indigo.n.02'), Synset('coral_pea.n.01'), Synset('vetchling.n.01'), Synset('wild_pea.n.01'), Synset('everlasting_pea.n.01'), Synset('bush_clover.n.01'), Synset('lupine.n.01'), Synset('medic.n.01'), Synset('mucuna.n.01'), Synset('necklace_tree.n.01'), Synset('locoweed.n.01'), Synset('bean.n.03'), Synset('bush_bean.n.01'), Synset('pole_bean.n.01'), Synset('common_bean.n.01'), Synset('green_bean.n.02'), Synset('shell_bean.n.01'), Synset('pea.n.03'), Synset('edible-pod_pea.n.01'), Synset('quira.n.02'), Synset('sesbania.n.01'), Synset('hoary_pea.n.01'), Synset('bush_pea.n.01'), Synset('vetch.n.01'), Synset('tare.n.02'), Synset('wisteria.n.01'), Synset('palm.n.03'), Synset('sago_palm.n.01'), Synset('feather_palm.n.01'), Synset('fan_palm.n.01'), Synset('palmetto.n.01'), Synset('areca.n.01'), Synset('calamus.n.01'), Synset('oil_palm.n.01'), Synset('raffia_palm.n.01'), Synset('lady_palm.n.01'), Synset('plantain.n.01'), Synset('eriogonum.n.01'), Synset('rhubarb.n.02'), Synset('dock.n.02'), Synset('yellow-eyed_grass.n.01'), Synset('spiderwort.n.01'), Synset('water_plantain.n.01'), Synset('waterweed.n.01'), Synset('pondweed.n.01'), Synset('rose.n.01'), Synset('agrimonia.n.01'), Synset('juneberry.n.01'), Synset('flowering_quince.n.01'), Synset('cotoneaster.n.01'), Synset('hawthorn.n.01'), Synset('strawberry.n.02'), Synset('avens.n.01'), Synset('apple_tree.n.01'), Synset('wild_apple.n.01'), Synset('crab_apple.n.01'), Synset('iowa_crab.n.01'), Synset('cinquefoil.n.01'), Synset('plum.n.01'), Synset('wild_plum.n.01'), Synset('bullace.n.01'), Synset('apricot.n.01'), Synset('cherry.n.02'), Synset('wild_cherry.n.02'), Synset('sweet_cherry.n.01'), Synset('sour_cherry.n.01'), Synset('almond_tree.n.01'), Synset('almond.n.01'), Synset('bird_cherry.n.01'), Synset('flowering_cherry.n.01'), Synset('chokecherry.n.02'), Synset('fruit_tree.n.01'), Synset('bramble_bush.n.01'), Synset('blackberry.n.02'), Synset('dewberry.n.01'), Synset('western_blackberry.n.01'), Synset('raspberry.n.01'), Synset('red_raspberry.n.01'), Synset('mountain_ash.n.01'), Synset('service_tree.n.01'), Synset('spirea.n.02'), Synset('madderwort.n.01'), Synset('woodruff.n.02'), Synset('coffee.n.02'), Synset('cinchona.n.02'), Synset('bedstraw.n.01'), Synset('gardenia.n.01'), Synset('genipa.n.01'), Synset('hamelia.n.01'), Synset('twinflower.n.01'), Synset('honeysuckle.n.01'), Synset('american_fly_honeysuckle.n.01'), Synset('elder.n.02'), Synset('teasel.n.01'), Synset('scabious.n.01'), Synset('geranium.n.01'), Synset('cranesbill.n.01'), Synset('storksbill.n.01'), Synset('incense_tree.n.01'), Synset('mahogany.n.02'), Synset('silver_ash.n.01'), Synset('oxalis.n.01'), Synset('milkwort.n.01'), Synset('genus_citrus.n.01'), Synset('citrus.n.02'), Synset('orange.n.03'), Synset('mandarin.n.01'), Synset('lemon.n.03'), Synset('kumquat.n.01'), Synset('prickly_ash.n.01'), Synset('bitterwood_tree.n.01'), Synset('ailanthus.n.01'), Synset('nasturtium.n.01'), Synset('willow.n.01'), Synset('osier.n.02'), Synset('sallow.n.01'), Synset('poplar.n.02'), Synset('black_poplar.n.01'), Synset('cottonwood.n.01'), Synset('aspen.n.01'), Synset('mistletoe.n.01'), Synset('soapberry.n.01'), Synset('soapberry_vine.n.01'), Synset('harpullia.n.01'), Synset('box.n.06'), Synset('pachysandra.n.01'), Synset('spindle_tree.n.01'), Synset('maple.n.02'), Synset('box_elder.n.01'), Synset('holly.n.01'), Synset('smoke_tree.n.01'), Synset('sumac.n.02'), Synset('horse_chestnut.n.01'), Synset('persimmon.n.01'), Synset('buckthorn.n.02'), Synset('styrax.n.01'), Synset('silver_bell.n.01'), Synset('carnivorous_plant.n.01'), Synset('pitcher_plant.n.01'), Synset('sedum.n.01'), Synset('stonecrop.n.01'), Synset('hydrangea.n.01'), Synset('philadelphus.n.01'), Synset('saxifrage.n.01'), Synset('astilbe.n.01'), Synset('golden_saxifrage.n.01'), Synset('alumroot.n.01'), Synset('miterwort.n.01'), Synset('parnassia.n.01'), Synset('suksdorfia.n.01'), Synset('currant.n.02'), Synset('plane_tree.n.01'), Synset('polemonium.n.01'), Synset('phlox.n.01'), Synset('acanthus.n.01'), Synset('catalpa.n.01'), Synset('anchusa.n.01'), Synset('stickweed.n.01'), Synset('comfrey.n.01'), Synset('convolvulus.n.01'), Synset('bindweed.n.01'), Synset('dodder.n.01'), Synset('morning_glory.n.01'), Synset('aeschynanthus.n.01'), Synset('gloxinia.n.01'), Synset('streptocarpus.n.01'), Synset('waterleaf.n.01'), Synset('nemophila.n.01'), Synset('scorpionweed.n.01'), Synset('giant_hyssop.n.01'), Synset('bugle.n.02'), Synset('wood_mint.n.01'), Synset('calamint.n.01'), Synset('coleus.n.01'), Synset('dead_nettle.n.02'), Synset('lavender.n.01'), Synset('origanum.n.01'), Synset('horehound.n.01'), Synset('mint.n.02'), Synset('monarda.n.01'), Synset('basil.n.01'), Synset('physostegia.n.01'), Synset('mountain_mint.n.01'), Synset('sage.n.03'), Synset('savory.n.01'), Synset('germander.n.01'), Synset('thyme.n.01'), Synset('blue_curls.n.01'), Synset('snapdragon.n.01'), Synset('kitten-tails.n.01'), Synset('indian_paintbrush.n.02'), Synset('foxglove.n.01'), Synset('toadflax.n.01'), Synset('mullein.n.01'), Synset('veronica.n.01'), Synset('nightshade.n.01'), Synset('black_nightshade.n.01'), Synset('capsicum.n.01'), Synset('thorn_apple.n.01'), Synset('matrimony_vine.n.01'), Synset('tomato.n.02'), Synset('cherry_tomato.n.01'), Synset('tobacco.n.02'), Synset('cupflower.n.02'), Synset('petunia.n.01'), Synset('ground_cherry.n.01'), Synset('salpiglossis.n.01'), Synset('spurge.n.01'), Synset('croton.n.02'), Synset('cassava.n.03'), Synset('slipper_spurge.n.01'), Synset('camellia.n.01'), Synset('umbellifer.n.01'), Synset('angelica.n.01'), Synset('astrantia.n.01'), Synset('caraway.n.01'), Synset('fennel.n.01'), Synset('parsnip.n.02'), Synset('parsley.n.01'), Synset('sanicle.n.01'), Synset('dogwood.n.01'), Synset('valerian.n.01'), Synset('corn_salad.n.01'), Synset('bristle_fern.n.01'), Synset('flowering_fern.n.02'), Synset('climbing_fern.n.01'), Synset('aquatic_fern.n.01'), Synset('clover_fern.n.01'), Synset('adder's_tongue.n.01'), Synset('grape_fern.n.01'), Synset('ergot.n.02'), Synset('sclerotinia.n.01'), Synset('earthball.n.01'), Synset('podaxaceae.n.01'), Synset('false_truffle.n.01'), Synset('rhizopus.n.01'), Synset('slime_mold.n.01'), Synset('cellular_slime_mold.n.01'), Synset('downy_mildew.n.01'), Synset('pythium.n.01'), Synset('sarcosomataceae.n.01'), Synset('coral_fungus.n.01'), Synset('lichen.n.02'), Synset('lecanora.n.01'), Synset('fungus.n.01'), Synset('basidiomycete.n.01'), Synset('mushroom.n.03'), Synset('agaric.n.02'), Synset('lepiota.n.01'), Synset('ascomycete.n.01'), Synset('clavicipitaceae.n.01'), Synset('grainy_club.n.01'), Synset('yeast.n.02'), Synset('discomycete.n.01'), Synset('morel.n.01'), Synset('verpa.n.01'), Synset('false_morel.n.01'), Synset('lorchel.n.01'), Synset('helvella.n.01'), Synset('discina.n.01'), Synset('gyromitra.n.01'), Synset('gasteromycete.n.01'), Synset('stinkhorn.n.01'), Synset('puffball.n.01'), Synset('earthstar.n.01'), Synset('polypore.n.01'), Synset('bolete.n.01'), Synset('jelly_fungus.n.01'), Synset('rust.n.04'), Synset('smut.n.03'), Synset('cornsmut.n.01'), Synset('flag_smut_fungus.n.01'), Synset('waxycap.n.01'), Synset('mold.n.05'), Synset('mildew.n.02'), Synset('candida.n.01'), Synset('houseplant.n.01'), Synset('garden_plant.n.01'), Synset('vascular_plant.n.01'), Synset('succulent.n.01'), Synset('nonvascular_organism.n.01'), Synset('weed.n.01'), Synset('field_crop.n.01'), Synset('poisonous_plant.n.01'), Synset('vine.n.01'), Synset('climber.n.01'), Synset('woody_plant.n.01'), Synset('arborescent_plant.n.01'), Synset('tree.n.01'), Synset('bean_tree.n.01'), Synset('gymnospermous_tree.n.01'), Synset('conifer.n.01'), Synset('angiospermous_tree.n.01'), Synset('nut_tree.n.01'), Synset('spice_tree.n.01'), Synset('bonsai.n.01'), Synset('shrub.n.01'), Synset('shrublet.n.01'), Synset('subshrub.n.01'), Synset('bramble.n.01'), Synset('flowering_shrub.n.01'), Synset('liana.n.01'), Synset('parasitic_plant.n.01'), Synset('desert_plant.n.01'), Synset('aquatic_plant.n.01'), Synset('marsh_plant.n.01'), Synset('air_plant.n.01'), Synset('strangler.n.01'), Synset('rock_plant.n.01'), Synset('bulbous_plant.n.01'), Synset('cormous_plant.n.01'), Synset('buckthorn.n.01'), Synset('grape.n.02'), Synset('vinifera.n.01'), Synset('pinot.n.01'), Synset('true_pepper.n.01'), Synset('peperomia.n.01'), Synset('polypody.n.01'), Synset('strap_fern.n.01'), Synset('staghorn_fern.n.01'), Synset('spleenwort.n.01'), Synset('hard_fern.n.01'), Synset('chain_fern.n.01'), Synset('tree_fern.n.01'), Synset('davallia.n.01'), Synset('hare's-foot_fern.n.01'), Synset('shield_fern.n.01'), Synset('wood_fern.n.01'), Synset('lady_fern.n.01'), Synset('bladder_fern.n.01'), Synset('holly_fern.n.01'), Synset('woodsia.n.01'), Synset('sword_fern.n.01'), Synset('maidenhair.n.01'), Synset('brittle_maidenhair.n.01'), Synset('lip_fern.n.01'), Synset('rock_brake.n.02'), Synset('cliff_brake.n.01'), Synset('whisk_fern.n.01'), Synset('horsetail.n.01'), Synset('club_moss.n.01'), Synset('ground_pine.n.01'), Synset('spikemoss.n.01'), Synset('marsh_fern.n.01'), Synset('beech_fern.n.01'), Synset('milkweed.n.01'), Synset('hoya.n.01'), Synset('stapelia.n.01'), Synset('stephanotis.n.01'), Synset('part.n.01'), Synset('status.n.01'), Synset('holy_order.n.01')] \n",
      "\n",
      "Co-Hypernyme von Synset('bank.n.01'): Anzahl: 0 \n",
      " [] \n",
      "\n",
      "Co-Hypernyme von Synset('carnivore.n.01'): Anzahl: 89 \n",
      " [Synset('domestic_animal.n.01'), Synset('young.n.01'), Synset('young_mammal.n.01'), Synset('pup.n.01'), Synset('cub.n.03'), Synset('canine.n.02'), Synset('bitch.n.04'), Synset('dog.n.01'), Synset('cur.n.01'), Synset('toy_dog.n.01'), Synset('toy_spaniel.n.01'), Synset('english_toy_spaniel.n.01'), Synset('hunting_dog.n.01'), Synset('hound.n.01'), Synset('coonhound.n.01'), Synset('dachshund.n.01'), Synset('foxhound.n.01'), Synset('wolfhound.n.01'), Synset('greyhound.n.01'), Synset('terrier.n.01'), Synset('bullterrier.n.01'), Synset('rat_terrier.n.01'), Synset('manchester_terrier.n.01'), Synset('fox_terrier.n.01'), Synset('wirehair.n.01'), Synset('welsh_terrier.n.01'), Synset('schnauzer.n.01'), Synset('skye_terrier.n.01'), Synset('sporting_dog.n.01'), Synset('retriever.n.01'), Synset('pointer.n.04'), Synset('setter.n.02'), Synset('spaniel.n.01'), Synset('springer_spaniel.n.01'), Synset('water_spaniel.n.01'), Synset('working_dog.n.01'), Synset('watchdog.n.02'), Synset('shepherd_dog.n.01'), Synset('belgian_sheepdog.n.01'), Synset('pinscher.n.01'), Synset('sennenhunde.n.01'), Synset('mastiff.n.01'), Synset('bulldog.n.01'), Synset('guide_dog.n.01'), Synset('sled_dog.n.01'), Synset('dalmatian.n.02'), Synset('spitz.n.01'), Synset('griffon.n.02'), Synset('corgi.n.01'), Synset('poodle.n.01'), Synset('wolf.n.01'), Synset('coyote.n.01'), Synset('wild_dog.n.01'), Synset('hyena.n.01'), Synset('fox.n.01'), Synset('red_fox.n.03'), Synset('arctic_fox.n.01'), Synset('feline.n.01'), Synset('cat.n.01'), Synset('domestic_cat.n.01'), Synset('tom.n.02'), Synset('siamese_cat.n.01'), Synset('wildcat.n.03'), Synset('lynx.n.02'), Synset('big_cat.n.01'), Synset('leopard.n.02'), Synset('lion.n.01'), Synset('tiger.n.02'), Synset('saber-toothed_tiger.n.01'), Synset('bear.n.01'), Synset('brown_bear.n.01'), Synset('american_black_bear.n.01'), Synset('viverrine.n.01'), Synset('civet.n.01'), Synset('mongoose.n.01'), Synset('meerkat.n.01'), Synset('racer.n.03'), Synset('musteline_mammal.n.01'), Synset('weasel.n.02'), Synset('ermine.n.02'), Synset('mink.n.03'), Synset('polecat.n.02'), Synset('muishond.n.01'), Synset('otter.n.02'), Synset('skunk.n.04'), Synset('badger.n.02'), Synset('marten.n.01'), Synset('procyonid.n.01'), Synset('raccoon.n.02')] \n",
      "\n"
     ]
    }
   ],
   "source": [
    "# Tests für A3 (nicht verändern)\n",
    "\n",
    "testsyns = [wn.synset('organism.n.01'), wn.synset('bank.n.01'), wn.synset('carnivore.n.01')]\n",
    "\n",
    "for i in testsyns :\n",
    "    print(\"Co-Hypernyme von {}: Anzahl: {} \\n {} \\n\".format(i,len(co_hyperonyms(i)),co_hyperonyms(i)))"
   ]
  }
 ],
 "metadata": {
  "kernelspec": {
   "display_name": "Python 3 (ipykernel)",
   "language": "python",
   "name": "python3"
  },
  "language_info": {
   "codemirror_mode": {
    "name": "ipython",
    "version": 3
   },
   "file_extension": ".py",
   "mimetype": "text/x-python",
   "name": "python",
   "nbconvert_exporter": "python",
   "pygments_lexer": "ipython3",
   "version": "3.12.5"
  },
  "toc": {
   "base_numbering": 1,
   "nav_menu": {},
   "number_sections": true,
   "sideBar": true,
   "skip_h1_title": false,
   "title_cell": "Table of Contents",
   "title_sidebar": "Contents",
   "toc_cell": false,
   "toc_position": {},
   "toc_section_display": true,
   "toc_window_display": false
  }
 },
 "nbformat": 4,
 "nbformat_minor": 4
}
