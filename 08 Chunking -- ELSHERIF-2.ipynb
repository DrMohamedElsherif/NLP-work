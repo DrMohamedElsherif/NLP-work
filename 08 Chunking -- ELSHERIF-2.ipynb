{
 "cells": [
  {
   "cell_type": "markdown",
   "metadata": {
    "slideshow": {
     "slide_type": "skip"
    }
   },
   "source": [
    "<span style=\"color:red\">Abgegeben von (Name, Vorname):</span> \n",
    "**Elsherif, Mohamed**"
   ]
  },
  {
   "cell_type": "code",
   "execution_count": 1,
   "metadata": {
    "ExecuteTime": {
     "end_time": "2021-12-28T08:19:44.662108Z",
     "start_time": "2021-12-28T08:19:43.350890Z"
    },
    "slideshow": {
     "slide_type": "skip"
    }
   },
   "outputs": [],
   "source": [
    "import nltk"
   ]
  },
  {
   "cell_type": "markdown",
   "metadata": {
    "slideshow": {
     "slide_type": "skip"
    }
   },
   "source": [
    "Immer griffbereit:\n",
    "- Website: https://www.nltk.org/\n",
    "- Buch: https://www.nltk.org/book/\n",
    "- Module: https://www.nltk.org/py-modindex.html\n",
    "- Beispiele: http://www.nltk.org/howto/"
   ]
  },
  {
   "cell_type": "markdown",
   "metadata": {
    "slideshow": {
     "slide_type": "slide"
    }
   },
   "source": [
    "<br>\n",
    "<font size=\"6\"><strong>8. Sitzung: Chunking und Hidden-Markov-Modelle</strong></font>\n",
    "<br>\n",
    "\n",
    "Zu wissen, was in einem Text die Sätze und Worte (qua Tokenisierung) und die POS-Tags der Worte (qua POS-Tagging) sind, reicht natürlich oft nicht aus, um etwas Sinnvolles über den Inhalt des Textes sagen können. Wenn wir nur das Nomen *York* sehen, wissen wir noch nicht, ob [York](https://de.wikipedia.org/wiki/York) oder [New York](https://de.wikipedia.org/wiki/New_York_City) gemeint ist. "
   ]
  },
  {
   "cell_type": "markdown",
   "metadata": {
    "slideshow": {
     "slide_type": "fragment"
    }
   },
   "source": [
    "Das **Chunking** ist eine Methode, um größere, wortübergreifende Einheiten in einem Satz zu identifizieren. Dies ist ein wichtiger Vorverarbeitungsschritt z.B. für das Erkennen von Eigennamen aka. Named-Entity Recognition, mit der wir uns im nächsten Notebook beschäftigen werden.\n",
    "\n",
    "In diesem Notebook werden grundlegende Konzepte und Verfahren des Chunkings vorgestellt, insbesondere **Hidden-Markov-Modelle (HMM)**."
   ]
  },
  {
   "cell_type": "markdown",
   "metadata": {
    "slideshow": {
     "slide_type": "slide"
    }
   },
   "source": [
    "# Was ist Chunking?\n",
    "\n",
    "Unter Chunking versteht man die **überschneidungsfreie Gruppierung von benachbarten Wordtoken aufgrund ihres POS-Tags**. Zum Beispiel können Artikel, Adjektive und Nomen zu einem Chunk mit dem Label `NP` (für Nominalphrase) zusammengefasst werden:\n",
    "\n",
    "<img src=\"https://www.nltk.org/images/chunk-segmentation.png\" alt=\"Drawing\"/>"
   ]
  },
  {
   "cell_type": "markdown",
   "metadata": {
    "slideshow": {
     "slide_type": "slide"
    }
   },
   "source": [
    "## Klammernotation\n",
    "\n",
    "Chunks werden üblicherweise mittels einer **Klammernotation** aufgeschrieben, z.B. so: \n",
    "\n",
    "    (CHUNK-TAG (POS-TAG1 wordform1) (POS-TAG2 wordform2) ...)\n",
    "    \n",
    "Also können wir obiges Beispiel folgendermaßen aufschreiben (und fügen dabei den Satz-Chunk hinzu):\n",
    "\n",
    "    (S\n",
    "      (NP (PRP We))\n",
    "      (VBD saw)\n",
    "      (NP (DT the) (JJ yellow) (NN dog))"
   ]
  },
  {
   "cell_type": "markdown",
   "metadata": {
    "slideshow": {
     "slide_type": "slide"
    }
   },
   "source": [
    "## Nicht rekursiv!\n",
    "\n",
    "Chunks können nicht nur Wortoken sondern auch Chunks enthalten. Dabei ist aber zu beachten, dass Chunks hinsichtlich des Labels **nicht rekursiv** sind! Das bedeutet beipielsweise, dass ein NP-Chunk kein anderes NP-Chunk enthalten darf.\n",
    "\n",
    "Also **nicht** so:\n",
    "\n",
    "    (S\n",
    "      (NP (PRP We))\n",
    "      (VBD saw)\n",
    "      (NP (DT the) (JJ yellow) (NN dog)\n",
    "        (PP (IN of                           # PP = Präpositionalphrase\n",
    "          (NP (DT the) (NN neighbor))))))    # NP-Chunk in einem NP-Chunk: Das geht nicht! \n",
    "       "
   ]
  },
  {
   "cell_type": "markdown",
   "metadata": {
    "slideshow": {
     "slide_type": "subslide"
    }
   },
   "source": [
    "   \n",
    "Sondern so: \n",
    "\n",
    "    (S\n",
    "      (NP (PRP We))\n",
    "      (VBD saw)\n",
    "      (NP (DT the) (JJ yellow) (NN dog))\n",
    "      (PP (IN of                           \n",
    "          (NP (DT the) (NN neighbor)))))    # NP-Chunk in einem PP-Chunk: Das geht! "
   ]
  },
  {
   "cell_type": "markdown",
   "metadata": {
    "slideshow": {
     "slide_type": "subslide"
    }
   },
   "source": [
    "Oder noch flacher:\n",
    "\n",
    "    (S\n",
    "      (NP (PRP We))\n",
    "      (VBD saw)\n",
    "      (NP (DT the) (JJ yellow) (NN dog))\n",
    "      (PP (IN of))                           \n",
    "      (NP (DT the) (NN neighbor)))\n",
    "      \n",
    "Man nennt das Chunking deshalb auch **Shallow Parsing**, weil die resultierenden Bäume flacher sind als beim \"tiefen\" Parsen (zu dem wir vielleicht in einem späteren Notebook kommen werden). "
   ]
  },
  {
   "cell_type": "markdown",
   "metadata": {
    "slideshow": {
     "slide_type": "slide"
    }
   },
   "source": [
    "## Baumdiagramme\n",
    "\n",
    "Man kann übrigens mittels der NLTK-Klasse [`Tree`](https://www.nltk.org/api/nltk.tree.html?highlight=tree#nltk.tree.Tree) solche Klammerausdrücke leicht einlesen, verändern und wieder ausgeben: "
   ]
  },
  {
   "cell_type": "code",
   "execution_count": 2,
   "metadata": {
    "ExecuteTime": {
     "end_time": "2021-12-28T08:19:44.671022Z",
     "start_time": "2021-12-28T08:19:44.664003Z"
    }
   },
   "outputs": [
    {
     "name": "stdout",
     "output_type": "stream",
     "text": [
      "(S\n",
      "  (NP (PRP We))\n",
      "  (VBD saw)\n",
      "  (NP\n",
      "    (DT the)\n",
      "    (JJ yellow)\n",
      "    (NN dog)\n",
      "    (PP (IN of) (NP (DT the) (NN neighbor)))))\n",
      "              S                            \n",
      "  ____________|_____                        \n",
      " |   |              NP                     \n",
      " |   |    __________|_______                \n",
      " |   |   |    |     |       PP             \n",
      " |   |   |    |     |    ___|___            \n",
      " NP  |   |    |     |   |       NP         \n",
      " |   |   |    |     |   |    ___|_____      \n",
      "PRP VBD  DT   JJ    NN  IN  DT        NN   \n",
      " |   |   |    |     |   |   |         |     \n",
      " We saw the yellow dog  of the     neighbor\n",
      "\n",
      "['We', 'saw', 'the', 'yellow', 'dog', 'of', 'the', 'neighbor']\n"
     ]
    }
   ],
   "source": [
    "from nltk.tree import Tree\n",
    "\n",
    "chunked_sent = \"(S (NP (PRP We)) (VBD saw) (NP (DT the) (JJ yellow) (NN dog)  (PP (IN of) (NP (DT the) (NN neighbor)))))\"\n",
    "cs_tree = Tree.fromstring(chunked_sent)\n",
    "\n",
    "print(cs_tree)            # Print mit Klammernotation\n",
    "cs_tree.pretty_print()    # Pretty-Print mit Baum\n",
    "print(cs_tree.leaves())   # Blätter des Baums\n",
    "# cs_tree.draw()          # öffnet ein eigenes Fenter mit Baumdarstellung"
   ]
  },
  {
   "cell_type": "markdown",
   "metadata": {
    "slideshow": {
     "slide_type": "subslide"
    }
   },
   "source": [
    "Der Baum kann z.B. in die binäre [Chomsky-Normalform](https://de.wikipedia.org/wiki/Chomsky-Normalform) umgewandelt werden:"
   ]
  },
  {
   "cell_type": "code",
   "execution_count": 3,
   "metadata": {},
   "outputs": [
    {
     "name": "stdout",
     "output_type": "stream",
     "text": [
      "     S                                                                 \n",
      "  ___|______                                                            \n",
      " |      S|<VBD-NP>                                                     \n",
      " |    ______|______________                                             \n",
      " |   |                     NP                                          \n",
      " |   |       ______________|________                                    \n",
      " |   |      |                 NP|<JJ-NN-PP>                            \n",
      " |   |      |         ______________|___________                        \n",
      " |   |      |        |                      NP|<NN-PP>                 \n",
      " |   |      |        |      ____________________|_______                \n",
      " |   |      |        |     |                            PP             \n",
      " |   |      |        |     |         ___________________|___            \n",
      " NP  |      |        |     |        |                       NP         \n",
      " |   |      |        |     |        |                    ___|_____      \n",
      "PRP VBD     DT       JJ    NN       IN                  DT        NN   \n",
      " |   |      |        |     |        |                   |         |     \n",
      " We saw    the     yellow dog       of                 the     neighbor\n",
      "\n"
     ]
    }
   ],
   "source": [
    "cs_tree.chomsky_normal_form()\n",
    "cs_tree.pretty_print()"
   ]
  },
  {
   "cell_type": "markdown",
   "metadata": {
    "slideshow": {
     "slide_type": "slide"
    }
   },
   "source": [
    "# Was ist ein Chunk? Und was nicht?\n",
    "\n",
    "Chunks sind Einheiten, die sich irgendwie \"sinnvoll\" von ihrer Umgebung abgrenzen lassen. Tatsächlich wird nie wirklich definitiert, was \"sinnvoll\" bedeutet. Man orientiert sich hier stattdessen an der **Konstituenten- oder Phrasenstruktur** und flacht diese nach bestimmten Regeln ab.\n",
    "\n",
    "**Beispiel:** Eine Konstituentestruktur ist oft rekursiv und sieht z.B. so aus:\n",
    "\n",
    "    (S\n",
    "      (NP (PRP We))\n",
    "      (VBD saw)\n",
    "      (NP (DT the) (JJ yellow) (NN dog)\n",
    "        (PP (IN of                      \n",
    "          (NP (DT the) (NN neighbor))))))"
   ]
  },
  {
   "cell_type": "markdown",
   "metadata": {
    "slideshow": {
     "slide_type": "subslide"
    }
   },
   "source": [
    "Diese Konstituentenstruktur könnte z.B. **abgeflacht** werden, indem die NP und die PP (Präpositionalphrase) aus der komplexen NP herausgenommen und \"angehoben\" werden:\n",
    "\n",
    "    (S\n",
    "      (NP (PRP We))\n",
    "      (VBD saw)\n",
    "      (NP (DT the) (JJ yellow) (NN dog))\n",
    "      (PP (IN of))                           \n",
    "      (NP (DT the) (NN neighbor)))"
   ]
  },
  {
   "cell_type": "markdown",
   "metadata": {
    "slideshow": {
     "slide_type": "subslide"
    }
   },
   "source": [
    "Während die Konstituentstruktur in der Linguistik anhand sogenannter [**Konstituententests**](https://de.wikipedia.org/wiki/Konstituententest) (auf die wir hier nicht im Detail eingehen wollen) motiviert wird, gibt es solche linguistischen Tests für Chunks meines Wissens nicht. "
   ]
  },
  {
   "cell_type": "markdown",
   "metadata": {
    "slideshow": {
     "slide_type": "fragment"
    }
   },
   "source": [
    "Stattdessen heiligt der Zweck die Struktur, nämlich zum Beispiel die **Nützlichkeit für Tasks wie die Named-Entity Recognition** (siehe nächstes Notebook). Und dafür ist etwa wichtig, dass *New York* in einem Satz als Einheit erkannt wird. "
   ]
  },
  {
   "cell_type": "markdown",
   "metadata": {
    "slideshow": {
     "slide_type": "slide"
    }
   },
   "source": [
    "# Methoden für das automatische Chunking\n",
    "\n",
    "Sofern Chunks keine anderen Chunks einbetten, enthält ein Satz mit $n$ Worten maximal $n+1$ Chunks (inklusive Satz-Chunk), aber es gibt $2^{(n-1)}$ mögliche Chunking-Analysen. D.h. ein durchschnittlicher Satz ($n =20$) kann auf 524288 Arten gechunkt werden.  Es stellt sich also die Frage, wie man aus dieser Masse an möglichen Chunking-Analysen die richtige auswählt. "
   ]
  },
  {
   "cell_type": "markdown",
   "metadata": {
    "slideshow": {
     "slide_type": "slide"
    }
   },
   "source": [
    "## Vorbereitung der Trainings- und Testdaten\n",
    "\n",
    "Für die Evaluierung der Methoden benötigen wir, ähnlich wie beim Tagging, disjunkte Trainings- und Testdaten mit Goldchunks. NLTK stellt hierfür mit `conll2000` das Chunk-Corpus des [CoNLL-2000-Shared-Task](https://aclanthology.org/W00-0726/) bereit. Es enthält 10.948 Sätze und 259.104 Worttoken, was sicherlich ausreichend ist. <span style=\"color:red\">(Frage am Rande: Warum ist das wohl so?)</span>"
   ]
  },
  {
   "cell_type": "code",
   "execution_count": 4,
   "metadata": {
    "ExecuteTime": {
     "end_time": "2021-12-28T08:19:44.739176Z",
     "start_time": "2021-12-28T08:19:44.673016Z"
    },
    "slideshow": {
     "slide_type": "-"
    }
   },
   "outputs": [
    {
     "name": "stderr",
     "output_type": "stream",
     "text": [
      "[nltk_data] Downloading package conll2000 to\n",
      "[nltk_data]     C:\\Users\\mel\\AppData\\Roaming\\nltk_data...\n",
      "[nltk_data]   Package conll2000 is already up-to-date!\n"
     ]
    }
   ],
   "source": [
    "nltk.download('conll2000')\n",
    "from nltk.corpus import conll2000"
   ]
  },
  {
   "cell_type": "markdown",
   "metadata": {
    "slideshow": {
     "slide_type": "fragment"
    }
   },
   "source": [
    "Für die Abfrage von `conll2000` stehen die üblichen Methoden zu Verfügung (`words()`, `sents()`, `tagged_words()`, ...). "
   ]
  },
  {
   "cell_type": "code",
   "execution_count": 5,
   "metadata": {},
   "outputs": [
    {
     "name": "stdout",
     "output_type": "stream",
     "text": [
      "['Confidence', 'in', 'the', 'pound', 'is', 'widely', 'expected', 'to', 'take', 'another', 'sharp', 'dive', 'if', 'trade', 'figures', 'for', 'September', ',', 'due', 'for', 'release', 'tomorrow', ',', 'fail', 'to', 'show', 'a', 'substantial', 'improvement', 'from', 'July', 'and', 'August', \"'s\", 'near-record', 'deficits', '.']\n"
     ]
    }
   ],
   "source": [
    "print(conll2000.sents()[0])"
   ]
  },
  {
   "cell_type": "markdown",
   "metadata": {
    "slideshow": {
     "slide_type": "slide"
    }
   },
   "source": [
    "### IOB-Notation\n",
    "\n",
    "Zudem kann man das Corpus mit [`iob_words()`](https://www.nltk.org/api/nltk.corpus.reader.conll.html?highlight=iob_words#nltk.corpus.reader.conll.ConllCorpusReader.iob_words) und [`iob_sents`](https://www.nltk.org/api/nltk.corpus.reader.conll.html?highlight=iob_words#nltk.corpus.reader.conll.ConllCorpusReader.iob_sents) als Trippel bestehend aus Wortform, POS-Tag und Chunk-Tag ausgeben."
   ]
  },
  {
   "cell_type": "code",
   "execution_count": 6,
   "metadata": {
    "ExecuteTime": {
     "end_time": "2021-12-28T08:19:44.749163Z",
     "start_time": "2021-12-28T08:19:44.741142Z"
    }
   },
   "outputs": [
    {
     "name": "stdout",
     "output_type": "stream",
     "text": [
      "[('Confidence', 'NN', 'B-NP'), ('in', 'IN', 'B-PP'), ('the', 'DT', 'B-NP'), ('pound', 'NN', 'I-NP'), ('is', 'VBZ', 'B-VP'), ('widely', 'RB', 'I-VP'), ('expected', 'VBN', 'I-VP'), ('to', 'TO', 'I-VP'), ('take', 'VB', 'I-VP'), ('another', 'DT', 'B-NP'), ('sharp', 'JJ', 'I-NP'), ('dive', 'NN', 'I-NP'), ('if', 'IN', 'B-SBAR'), ('trade', 'NN', 'B-NP'), ('figures', 'NNS', 'I-NP')]\n"
     ]
    }
   ],
   "source": [
    "print(conll2000.iob_words()[:15])"
   ]
  },
  {
   "cell_type": "markdown",
   "metadata": {
    "slideshow": {
     "slide_type": "fragment"
    }
   },
   "source": [
    "Der Umfang der Chunks wird hier nicht mit Klammern, sondern mit Hilfe der **IOB-Annotation** (\"Inside\", \"Outside\", \"Beginning\") angezeigt. \n",
    "- `B-NP`: NP-Chunk beginnt an diesem Token\n",
    "- `I-NP`: Token befindet sich in einem NP-Chunk, aber nicht am Anfang des NP-Chunks. \n",
    "- Das Ende des Chunks wird indirekt durch das nächste Worttoken markiert, dass mit `O` oder `B` annotiert ist. "
   ]
  },
  {
   "cell_type": "markdown",
   "metadata": {
    "slideshow": {
     "slide_type": "subslide"
    }
   },
   "source": [
    "Ein Beispiel sieht so aus, wobei hier nur NP-Chunking durchgeführt wird:\n",
    "\n",
    "<img src=\"https://www.nltk.org/images/chunk-tagrep.png\" alt=\"Drawing\"/>"
   ]
  },
  {
   "cell_type": "markdown",
   "metadata": {
    "slideshow": {
     "slide_type": "-"
    }
   },
   "source": [
    "Man beachte, dass hier das [POS-Tagset der Penn Treebank](https://www.ling.upenn.edu/courses/Fall_2003/ling001/penn_treebank_pos.html) verwendet wird. Will man das ändern, steht wie immer die Option `tagset` zur Verfügung.  "
   ]
  },
  {
   "cell_type": "markdown",
   "metadata": {
    "slideshow": {
     "slide_type": "fragment"
    }
   },
   "source": [
    "<span style=\"color:red\">(Frage am Rande: Ist die IOB-Notation genauso ausdrucksstark wie die Klammernotation?)</span>"
   ]
  },
  {
   "cell_type": "markdown",
   "metadata": {
    "slideshow": {
     "slide_type": "slide"
    }
   },
   "source": [
    "### Tree-Objekte\n",
    "\n",
    "Neben der Tripel-Ausgabe kann man das Corpus mittels [`chunked_sents(chunk_types=None)`](https://www.nltk.org/api/nltk.corpus.reader.chunked.html?highlight=chunked_sents#nltk.corpus.reader.chunked.ChunkedCorpusReader.chunked_sents) auch als `Tree`-Objekte auslesen, wobei mit der Option `chunk_types` die Chunks anhand des Labels eingeschränkt werden können: "
   ]
  },
  {
   "cell_type": "code",
   "execution_count": 7,
   "metadata": {
    "ExecuteTime": {
     "end_time": "2021-12-28T08:19:44.759455Z",
     "start_time": "2021-12-28T08:19:44.751390Z"
    }
   },
   "outputs": [
    {
     "name": "stdout",
     "output_type": "stream",
     "text": [
      "[Tree('S', [Tree('NP', [('Confidence', 'NN')]), Tree('PP', [('in', 'IN')]), Tree('NP', [('the', 'DT'), ('pound', 'NN')]), Tree('VP', [('is', 'VBZ'), ('widely', 'RB'), ('expected', 'VBN'), ('to', 'TO'), ('take', 'VB')]), Tree('NP', [('another', 'DT'), ('sharp', 'JJ'), ('dive', 'NN')]), ('if', 'IN'), Tree('NP', [('trade', 'NN'), ('figures', 'NNS')]), Tree('PP', [('for', 'IN')]), Tree('NP', [('September', 'NNP')]), (',', ','), ('due', 'JJ'), Tree('PP', [('for', 'IN')]), Tree('NP', [('release', 'NN')]), Tree('NP', [('tomorrow', 'NN')]), (',', ','), Tree('VP', [('fail', 'VB'), ('to', 'TO'), ('show', 'VB')]), Tree('NP', [('a', 'DT'), ('substantial', 'JJ'), ('improvement', 'NN')]), Tree('PP', [('from', 'IN')]), Tree('NP', [('July', 'NNP'), ('and', 'CC'), ('August', 'NNP')]), Tree('NP', [(\"'s\", 'POS'), ('near-record', 'JJ'), ('deficits', 'NNS')]), ('.', '.')]), Tree('S', [('Chancellor', 'NNP'), Tree('PP', [('of', 'IN')]), Tree('NP', [('the', 'DT'), ('Exchequer', 'NNP')]), Tree('NP', [('Nigel', 'NNP'), ('Lawson', 'NNP')]), Tree('NP', [(\"'s\", 'POS'), ('restated', 'VBN'), ('commitment', 'NN')]), Tree('PP', [('to', 'TO')]), Tree('NP', [('a', 'DT'), ('firm', 'NN'), ('monetary', 'JJ'), ('policy', 'NN')]), Tree('VP', [('has', 'VBZ'), ('helped', 'VBN'), ('to', 'TO'), ('prevent', 'VB')]), Tree('NP', [('a', 'DT'), ('freefall', 'NN')]), Tree('PP', [('in', 'IN')]), Tree('NP', [('sterling', 'NN')]), Tree('PP', [('over', 'IN')]), Tree('NP', [('the', 'DT'), ('past', 'JJ'), ('week', 'NN')]), ('.', '.')]), ...]\n"
     ]
    }
   ],
   "source": [
    "print(conll2000.chunked_sents(chunk_types=None))"
   ]
  },
  {
   "cell_type": "markdown",
   "metadata": {
    "slideshow": {
     "slide_type": "subslide"
    }
   },
   "source": [
    "Diese Ausgabe besteht aus verschachtelten `Tree`-Objekten, die jeweils einen Mutterknoten und die Töchterknoten umfassen.\n",
    "\n",
    "D.h. wenn wir einen Satz auswählen, wird mit `print()` die Baumstruktur des `Tree`-Objekts besser lesbar ausgegeben:"
   ]
  },
  {
   "cell_type": "code",
   "execution_count": 8,
   "metadata": {
    "ExecuteTime": {
     "end_time": "2021-12-28T08:19:44.771405Z",
     "start_time": "2021-12-28T08:19:44.766145Z"
    }
   },
   "outputs": [
    {
     "name": "stdout",
     "output_type": "stream",
     "text": [
      "(S\n",
      "  (NP Confidence/NN)\n",
      "  (PP in/IN)\n",
      "  (NP the/DT pound/NN)\n",
      "  (VP is/VBZ widely/RB expected/VBN to/TO take/VB)\n",
      "  (NP another/DT sharp/JJ dive/NN)\n",
      "  if/IN\n",
      "  (NP trade/NN figures/NNS)\n",
      "  (PP for/IN)\n",
      "  (NP September/NNP)\n",
      "  ,/,\n",
      "  due/JJ\n",
      "  (PP for/IN)\n",
      "  (NP release/NN)\n",
      "  (NP tomorrow/NN)\n",
      "  ,/,\n",
      "  (VP fail/VB to/TO show/VB)\n",
      "  (NP a/DT substantial/JJ improvement/NN)\n",
      "  (PP from/IN)\n",
      "  (NP July/NNP and/CC August/NNP)\n",
      "  (NP 's/POS near-record/JJ deficits/NNS)\n",
      "  ./.)\n"
     ]
    }
   ],
   "source": [
    "print(conll2000.chunked_sents(chunk_types=None)[0])"
   ]
  },
  {
   "cell_type": "markdown",
   "metadata": {
    "slideshow": {
     "slide_type": "slide"
    }
   },
   "source": [
    "### CoNLL-Format\n",
    "\n",
    "Übrigens ist das \"rohe\" CoNLL-2000-Corpus im weitverbreiteten [**CoNLL-Format**](https://universaldependencies.org/docs/format.html) kodiert, bei dem jedes Wort und seine Tags eine Zeile bilden:"
   ]
  },
  {
   "cell_type": "code",
   "execution_count": 9,
   "metadata": {
    "ExecuteTime": {
     "end_time": "2021-12-28T08:19:44.802818Z",
     "start_time": "2021-12-28T08:19:44.773684Z"
    }
   },
   "outputs": [
    {
     "name": "stdout",
     "output_type": "stream",
     "text": [
      "Confidence NN B-NP\n",
      "in IN B-PP\n",
      "the DT B-NP\n",
      "pound NN I-NP\n",
      "is VBZ B-VP\n",
      "widely RB I-VP\n",
      "expected VBN I-VP\n",
      "to TO I-VP\n",
      "take VB I-VP\n",
      "another DT B-NP\n"
     ]
    }
   ],
   "source": [
    "print(conll2000.raw()[:140])"
   ]
  },
  {
   "cell_type": "markdown",
   "metadata": {
    "slideshow": {
     "slide_type": "slide"
    }
   },
   "source": [
    "## Splits und MFC-Baseline\n",
    "\n",
    "Praktischerweise sind die CoNLL-Daten bereits in Trainings- und Testdaten aufgeteilt:"
   ]
  },
  {
   "cell_type": "code",
   "execution_count": 10,
   "metadata": {
    "ExecuteTime": {
     "end_time": "2021-12-28T08:19:45.586522Z",
     "start_time": "2021-12-28T08:19:44.807906Z"
    }
   },
   "outputs": [
    {
     "name": "stdout",
     "output_type": "stream",
     "text": [
      "Verhältnis Testdaten/Trainingsdaten:  0.2251566696508505\n"
     ]
    }
   ],
   "source": [
    "conlltrain = conll2000.chunked_sents('train.txt')\n",
    "conlltest = conll2000.chunked_sents('test.txt')\n",
    "\n",
    "print(\"Verhältnis Testdaten/Trainingsdaten: \",\n",
    "      len(conll2000.chunked_sents('test.txt'))/len(conll2000.chunked_sents('train.txt')))"
   ]
  },
  {
   "cell_type": "markdown",
   "metadata": {
    "slideshow": {
     "slide_type": "subslide"
    }
   },
   "source": [
    "Vergleichbar mit dem POS-Tagging können wir uns erst einmal klar machen, wie schwer die Aufgabe ist, und eine einfache MFC-Baseline (\"Most Frequent Chunk\") bestimmen. Dafür schauen wir am besten auf die IOB-Annotation im rohen CoNLL2000-Corpus, da hier die einzelnen Wordtoken annotiert sind:"
   ]
  },
  {
   "cell_type": "code",
   "execution_count": 11,
   "metadata": {
    "ExecuteTime": {
     "end_time": "2021-12-28T08:19:46.502345Z",
     "start_time": "2021-12-28T08:19:45.588869Z"
    }
   },
   "outputs": [
    {
     "data": {
      "text/plain": [
       "[('I-NP', 63307),\n",
       " ('B-NP', 55081),\n",
       " ('O', 27902),\n",
       " ('B-VP', 21467),\n",
       " ('B-PP', 21281),\n",
       " ('I-VP', 12003),\n",
       " ('B-ADVP', 4227),\n",
       " ('B-SBAR', 2207),\n",
       " ('B-ADJP', 2060),\n",
       " ('I-ADJP', 643),\n",
       " ('B-PRT', 556),\n",
       " ('I-ADVP', 443),\n",
       " ('I-PP', 291),\n",
       " ('I-CONJP', 73),\n",
       " ('I-SBAR', 70),\n",
       " ('B-CONJP', 56),\n",
       " ('B-INTJ', 31),\n",
       " ('B-LST', 10),\n",
       " ('I-INTJ', 9),\n",
       " ('I-UCP', 6)]"
      ]
     },
     "execution_count": 11,
     "metadata": {},
     "output_type": "execute_result"
    }
   ],
   "source": [
    "from nltk.probability import FreqDist\n",
    "\n",
    "chunkdist = FreqDist(\n",
    "    [chunktag for word, postag, chunktag in conll2000.iob_words('train.txt')])\n",
    "mfc = chunkdist.most_common(1)[0][0]\n",
    "\n",
    "chunkdist.most_common(20)"
   ]
  },
  {
   "cell_type": "markdown",
   "metadata": {
    "slideshow": {
     "slide_type": "subslide"
    }
   },
   "source": [
    "Das häufigste Chunk-Tag ist also `I-NP`. Im Trainingskorpus wird dieses Tag immerhin bei knapp 30% der Wordtoken verwendet:"
   ]
  },
  {
   "cell_type": "code",
   "execution_count": 12,
   "metadata": {
    "ExecuteTime": {
     "end_time": "2021-12-28T08:19:47.857806Z",
     "start_time": "2021-12-28T08:19:46.505040Z"
    }
   },
   "outputs": [
    {
     "data": {
      "text/plain": [
       "29.900296136062003"
      ]
     },
     "execution_count": 12,
     "metadata": {},
     "output_type": "execute_result"
    }
   ],
   "source": [
    "100 * chunkdist.most_common(1)[0][1] / len(conll2000.iob_words('train.txt'))"
   ]
  },
  {
   "cell_type": "markdown",
   "metadata": {
    "slideshow": {
     "slide_type": "subslide"
    }
   },
   "source": [
    "Dies ist also auch unsere Accuracy-Baseline, d.h. ein sehr einfacher Chunker, der jedes Worttoken mit dem Tag `I-NP` versieht, erreicht eine Accuracy in dieser Höhe. Korrekterweise müssen wir diesen Wert anhand der Testdaten errechnen:"
   ]
  },
  {
   "cell_type": "code",
   "execution_count": 13,
   "metadata": {
    "ExecuteTime": {
     "end_time": "2021-12-28T08:19:48.366534Z",
     "start_time": "2021-12-28T08:19:47.859551Z"
    }
   },
   "outputs": [
    {
     "data": {
      "text/plain": [
       "30.34383772716719"
      ]
     },
     "execution_count": 13,
     "metadata": {},
     "output_type": "execute_result"
    }
   ],
   "source": [
    "100 * FreqDist([chunktag for word, postag, chunktag in conll2000.iob_words('test.txt')]\n",
    "               ).most_common(1)[0][1] / len(conll2000.iob_words('test.txt'))"
   ]
  },
  {
   "cell_type": "markdown",
   "metadata": {
    "slideshow": {
     "slide_type": "fragment"
    }
   },
   "source": [
    "Natürlich ist es noch **nicht einmal theoretisch brauchbar**, jedes Token mit `I-NP` zu taggen, weil das zu einem nicht wohlgeformten IOB-Muster führt. Es fehlt nämlich das initiale `B`-Tag. Trotzdem wollen wir der Vollständigkeit halber als erstes so einen Default-Chunker implementierten.  "
   ]
  },
  {
   "cell_type": "markdown",
   "metadata": {
    "slideshow": {
     "slide_type": "slide"
    }
   },
   "source": [
    "## Default-Chunker\n",
    "\n",
    "Ein Default-Chunker weist jedem Word dasselbe Chunk-Tag zu. NLTK bietet hierfür keine fertige Implementierung an; allerdings kann man dafür den [`DefaultTagger`](https://www.nltk.org/api/nltk.tag.sequential.html?highlight=defaulttagger#nltk.tag.sequential.DefaultTagger) aus der letzten Sitzung verwenden! Man muss dafür einfach POS-Tags wie Wortformen und Chunk-Tags wie POS-Tags behandeln:  "
   ]
  },
  {
   "cell_type": "code",
   "execution_count": 14,
   "metadata": {
    "ExecuteTime": {
     "end_time": "2021-12-28T08:19:48.374463Z",
     "start_time": "2021-12-28T08:19:48.368261Z"
    }
   },
   "outputs": [],
   "source": [
    "# Adapted from https://www.nltk.org/book/ch07.html\n",
    "class DefaultChunker(nltk.ChunkParserI):\n",
    "    def __init__(self, default):\n",
    "        self.tagger = nltk.DefaultTagger(default)   # Benutze den DefaultTagger\n",
    "\n",
    "    def parse(self, sentence):\n",
    "        pos_tags = [pos for (word, pos) in sentence]\n",
    "        # Die POS-Tags werden wie Wörter beim POS-Tagging verwendet.\n",
    "        tagged_pos_tags = self.tagger.tag(pos_tags)\n",
    "\n",
    "        # Bringe die Chunk-Tags in das richtige Ausgabeformat\n",
    "        chunktags = [chunktag for (pos, chunktag) in tagged_pos_tags]\n",
    "        conlltags = [(word, pos, chunktag) for ((word, pos), chunktag)\n",
    "                     in zip(sentence, chunktags)]\n",
    "        return nltk.chunk.conlltags2tree(conlltags)"
   ]
  },
  {
   "cell_type": "markdown",
   "metadata": {
    "slideshow": {
     "slide_type": "subslide"
    }
   },
   "source": [
    "Die Chunker-Klassen, die vom Interface [`ChunkParserI`](https://www.nltk.org/api/nltk.chunk.api.html#nltk.chunk.api.ChunkParserI) abgeleitet werden, haben eine Methode `accuracy(goldtestdata)`, mit der die Evaluation anhand von Goldtestdaten durchgeführt werden kann:"
   ]
  },
  {
   "cell_type": "code",
   "execution_count": 15,
   "metadata": {
    "ExecuteTime": {
     "end_time": "2021-12-28T08:19:49.124385Z",
     "start_time": "2021-12-28T08:19:48.376545Z"
    }
   },
   "outputs": [
    {
     "name": "stdout",
     "output_type": "stream",
     "text": [
      "ChunkParse score:\n",
      "    IOB Accuracy:  33.2%%\n",
      "    Precision:      0.7%%\n",
      "    Recall:         0.1%%\n",
      "    F-Measure:      0.1%%\n"
     ]
    }
   ],
   "source": [
    "default_chunker = DefaultChunker('I-NP')\n",
    "print(default_chunker.accuracy(conlltest))"
   ]
  },
  {
   "cell_type": "markdown",
   "metadata": {
    "slideshow": {
     "slide_type": "fragment"
    }
   },
   "source": [
    "Die \"IOB Accuracy\" liegt zwar in einem Bereich, den wir erwartet haben, aber die Werte für Precision, Recall und F-Measure wirken erst einmal seltsam, weil sie sich erheblich von der IOB Accuracy unterscheiden. Dies liegt an einer unterschiedlichen Bemessungsgrundlage:\n",
    "- Die IOB Accuracy betrachtet jedes einzelnen Chunk-Tag. Da jedes Worttoken ein Chunk-Tag erhält, ist hier nur die Accuracy sinnvoll (bzw. äquivalent zu F1-Measure). Da relativ viele Worttoken das Chunk-Tag `I-NP` haben, ist die IOB Accuracy noch relativ hoch. \n",
    "- Precision, Recall und F1-Measure betrachten hier die Annotation ganzer Chunks. Da die Anzahl und der Umfang der Chunks nicht festgelegt ist, können sich Precision und Recall unterscheiden. Da keine `B-NP` verwendet werden, sind quasi gar keine Chunks annotiert und das F1-Measure dementsprechend sehr gering. <span style=\"color:red\">(Frage am Rande: Sollte das F-Measure dann nicht eigentlich bei 0% liegen?)</span> "
   ]
  },
  {
   "cell_type": "markdown",
   "metadata": {
    "slideshow": {
     "slide_type": "slide"
    }
   },
   "source": [
    "## Regexp-Chunker\n",
    "\n",
    "Wie beim POS-Tagging gibt es für das Chunkging ein regelbasiertes Verfahren mittels regulärer Ausdrücke. Dieses Verfahren benötigt keine Lerndaten, denn es können die Chunking-Regeln auf Grundlage der POS-Tags direkt angegeben werden."
   ]
  },
  {
   "cell_type": "markdown",
   "metadata": {
    "slideshow": {
     "slide_type": "fragment"
    }
   },
   "source": [
    "Man unterscheidet vier Arten von Chunking-Regeln:\n",
    "1. **Chunk:** Fasse die POS-Tags zu einem Chunk zusammen.\n",
    "2. **Chink:** Entferne die POS-Tags aus einem Chunk.\n",
    "3. **Split:** Teile das Chunk an einer bestimmten Stelle. \n",
    "4. **Merge:** Fasse zwei Chunks zusammen.\n",
    "\n",
    "Die Reihenfolge der Regel-Typen kann beliebig festegelegt werden. Man kann zum Beispiel erst einen großen Chunk erstellen, diesen dann splitten, dann bestimmte Chunks chinken, dann wieder bestimmte Chunks mergen usw. "
   ]
  },
  {
   "cell_type": "markdown",
   "metadata": {
    "slideshow": {
     "slide_type": "subslide"
    }
   },
   "source": [
    "Eine Regel beschreibt eine **Kette von POS- oder Chunk-Tags** mit Hilfe von regulären Operatoren:\n",
    "\n",
    "\n",
    "| **REGEXP** | **Beschreibung**                                     |\n",
    "| :-------   | :-------------------                                 |\n",
    "| `<NN>`     | ein Worttoken mit dem POS-Tag `NN`                   |\n",
    "| `<NN>+`    | ein oder mehr als ein Wordtoken mit dem POS-Tag `NN` |\n",
    "| `<NN.?>`   | ein Worttoken mit dem POS-Tag `NN` oder `NNS` oder `NNP`        |\n",
    "| `<NN\\|AT>`   | ein Worttoken mit dem POS-Tag `NN` oder `AT`         |\n",
    "| `<.*>`     | ein Wordtoken mit einem beliebigen POS-Tag           |\n",
    "| `<VP><NP>` | eine Verbalphrase gefolgt von einer Nominalphrase |"
   ]
  },
  {
   "cell_type": "markdown",
   "metadata": {
    "slideshow": {
     "slide_type": "subslide"
    }
   },
   "source": [
    "Der Regel-Typ wird mit geschweiften Klammern angedeutet:\n",
    "\n",
    "| **REGEXP**           | **Beschreibung** |\n",
    "| :------------------- | :-------         |\n",
    "| `{REGEXP}`           | Chunk            |\n",
    "| `}REGEXP{`           | Chink            |\n",
    "| `REGEXP}{REGEXP`    | Split            |\n",
    "| `REGEXP{}REGEXP`     | Merge            |"
   ]
  },
  {
   "cell_type": "markdown",
   "metadata": {
    "slideshow": {
     "slide_type": "subslide"
    }
   },
   "source": [
    "Hier ein kleines Beispiel:"
   ]
  },
  {
   "cell_type": "code",
   "execution_count": 16,
   "metadata": {
    "ExecuteTime": {
     "end_time": "2021-12-28T08:19:49.130003Z",
     "start_time": "2021-12-28T08:19:49.126797Z"
    }
   },
   "outputs": [],
   "source": [
    "grammar = r\"\"\"\n",
    "  NP:\n",
    "    {<.*>+}          # Chunk everything\n",
    "    }<VBD|IN|RP>+{   # Chink sequences of VBD, IN, RP\n",
    "  VP: \n",
    "    {<VBD><.*>+}     # Chunk VBD and everything following it\n",
    "    }<NP>{           # Chink NP chunks \n",
    "  \"\"\""
   ]
  },
  {
   "cell_type": "markdown",
   "metadata": {
    "slideshow": {
     "slide_type": "subslide"
    }
   },
   "source": [
    "Diese Grammatik ist die Eingabe für den [`RegexpParser`](https://www.nltk.org/api/nltk.chunk.regexp.html?highlight=regexpparser#nltk.chunk.regexp.RegexpParser), wobei mit `loop=1` die Anzahl der Durchläufe und mit `trace=1` der Grad der Protokollierung festgelegt werden kann."
   ]
  },
  {
   "cell_type": "code",
   "execution_count": 17,
   "metadata": {
    "ExecuteTime": {
     "end_time": "2021-12-28T08:19:49.146170Z",
     "start_time": "2021-12-28T08:19:49.131845Z"
    }
   },
   "outputs": [
    {
     "name": "stdout",
     "output_type": "stream",
     "text": [
      "# Input:\n",
      " <NNP>  <VBD>  <RP>  <PP$>  <JJ>  <JJ>  <NN> \n",
      "# Chunk everything:\n",
      "{<NNP>  <VBD>  <RP>  <PP$>  <JJ>  <JJ>  <NN>}\n",
      "# Chink sequences of VBD, IN, RP:\n",
      "{<NNP>} <VBD>  <RP> {<PP$>  <JJ>  <JJ>  <NN>}\n",
      "# Input:\n",
      " <NP>  <VBD>  <RP>  <NP> \n",
      "# Chunk VBD and everything following it:\n",
      " <NP> {<VBD>  <RP>  <NP>}\n",
      "# Chink NP chunks:\n",
      " <NP> {<VBD>  <RP>} <NP> \n",
      "(S\n",
      "  (NP Rapunzel/NNP)\n",
      "  (VP let/VBD down/RP)\n",
      "  (NP her/PP$ long/JJ golden/JJ hair/NN))\n"
     ]
    }
   ],
   "source": [
    "regexp_chunker = nltk.RegexpParser(grammar, loop=1, trace=1)\n",
    "\n",
    "sentence = [(\"Rapunzel\", \"NNP\"), (\"let\", \"VBD\"), (\"down\", \"RP\"),\n",
    "            (\"her\", \"PP$\"), (\"long\", \"JJ\"), (\"golden\", \"JJ\"), (\"hair\", \"NN\")]\n",
    "print(regexp_chunker.parse(sentence))"
   ]
  },
  {
   "cell_type": "markdown",
   "metadata": {
    "slideshow": {
     "slide_type": "subslide"
    }
   },
   "source": [
    "Die Performance ist aber insgesamt verbesserungsfähig ..."
   ]
  },
  {
   "cell_type": "code",
   "execution_count": 18,
   "metadata": {},
   "outputs": [
    {
     "name": "stdout",
     "output_type": "stream",
     "text": [
      "ChunkParse score:\n",
      "    IOB Accuracy:  48.5%%\n",
      "    Precision:     27.1%%\n",
      "    Recall:        14.8%%\n",
      "    F-Measure:     19.1%%\n"
     ]
    }
   ],
   "source": [
    "regexp_chunker = nltk.RegexpParser(grammar, loop=1)\n",
    "print(regexp_chunker.accuracy(conlltest))"
   ]
  },
  {
   "cell_type": "markdown",
   "metadata": {
    "slideshow": {
     "slide_type": "slide"
    }
   },
   "source": [
    "### <span style=\"color:red\">Aufgaben I: Regexp-Chunker </span>\n",
    "\n",
    "<span style=\"color:red\">A1:</span> Überlegen Sie sich sinnvolle Chunking-Regeln und implementieren Sie diese als `mygrammar` wie oben als reguläre Ausdrücke! Führen Sie eine Evaluation mit `accuracy()` durch und erzielen Sie einen F1-Wert >=70!"
   ]
  },
  {
   "cell_type": "code",
   "execution_count": 19,
   "metadata": {
    "ExecuteTime": {
     "end_time": "2021-12-28T08:19:49.152485Z",
     "start_time": "2021-12-28T08:19:49.148282Z"
    }
   },
   "outputs": [],
   "source": [
    "# Lösung A1\n",
    "\n",
    "loop_level = 1\n",
    "trace_level = 0\n",
    "\n",
    "## 61.1%\n",
    "mygrammar = r\"\"\"\n",
    "    NP: {<DT|PRP\\$>?<JJ.*>*<NN.*>+}    # Noun phrases with determiners, adjectives, and nouns\n",
    "        {<NNP.*>+<POS>?<NN.*>*}        # Proper noun phrases with optional possessive\n",
    "        {<DT|PRP\\$>?<CD>+}              # Numbers or numeric phrases\n",
    "    VP: {<MD|VB.*><RB.*>*<VB.*>+}        # Modal or verb with optional adverb\n",
    "        {<TO><VB>}                      # Infinitive phrases\n",
    "        {<VP> <CC> <VP>}                # Coordination of verb phrases\n",
    "        {<VB.*><RB.*>*<VB.*>*}          # Passive constructions with additional verbs\n",
    "    PP: {<IN><DT|JJ|CD>?<NN.*>+}         # Prepositions with noun phrases\n",
    "    PARENTH: {<,><NP|PP|VP|JJ>*<,>}     # Parenthetical elements\n",
    "    NUM: {<\\$>?<CD>+<NNS|NN>?}          # Numbers with units \n",
    "\"\"\""
   ]
  },
  {
   "cell_type": "code",
   "execution_count": 20,
   "metadata": {
    "ExecuteTime": {
     "end_time": "2021-12-28T08:19:49.160946Z",
     "start_time": "2021-12-28T08:19:49.154961Z"
    },
    "slideshow": {
     "slide_type": "subslide"
    }
   },
   "outputs": [
    {
     "name": "stdout",
     "output_type": "stream",
     "text": [
      "ChunkParse score:\n",
      "    IOB Accuracy:  73.0%%\n",
      "    Precision:     69.6%%\n",
      "    Recall:        55.4%%\n",
      "    F-Measure:     61.7%%\n"
     ]
    }
   ],
   "source": [
    "# Test (nicht verändern)\n",
    "\n",
    "my_regexp_chunker = nltk.RegexpParser(\n",
    "    mygrammar, loop=loop_level, trace=trace_level)\n",
    "print(my_regexp_chunker.accuracy(conlltest))"
   ]
  },
  {
   "cell_type": "code",
   "execution_count": null,
   "metadata": {
    "ExecuteTime": {
     "end_time": "2021-12-28T08:19:53.812070Z",
     "start_time": "2021-12-28T08:19:50.139871Z"
    },
    "slideshow": {
     "slide_type": "subslide"
    }
   },
   "outputs": [],
   "source": [
    "# Generate confusion matrix\n",
    "\n",
    "from nltk.metrics import ConfusionMatrix\n",
    "from nltk import conlltags2tree, tree2conlltags\n",
    "\n",
    "gold = [chunktag for word, tag, chunktag in conll2000.iob_words('test.txt')]\n",
    "test = [chunktag for sent in conll2000.tagged_sents('test.txt')\n",
    "        for word, tag, chunktag in tree2conlltags([tree for tree in my_regexp_chunker.parse(sent)])]\n",
    "\n",
    "print(ConfusionMatrix(gold, test).pretty_format(show_percents=True,\n",
    "      values_in_chart=True, truncate=15, sort_by_count=True))"
   ]
  },
  {
   "cell_type": "code",
   "execution_count": 21,
   "metadata": {
    "slideshow": {
     "slide_type": "subslide"
    }
   },
   "outputs": [
    {
     "name": "stdout",
     "output_type": "stream",
     "text": [
      "GOLD:\n",
      "(S\n",
      "  (NP Confidence/NN)\n",
      "  (PP in/IN)\n",
      "  (NP the/DT pound/NN)\n",
      "  (VP is/VBZ widely/RB expected/VBN to/TO take/VB)\n",
      "  (NP another/DT sharp/JJ dive/NN)\n",
      "  if/IN\n",
      "  (NP trade/NN figures/NNS)\n",
      "  (PP for/IN)\n",
      "  (NP September/NNP)\n",
      "  ,/,\n",
      "  due/JJ\n",
      "  (PP for/IN)\n",
      "  (NP release/NN)\n",
      "  (NP tomorrow/NN)\n",
      "  ,/,\n",
      "  (VP fail/VB to/TO show/VB)\n",
      "  (NP a/DT substantial/JJ improvement/NN)\n",
      "  (PP from/IN)\n",
      "  (NP July/NNP and/CC August/NNP)\n",
      "  (NP 's/POS near-record/JJ deficits/NNS)\n",
      "  ./.)\n",
      "\n",
      "TEST:\n",
      "(S\n",
      "  (NP Confidence/NN)\n",
      "  in/IN\n",
      "  (NP the/DT pound/NN)\n",
      "  (VP is/VBZ widely/RB expected/VBN)\n",
      "  (VP to/TO take/VB)\n",
      "  (NP another/DT sharp/JJ dive/NN)\n",
      "  if/IN\n",
      "  (NP trade/NN figures/NNS)\n",
      "  for/IN\n",
      "  (NP September/NNP)\n",
      "  ,/,\n",
      "  due/JJ\n",
      "  for/IN\n",
      "  (NP release/NN tomorrow/NN)\n",
      "  ,/,\n",
      "  (VP fail/VB)\n",
      "  (VP to/TO show/VB)\n",
      "  (NP a/DT substantial/JJ improvement/NN)\n",
      "  from/IN\n",
      "  (NP July/NNP)\n",
      "  and/CC\n",
      "  (NP August/NNP)\n",
      "  's/POS\n",
      "  (NP near-record/JJ deficits/NNS)\n",
      "  ./.)\n",
      "\n",
      "==== Diff ====\n",
      "\n",
      "--- Gold\n",
      "+++ Test\n",
      "@@ -1,22 +1,26 @@\n",
      " (S\n",
      " (NP Confidence/NN)\n",
      "-(PP in/IN)\n",
      "+in/IN\n",
      " (NP the/DT pound/NN)\n",
      "-(VP is/VBZ widely/RB expected/VBN to/TO take/VB)\n",
      "+(VP is/VBZ widely/RB expected/VBN)\n",
      "+(VP to/TO take/VB)\n",
      " (NP another/DT sharp/JJ dive/NN)\n",
      " if/IN\n",
      " (NP trade/NN figures/NNS)\n",
      "-(PP for/IN)\n",
      "+for/IN\n",
      " (NP September/NNP)\n",
      " ,/,\n",
      " due/JJ\n",
      "-(PP for/IN)\n",
      "-(NP release/NN)\n",
      "-(NP tomorrow/NN)\n",
      "+for/IN\n",
      "+(NP release/NN tomorrow/NN)\n",
      " ,/,\n",
      "-(VP fail/VB to/TO show/VB)\n",
      "+(VP fail/VB)\n",
      "+(VP to/TO show/VB)\n",
      " (NP a/DT substantial/JJ improvement/NN)\n",
      "-(PP from/IN)\n",
      "-(NP July/NNP and/CC August/NNP)\n",
      "-(NP 's/POS near-record/JJ deficits/NNS)\n",
      "+from/IN\n",
      "+(NP July/NNP)\n",
      "+and/CC\n",
      "+(NP August/NNP)\n",
      "+'s/POS\n",
      "+(NP near-record/JJ deficits/NNS)\n",
      " ./.)\n"
     ]
    }
   ],
   "source": [
    "# Inspect parsed data\n",
    "\n",
    "index = 0 # <-- Change sentence here \n",
    "gold = conll2000.chunked_sents('train.txt')[index]\n",
    "test = my_regexp_chunker.parse(conll2000.tagged_sents('train.txt')[index])\n",
    "\n",
    "print(\"GOLD:\")\n",
    "print(gold)\n",
    "\n",
    "print(\"\\nTEST:\")\n",
    "print(test)\n",
    "\n",
    "# Show the diff\n",
    "print(\"\\n==== Diff ====\\n\")\n",
    "\n",
    "import io\n",
    "import difflib\n",
    "from contextlib import redirect_stdout\n",
    "\n",
    "# Capture output of print(gold)\n",
    "gold_output = io.StringIO()\n",
    "with redirect_stdout(gold_output):\n",
    "    print(gold)\n",
    "\n",
    "# Capture output of print(test)\n",
    "test_output = io.StringIO()\n",
    "with redirect_stdout(test_output):\n",
    "    print(test)\n",
    "\n",
    "# Preprocess: Normalize lines to ignore indentation\n",
    "def normalize_whitespace(text):\n",
    "    return \"\\n\".join(line.lstrip() for line in text.splitlines())\n",
    "    \n",
    "# Get the string values of the outputs\n",
    "gold_text = normalize_whitespace(gold_output.getvalue())\n",
    "test_text = normalize_whitespace(test_output.getvalue())\n",
    "\n",
    "# Compare using difflib\n",
    "diff = difflib.unified_diff(\n",
    "    gold_text.splitlines(), \n",
    "    test_text.splitlines(), \n",
    "    lineterm=\"\", \n",
    "    fromfile=\"Gold\", \n",
    "    tofile=\"Test\"\n",
    ")\n",
    "\n",
    "# Print the diff\n",
    "print(\"\\n\".join(diff))\n"
   ]
  },
  {
   "cell_type": "markdown",
   "metadata": {
    "slideshow": {
     "slide_type": "slide"
    }
   },
   "source": [
    "## N-Gram-Chunker\n",
    "\n",
    "Genauso wie beim **POS-Tagging** kann man auch beim Chunking die Tags der $n-1$ vorangegangenen Worttoken nutzen und dementsprechend Unigram-, Bigram- und Trigram-Chunker entwickeln. \n",
    "\n",
    "Wie beim [Default-Chunker](#Default-Chunker) oben kann man dafür die in der letzten Sitzung behandelten POS-Tagger wiederverwenden, indem man einfach POS-Tags wie Wortformen und Chunk-Tags wie POS-Tags behandelt."
   ]
  },
  {
   "cell_type": "markdown",
   "metadata": {
    "slideshow": {
     "slide_type": "fragment"
    }
   },
   "source": [
    "Schematisch entspricht das also dem, was wir beim POS-Tagging hatten, nur dass $w_i$ nun ein POS-Tag ist und $t_i$ ein Chunk-Tag (Darstellung aus https://www.nltk.org/book/): \n",
    "\n",
    "![](https://www.nltk.org/images/tag-context.png)"
   ]
  },
  {
   "cell_type": "code",
   "execution_count": 22,
   "metadata": {
    "ExecuteTime": {
     "end_time": "2021-12-28T08:19:53.846244Z",
     "start_time": "2021-12-28T08:19:53.814797Z"
    },
    "slideshow": {
     "slide_type": "subslide"
    }
   },
   "outputs": [],
   "source": [
    "# Taken from https://www.nltk.org/book/ch07.html\n",
    "class UnigramChunker(nltk.ChunkParserI):\n",
    "    def __init__(self, train_sents):\n",
    "        train_data = [[(t, c) for w, t, c in nltk.chunk.tree2conlltags(sent)]\n",
    "                      for sent in train_sents]\n",
    "        self.tagger = nltk.UnigramTagger(train_data)\n",
    "\n",
    "    def parse(self, sentence):\n",
    "        pos_tags = [pos for (word, pos) in sentence]\n",
    "        tagged_pos_tags = self.tagger.tag(pos_tags)\n",
    "        chunktags = [chunktag for (pos, chunktag) in tagged_pos_tags]\n",
    "        conlltags = [(word, pos, chunktag) for ((word, pos), chunktag)\n",
    "                     in zip(sentence, chunktags)]\n",
    "        return nltk.chunk.conlltags2tree(conlltags)\n",
    "\n",
    "\n",
    "class BigramChunker(nltk.ChunkParserI):\n",
    "    def __init__(self, train_sents):\n",
    "        train_data = [[(t, c) for w, t, c in nltk.chunk.tree2conlltags(sent)]\n",
    "                      for sent in train_sents]\n",
    "        # backoff needs to be added here\n",
    "        self.tagger = nltk.BigramTagger(train_data)\n",
    "\n",
    "    def parse(self, sentence):\n",
    "        pos_tags = [pos for (word, pos) in sentence]\n",
    "        tagged_pos_tags = self.tagger.tag(pos_tags)\n",
    "        chunktags = [chunktag for (pos, chunktag) in tagged_pos_tags]\n",
    "        conlltags = [(word, pos, chunktag) for ((word, pos), chunktag)\n",
    "                     in zip(sentence, chunktags)]\n",
    "        return nltk.chunk.conlltags2tree(conlltags)\n",
    "\n",
    "\n",
    "class TrigramChunker(nltk.ChunkParserI):\n",
    "    def __init__(self, train_sents):\n",
    "        train_data = [[(t, c) for w, t, c in nltk.chunk.tree2conlltags(sent)]\n",
    "                      for sent in train_sents]\n",
    "        # backoff needs to be added here\n",
    "        self.tagger = nltk.TrigramTagger(train_data)\n",
    "\n",
    "    def parse(self, sentence):\n",
    "        pos_tags = [pos for (word, pos) in sentence]\n",
    "        tagged_pos_tags = self.tagger.tag(pos_tags)\n",
    "        chunktags = [chunktag for (pos, chunktag) in tagged_pos_tags]\n",
    "        conlltags = [(word, pos, chunktag) for ((word, pos), chunktag)\n",
    "                     in zip(sentence, chunktags)]\n",
    "        return nltk.chunk.conlltags2tree(conlltags)"
   ]
  },
  {
   "cell_type": "code",
   "execution_count": 23,
   "metadata": {
    "ExecuteTime": {
     "end_time": "2021-12-28T08:19:56.427315Z",
     "start_time": "2021-12-28T08:19:53.848381Z"
    },
    "slideshow": {
     "slide_type": "subslide"
    }
   },
   "outputs": [
    {
     "name": "stdout",
     "output_type": "stream",
     "text": [
      "Unigram Chunker\n",
      "----------------\n",
      "ChunkParse score:\n",
      "    IOB Accuracy:  86.5%%\n",
      "    Precision:     74.3%%\n",
      "    Recall:        86.4%%\n",
      "    F-Measure:     79.9%%\n",
      "\n",
      "\n",
      "Bigram Chunker\n",
      "----------------\n",
      "ChunkParse score:\n",
      "    IOB Accuracy:  89.3%%\n",
      "    Precision:     81.2%%\n",
      "    Recall:        86.2%%\n",
      "    F-Measure:     83.6%%\n",
      "\n",
      "\n",
      "Trigram Chunker\n",
      "----------------\n",
      "ChunkParse score:\n",
      "    IOB Accuracy:  87.7%%\n",
      "    Precision:     81.0%%\n",
      "    Recall:        84.4%%\n",
      "    F-Measure:     82.6%%\n",
      "\n",
      "\n"
     ]
    }
   ],
   "source": [
    "unigram_chunker = UnigramChunker(conlltrain)\n",
    "print(\"Unigram Chunker\\n----------------\")\n",
    "print(unigram_chunker.accuracy(conlltest))\n",
    "print(\"\\n\")\n",
    "\n",
    "bigram_chunker = BigramChunker(conlltrain)\n",
    "print(\"Bigram Chunker\\n----------------\")\n",
    "print(bigram_chunker.accuracy(conlltest))\n",
    "print(\"\\n\")\n",
    "\n",
    "trigram_chunker = TrigramChunker(conlltrain)\n",
    "print(\"Trigram Chunker\\n----------------\")\n",
    "print(trigram_chunker.accuracy(conlltest))\n",
    "print(\"\\n\")"
   ]
  },
  {
   "cell_type": "markdown",
   "metadata": {
    "slideshow": {
     "slide_type": "fragment"
    }
   },
   "source": [
    "In der Evaluation fallen zwei Dinge auf im Vergleich zum POS-Tagging: \n",
    "1. Es wird kein Backoff benötigt, um eine einigermaßen akzeptable Performanz zu erzielen. <span style=\"color:red\">(Wieso?)</span>\n",
    "2. Die Performanz beim Trigram-Chunker fällt dennoch verglichen zum Bigram-Chunker wieder etwas ab. <span style=\"color:red\">(Wieso?)</span>"
   ]
  },
  {
   "cell_type": "markdown",
   "metadata": {
    "slideshow": {
     "slide_type": "subslide"
    }
   },
   "source": [
    "Zum Vergleich: Der beste Chunker beim [CoNLL2000-Shared-Task](https://aclanthology.org/W00-0726.pdf) lag bei 93,48 F-Measure.\n",
    "\n",
    "Eine wesentliche Einschränkung bei N-Gram-Taggern besteht in der **Begrenzung des zur Verfügung stehenden Kontexts**: Es werden immer nur genau die $n-1$ vorangehenden Worttoken betrachtet. Beziehungen zu weiter entfernt liegenden Worttoken werden jedoch ignoriert."
   ]
  },
  {
   "cell_type": "markdown",
   "metadata": {
    "slideshow": {
     "slide_type": "fragment"
    }
   },
   "source": [
    "Dagegen erlauben **Hidden Markov Models**, die vorangehenden Worttoken flexibler zu berücksichtigen."
   ]
  },
  {
   "cell_type": "markdown",
   "metadata": {
    "slideshow": {
     "slide_type": "slide"
    }
   },
   "source": [
    "## HMM-Chunker\n",
    "\n",
    "### Hidden Markov Models (HMM)\n",
    "\n",
    "Hidden Markov Models (HMM) sind eine Erweiterung von **Markov-Ketten** (oder Markov-Prozessen)\n",
    "\n",
    "Bei Markov-Ketten handelt es sich im Grunde um gewichtete endliche Automaten. Die Gewichte bestehen aus Wahrscheinlichkeiten, d.h. die Summe der Gewichte ausgehender Kanten eines Knoten ist immer $1$. "
   ]
  },
  {
   "cell_type": "markdown",
   "metadata": {
    "slideshow": {
     "slide_type": "subslide"
    }
   },
   "source": [
    "Hier ein Beispiel aus der [Wikipedia](https://de.wikipedia.org/wiki/Markow-Kette) mit zwei Zuständen $A$ und $E$, die beide sowohl Startzustände als auch Endzustände sind:\n",
    "\n",
    "<img src=\"https://upload.wikimedia.org/wikipedia/commons/thumb/2/2b/Markovkate_01.svg/563px-Markovkate_01.svg.png\" alt=\"Drawing\" style=\"width: 250px\"/>\n",
    "\n",
    "Das Gewicht einer Folgen von Zuständen ist dann das Produkt der Gewichte durchlaufener Kanten. Zum Beispiel ist das Gewicht für die Folge EAA $0.7 \\times 0.6 \\times 0.6 = 0.252$. <span style=\"color:red\">(Auch hier ergibt die Summe aller Gewichte 1?)</span>"
   ]
  },
  {
   "cell_type": "markdown",
   "metadata": {
    "slideshow": {
     "slide_type": "subslide"
    }
   },
   "source": [
    "HMMs fügen Markov-Ketten einen **Ausgabe-Layer** hinzu: Für jeden Zustand gibt es eine Menge möglicher Ausgaben, wiederum gewichtet mit Wahrscheinlichkeiten, d.h. die Summe der Gewichte möglicher Ausgaben ergibt $1$. Jeder Ausgabe liegt also eine Folge von \"verborgenen\" Zuständen zugrunde – daher der Name."
   ]
  },
  {
   "attachments": {
    "Jurafski,Martin%282021%29-Figure8.9.png": {
     "image/png": "[encoded data removed]"
    }
   },
   "cell_type": "markdown",
   "metadata": {
    "slideshow": {
     "slide_type": "subslide"
    }
   },
   "source": [
    "Ein graphisches Beispiel eines **HMM für das POS-Tagging** findet sich bei Jurafski & Martin (2021: Figure 8.9). Hier sind die POS-Tags VB, MD und NN die verborgenen Zustände und die Wortformen *aardvark*, *will*, *the*, *back*, *zebra* deren mögliche Ausgaben:\n",
    "![Jurafski,Martin%282021%29-Figure8.9.png](attachment:Jurafski,Martin%282021%29-Figure8.9.png)"
   ]
  },
  {
   "cell_type": "markdown",
   "metadata": {
    "slideshow": {
     "slide_type": "subslide"
    }
   },
   "source": [
    "Das Gewicht einer Zustandsfolge mit spezifischen Ausgaben ist das Produkt der involvierten Kanten- und Ausgabengewichte. Das **Ziel (oder \"Objective\") des HMM-Taggers** ist also, für eine Ausgabe-Kette $w_1 \\ldots w_n$ die Zustandsfolge $\\hat{t}_{1:n}$ mit dem größten Gewicht zu finden:  \n",
    "\n",
    "$$\\hat{t}_{1:n} \\approx \\operatorname{arg max}_{t_1 \\ldots t_n} \\prod^n_{i=1} \\overbrace{P(w_i \\vert t_i)}^{\\text{emission}} \\overbrace{P(t_i \\vert t_{i-1})}^{\\text{transition}}$$"
   ]
  },
  {
   "cell_type": "markdown",
   "metadata": {
    "slideshow": {
     "slide_type": "subslide"
    }
   },
   "source": [
    "Leider gibt es *sehr* viele mögliche POS-Tag-Folgen für einen Satz mit $n$ Wörtern, nämlich $|\\text{Tagset}|^n$. Bei einem Tagset mit 58 POS-Tags (wie bei der Penn Treebank) und einem Satz mit 20 Wörtern sind das also $58^{20}$ Möglichkeiten! Glücklicherweise kann die beste Lösung mit dem [Viterbi-Algorithmus](https://de.wikipedia.org/wiki/Viterbi-Algorithmus) und der Strategie des Dynamic Programming relativ schnell gefunden werden.      "
   ]
  },
  {
   "cell_type": "markdown",
   "metadata": {
    "slideshow": {
     "slide_type": "slide"
    }
   },
   "source": [
    "### HMM in NLTK\n",
    "\n",
    "Ein HMM-POS-Tagger kann in NLTK  mit Hilfe des [HMM-Moduls](https://www.nltk.org/api/nltk.tag.hmm.html?highlight=markov#module-nltk.tag.hmm) erstellt werden. Für Training und Evaluation können wir wieder auf die Golddaten aus dem Brown-Corpus zurückgreifen."
   ]
  },
  {
   "cell_type": "code",
   "execution_count": 24,
   "metadata": {
    "ExecuteTime": {
     "end_time": "2021-12-28T08:20:03.696891Z",
     "start_time": "2021-12-28T08:20:02.037977Z"
    }
   },
   "outputs": [
    {
     "name": "stderr",
     "output_type": "stream",
     "text": [
      "C:\\Users\\mel\\AppData\\Local\\anaconda3\\Lib\\site-packages\\nltk\\tag\\hmm.py:336: RuntimeWarning: overflow encountered in cast\n",
      "  O[i, k] = self._output_logprob(si, self._symbols[k])\n",
      "C:\\Users\\mel\\AppData\\Local\\anaconda3\\Lib\\site-packages\\nltk\\tag\\hmm.py:334: RuntimeWarning: overflow encountered in cast\n",
      "  X[i, j] = self._transitions[si].logprob(self._states[j])\n",
      "C:\\Users\\mel\\AppData\\Local\\anaconda3\\Lib\\site-packages\\nltk\\tag\\hmm.py:364: RuntimeWarning: overflow encountered in cast\n",
      "  O[i, k] = self._output_logprob(si, self._symbols[k])\n"
     ]
    },
    {
     "name": "stdout",
     "output_type": "stream",
     "text": [
      "Accuracy:  0.41246483445141746\n"
     ]
    }
   ],
   "source": [
    "from nltk.tag import hmm\n",
    "from nltk.corpus import brown\n",
    "\n",
    "brown_testgold = brown.tagged_sents(\n",
    "    categories='news', tagset='universal')[:200]\n",
    "brown_train = brown.tagged_sents(categories='news', tagset='universal')[200:]\n",
    "\n",
    "hmmtrainer = hmm.HiddenMarkovModelTrainer()\n",
    "hmmtagger = hmmtrainer.train_supervised(brown_train)\n",
    "\n",
    "print(\"Accuracy: \", hmmtagger.accuracy(brown_testgold))"
   ]
  },
  {
   "cell_type": "markdown",
   "metadata": {
    "slideshow": {
     "slide_type": "subslide"
    }
   },
   "source": [
    "Die Accuracy des HMM-Taggers für diese Daten ist nicht gerade beeindruckend, was daran liegt, dass der HMM-Tagger ein großes Problem mit **unbekannten Wörtern** hat. <span style=\"color:red\">(Warum?)</span>  "
   ]
  },
  {
   "cell_type": "code",
   "execution_count": 25,
   "metadata": {
    "ExecuteTime": {
     "end_time": "2021-12-28T08:20:03.706470Z",
     "start_time": "2021-12-28T08:20:03.698938Z"
    }
   },
   "outputs": [
    {
     "data": {
      "text/plain": [
       "[('Kim', 'VERB'), ('likes', 'VERB'), ('chicken', 'VERB'), ('.', 'VERB')]"
      ]
     },
     "execution_count": 25,
     "metadata": {},
     "output_type": "execute_result"
    }
   ],
   "source": [
    "hmmtagger.tag(['Kim', 'likes', 'chicken', '.'])"
   ]
  },
  {
   "cell_type": "markdown",
   "metadata": {
    "slideshow": {
     "slide_type": "fragment"
    }
   },
   "source": [
    "Man sollte also bei $P(w) = 0$ entweder die Wahrscheinlichkeiten für alle Tags $P(w\\vert t)$ anheben ([Laplace Smoothing](https://en.wikipedia.org/wiki/Additive_smoothing)) oder aus der morphologischen Struktur von $w$ die Wahrscheinlichkeit eines Tags abschätzen (siehe z.B. Brants 2000).  \n",
    "\n",
    "Aber wie schlägt sich denn der HMM-Tagger beim Chunken?"
   ]
  },
  {
   "cell_type": "markdown",
   "metadata": {
    "slideshow": {
     "slide_type": "slide"
    }
   },
   "source": [
    "###  <span style=\"color:red\">Aufgaben II: HMM als Chunker</span>\n",
    "\n",
    "<span style=\"color:red\">A2:</span> Implementieren Sie einen HMM-Chunker mithilfe einer Klasse `HMMChunker` und evaluieren Sie diesen Chunker in gewohnter Weise! Orientieren Sie sich dabei an der Implementierung der [N-Gram-Chunker](#N-Gram-Chunker) oben im Notebook."
   ]
  },
  {
   "cell_type": "code",
   "execution_count": 26,
   "metadata": {
    "ExecuteTime": {
     "end_time": "2021-12-28T08:20:09.034743Z",
     "start_time": "2021-12-28T08:20:03.708254Z"
    }
   },
   "outputs": [
    {
     "name": "stdout",
     "output_type": "stream",
     "text": [
      "HMM Chunker\n",
      "----------------\n"
     ]
    },
    {
     "name": "stderr",
     "output_type": "stream",
     "text": [
      "C:\\Users\\mel\\AppData\\Local\\anaconda3\\Lib\\site-packages\\nltk\\tag\\hmm.py:332: RuntimeWarning: overflow encountered in cast\n",
      "  P[i] = self._priors.logprob(si)\n"
     ]
    },
    {
     "name": "stdout",
     "output_type": "stream",
     "text": [
      "ChunkParse score:\n",
      "    IOB Accuracy:  90.1%%\n",
      "    Precision:     83.5%%\n",
      "    Recall:        86.8%%\n",
      "    F-Measure:     85.1%%\n"
     ]
    }
   ],
   "source": [
    "# Lösung A2\n",
    "from nltk.chunk import tree2conlltags, conlltags2tree\n",
    "class HMMChunker(nltk.ChunkParserI):\n",
    "    def __init__(self, train_sents):\n",
    "        # Konvertierung der training sätze to the format required for the HMM tagger\n",
    "        train_data = [[(t, c) for w, t, c in nltk.chunk.tree2conlltags(sent)] for sent in train_sents]\n",
    "        \n",
    "        # Erstellen und Trainieren des Hidden Markov Model\n",
    "        self.tagger = hmm.HiddenMarkovModelTrainer().train(train_data)\n",
    "    \n",
    "    def parse(self, sentence):\n",
    "        pos_tags = [pos for (word, pos) in sentence]\n",
    "        # Markierung der POS-Tags\n",
    "        tagged_pos_tags = self.tagger.tag(pos_tags)\n",
    "        chunktags = [chunktag for (pos, chunktag) in tagged_pos_tags]\n",
    "        conlltags = [(word, pos, chunktag) for ((word, pos), chunktag) in zip(sentence, chunktags)]\n",
    "        return conlltags2tree(conlltags)\n",
    "\n",
    "# Training und Test des HMM Chunkers\n",
    "hmm_chunker = HMMChunker(conlltrain)\n",
    "print(\"HMM Chunker\\n----------------\")\n",
    "print(hmm_chunker.accuracy(conlltest))"
   ]
  },
  {
   "cell_type": "markdown",
   "metadata": {},
   "source": [
    "Was für ein erstaunliches Ergebnis! Können Sie es erklären?"
   ]
  },
  {
   "cell_type": "markdown",
   "metadata": {
    "slideshow": {
     "slide_type": "slide"
    }
   },
   "source": [
    "# Appendix: Conditional Random Fields (CRF)\n",
    "\n",
    "Zwar sind HMM-POS-Tagger etwas mächtiger als N-Gramm-POS-Tagger, was den Zugriff auf den **horizontalen Kontext** eines Zielworts betrifft (der Kontext steht als akkumuliertes Gewicht der zuvor vergebenen Tags abhängig von der Wortform zur Verfügung), aber noch immer eingeschränkt: Es kann nämlich nicht direkt auf beliebige vorangehende oder nachfolgende Wortformen zugegriffen werden. Beim Chunken gibt es außerdem die Einschränkung, dass auf Wortformen überhaupt nicht direkt zugegriffen werden kann, da sich der verfügbare **vertikale Kontext** nur auf Chunk-Tags und POS-Tags erstreckt."
   ]
  },
  {
   "cell_type": "markdown",
   "metadata": {},
   "source": [
    "## Wie funktioniert CRF?\n",
    "\n",
    "Conditional Random Fields (CRF) ist ein Verfahren, das nicht nur besser mit unbekannten Wörtern zurecht kommt, sondern auch deutlich flexibler auf den horizontalen und vertikalen Kontext des Targetworts zugreifen kann. \n",
    "\n",
    "Technisch betrachtet gibt es drei Hauptunterschiede zu HMM:\n",
    "1. CRF ist eine **diskriminatives** Sequenzmodell. Das bedeutet, im Unterschied zu HMM wird der Posterior direkt gelernt: \n",
    "$$\\overbrace{P(t|w)}^{\\text{posterior}}= \\frac{P(w|t) P(t)}{P(w)}\\text{, wobei $t$ ein Tag und $w$ ein Worttoken wäre.}$$ Ein HMM modelliert dagegen $P(w|t) P(t)$ und zählt daher zu den **generativen** Sequenzmodellen (siehe Jurafsky & Martin 2021: Kapitel 8).  \n",
    "2. CRF lernt anhand sogenannter **Features**, die gewichtet werden und meist binär sind.\n",
    "3. Die Gewichte der beobachteten Features werden **summiert**, nicht wie beim HMM die Wahrscheinlichkeiten multipliziert.\n",
    "\n",
    "Die optimale Tag-Sequenz $\\hat{Y}$ für eine Wortkette $X$ der Länge $n$ wird folgendermaßen berechnet, wobei $f_1,\\ldots, f_K$ eine Menge von Features mit Gewichten $w_1, \\ldots, w_K$ darstellt:\n",
    "  $$\\hat{Y} = \\operatorname{arg max}_{Y \\in \\mathcal{Y}} \\sum_{i=1}^{n}\\sum_{k=1}^{K} w_k f_k(y_{i-1},y_i,X,i)$$\n",
    "\n",
    "**Achtung:** Wie beim HMM (erster Ordnung) wird in dieser CRF-Variante (linear-chain CRF) nur das Tag des Zielworttokens und das Tag des vorangehenden Worttokens ($y_{i-1}$, $y_i$) betrachtet! Ein Grund ist, dass dann wieder der Viterbi-Alogorithmus verwendet werden kann, um $\\hat{Y}$ effizient zu berechnen."
   ]
  },
  {
   "cell_type": "markdown",
   "metadata": {
    "slideshow": {
     "slide_type": "slide"
    }
   },
   "source": [
    "## Features, Gewichte, Feature-Templates & Feature-Extraktion\n",
    "\n",
    "Ein **Feature** repräsentiert eine bestimmte Konfiguration von (horizontalen und vertikalen) Kontexteigenschaften eines Target-Worts. Features werden so gewählt, dass sie als **Indiz** für die Korrektheit eines Tag $y_i$ an der Stelle $i$ der Eingabe $X$ dienen. Beispielsweise könnte es ein Feature $f_{103}$ geben (\"103\" ist zufällig gewählt), das das Indiz repräsentiert, dass ein Worttoken mit der Wortform *the* das Tag DET besitzt: \n",
    "\n",
    "$$f_{103}(y_{i-1},y_i,X,i) = \\begin{cases}\n",
    "1 & \\text{wenn } y_i = \\text{DET} \\text{ und } x_i = \\mathit{the} \\\\ \n",
    "0 & \\text{wenn } \\operatorname{not}(y_i = \\text{DET}) \\text{ und } x_i = \\mathit{the}\\end{cases}$$\n",
    "\n",
    "Man beachte, dass beliebige Wortformen links und rechts vom Target als Indiz herangezogen werden können (aber nur das vorangehende Tag), z.B. ein nachfolgender Punkt:\n",
    "\n",
    "$$f_{104}(y_{i-1},y_i,X,i) = \\begin{cases}\n",
    "1 & \\text{wenn } y_i = \\text{NN} \\text{ und } x_i = \\mathit{buy} \\text{ und } x_{i+i} = \\mathit{.} \\\\ \n",
    "0 & \\text{wenn } \\operatorname{not}(y_i = \\text{NN}) \\text{ und } x_i = \\mathit{buy} \\text{ und } x_{i+i} = \\mathit{.}\\end{cases}$$"
   ]
  },
  {
   "cell_type": "markdown",
   "metadata": {},
   "source": [
    "Das **Gewicht** eines Features $f_k$ ergibt sich aus der relativen Anzahl der (definierten) Werte von $f_k$ in einem Lerncorpus, z.B.: \n",
    "\n",
    "$$w_k = \\frac{\\text{count}(f_k = 1)}{\\text{count}(f_k = 0)+\\text{count}(f_k = 1)}$$"
   ]
  },
  {
   "cell_type": "markdown",
   "metadata": {},
   "source": [
    "Solche Features von Hand aufzuschreiben, ist offensichtlich sehr mühselig und eintönig. Es gibt allein zehntausende mögliche Features wie $f_{103}$ – da hilft es auch nicht, dass man später die Anzahl der Features anhand der beobachteten Frequenz im Lerncorpus und einer Mindestfrequenz erheblich reduzieren kann (und muss).  \n",
    "\n",
    "Von Hand spezifiert man daher stattdessen Mengen von Features mittels **Feature-Templates**. Beispielsweise gibt es [in NLTK](https://www.nltk.org/_modules/nltk/tag/crf.html#CRFTagger) standardmäßig die folgenden Templates, die das Unknown-Words-Problem abmildern sollen:\n",
    "  - Current word\n",
    "  - Is it capitalized?\n",
    "  - Does it have punctuation?\n",
    "  - Does it have a number?\n",
    "  - Suffixes up to length 3\n",
    "  \n",
    "Jedes dieser Templates steht für tausende von Features, wobei unser Feature $f_{103}$ zum Template \"Current word\" gehört. Die Kompilierung der Features aus Feature-Templates erfolgt automatisch und wird **Feature-Extraktion** genannt. Wir werden in der nächsten Sitzung genauer sehen, wie dies in NLTK umgesetzt ist.    "
   ]
  },
  {
   "cell_type": "markdown",
   "metadata": {
    "slideshow": {
     "slide_type": "slide"
    }
   },
   "source": [
    "## Implementierung mit NLTK\n",
    "\n",
    "Zur Implementierung von CRF-Taggern steht in NLTK das [CRF-Modul](https://www.nltk.org/api/nltk.tag.crf.html?highlight=crf#module-nltk.tag.crf) zu Verfügung. Vor dem Gebrauch muss aber das benötigte Python-Paket installiert sein (Jupyter neu starten nicht vergessen):\n",
    "\n",
    "    pip install python-crfsuite\n",
    "\n",
    "Wenden wir den [`CRFTagger`](https://www.nltk.org/api/nltk.tag.crf.html?highlight=crf#nltk.tag.crf.CRFTagger) zuerst auf das POS-Tagging an,  wobei die oben genannten \"Einstiegsfeature\" verwendet werden."
   ]
  },
  {
   "cell_type": "code",
   "execution_count": null,
   "metadata": {
    "ExecuteTime": {
     "end_time": "2021-12-28T08:20:21.151933Z",
     "start_time": "2021-12-28T08:20:09.036720Z"
    }
   },
   "outputs": [],
   "source": [
    "from nltk.tag import CRFTagger\n",
    "from nltk.corpus import brown\n",
    "\n",
    "ct = CRFTagger()\n",
    "\n",
    "brown_testgold = brown.tagged_sents(\n",
    "    categories='news', tagset='universal')[:200]\n",
    "brown_train = brown.tagged_sents(categories='news', tagset='universal')[200:]\n",
    "\n",
    "ct.train(brown_train, 'model.crf.tagger')\n",
    "\n",
    "print(\"Accuracy: \", ct.accuracy(brown_testgold))"
   ]
  },
  {
   "cell_type": "code",
   "execution_count": null,
   "metadata": {
    "ExecuteTime": {
     "end_time": "2021-12-28T08:20:21.159549Z",
     "start_time": "2021-12-28T08:20:21.153577Z"
    }
   },
   "outputs": [],
   "source": [
    "ct.tag(['Kim', 'likes', 'chicken', '.'])"
   ]
  },
  {
   "cell_type": "markdown",
   "metadata": {},
   "source": [
    "Dies ist schon mal ein sehr guter Wert an sich und wesentlich besser als die Accuracy des \"rohen\" HMM-POS-Taggers oben. \n",
    "\n",
    "Und so schlägt sich der `CRFTagger` beim Chunking:"
   ]
  },
  {
   "cell_type": "code",
   "execution_count": null,
   "metadata": {
    "ExecuteTime": {
     "end_time": "2021-12-28T08:20:42.370742Z",
     "start_time": "2021-12-28T08:20:21.163268Z"
    }
   },
   "outputs": [],
   "source": [
    "from nltk.tag import CRFTagger\n",
    "\n",
    "ct = CRFTagger()\n",
    "\n",
    "train_data = [[(t, c) for w, t, c in nltk.chunk.tree2conlltags(sent)]\n",
    "              for sent in conlltrain]\n",
    "test_data = [[(t, c) for w, t, c in nltk.chunk.tree2conlltags(sent)]\n",
    "             for sent in conlltest]\n",
    "\n",
    "ct.train(train_data, 'model.crf.tagger')\n",
    "\n",
    "print(\"Accuracy: \", ct.accuracy(test_data))"
   ]
  },
  {
   "cell_type": "markdown",
   "metadata": {},
   "source": [
    "Der `CRFTagger` kann wieder in einen `CRFChunker` eingebettet werden, um das F-Measure bezüglich der Chunks auszugeben."
   ]
  },
  {
   "cell_type": "code",
   "execution_count": null,
   "metadata": {
    "ExecuteTime": {
     "end_time": "2021-12-28T08:21:04.045926Z",
     "start_time": "2021-12-28T08:20:42.372368Z"
    }
   },
   "outputs": [],
   "source": [
    "class CRFChunker(nltk.ChunkParserI):\n",
    "    def __init__(self, train_sents):\n",
    "        train_data = [[(t, c) for w, t, c in nltk.chunk.tree2conlltags(sent)]\n",
    "                      for sent in train_sents]\n",
    "        ct = CRFTagger()\n",
    "        # model.crf.tagger ist nur ein Platzhalter\n",
    "        ct.train(train_data, 'model.crf.tagger')\n",
    "        self.tagger = ct\n",
    "\n",
    "    def parse(self, sentence):\n",
    "        pos_tags = [pos for (word, pos) in sentence]\n",
    "        tagged_pos_tags = self.tagger.tag(pos_tags)\n",
    "        chunktags = [chunktag for (pos, chunktag) in tagged_pos_tags]\n",
    "        conlltags = [(word, pos, chunktag) for ((word, pos), chunktag)\n",
    "                     in zip(sentence, chunktags)]\n",
    "        return nltk.chunk.conlltags2tree(conlltags)\n",
    "\n",
    "\n",
    "crf_chunker = CRFChunker(conlltrain)\n",
    "print(crf_chunker.accuracy(conlltest))"
   ]
  },
  {
   "cell_type": "markdown",
   "metadata": {},
   "source": [
    "Das F-Measure ist noch einmal 3 Punkte besser als beim HMM-Chunker. Die Konfusionsmatrix zeigt, das die Fehler relativ breit über die Tags verteilt sind. "
   ]
  },
  {
   "cell_type": "code",
   "execution_count": null,
   "metadata": {
    "ExecuteTime": {
     "end_time": "2021-12-28T20:51:42.988330Z",
     "start_time": "2021-12-28T20:51:38.531112Z"
    }
   },
   "outputs": [],
   "source": [
    "from nltk.metrics import ConfusionMatrix\n",
    "from nltk import conlltags2tree, tree2conlltags\n",
    "\n",
    "gold = [chunktag for word, tag, chunktag in conll2000.iob_words()]\n",
    "test = [chunktag for sent in conll2000.tagged_sents()\n",
    "        for word, tag, chunktag in tree2conlltags(crf_chunker.parse(sent))]\n",
    "\n",
    "print(ConfusionMatrix(gold, test).pretty_format(show_percents=True,\n",
    "      values_in_chart=True, truncate=15, sort_by_count=True))"
   ]
  },
  {
   "cell_type": "markdown",
   "metadata": {
    "slideshow": {
     "slide_type": "slide"
    }
   },
   "source": [
    "# Appendix: Klassifiziererbasierte Chunker\n",
    "\n",
    "Die bisher behandelten Verfahren nutzen ausschließlich POS-Tags für das Chunking. Dies führt zu gewissen Einschränkungen, da die nötigen Informationen nicht immer im POS-Tag verfügbar sind. \n",
    "\n",
    "Im NLTK-Buch wird folgendes Beispiel gegeben:\n",
    "\n",
    "    (3)\t\t\n",
    "        a.\t\tJoey/NN sold/VBD the/DT farmer/NN rice/NN ./.\n",
    "        b.\t\tNick/NN broke/VBD my/DT computer/NN monitor/NN ./.\n",
    "\n",
    "Der Chunker würde hier auf Grundlage der POS-Tags dieselbe Chunk-Struktur ausgeben. Dabei müssen die Sätze unterschiedlich analysiert werden, nämlich so:\n",
    "\n",
    "    (3')\t\t\n",
    "        a.\t\tJoey/NN sold/VBD (NP the/DT farmer/NN) (NP rice/NN) ./.\n",
    "        b.\t\tNick/NN broke/VBD (NP my/DT computer/NN monitor/NN) ./.\n",
    "\n",
    "Dem Chunker fehlt hier die Information, dass *sold* ditransitiv und *broke* transitiv ist. Außerdem ist *computer monitor* eine sogenannte **Kollokation**, d.h. eine geläufige komplexe NP, und *monitor* kann alleine keine NP bilden. \n",
    "\n",
    "Um Wortformen zu berücksichtigen, dabei aber nicht in ein Sparse-Data-Problem zu geraten, bieten sich sogenannte klassifiziererbasierte Ansätze an **(dazu mehr in der nächsten Sitzung)**. Im NLTK-Buch ist als Beispiel ein Naive-Bayes-Klassifizierer angegeben, bei dem die Features flexibel erstellt werden können. Hier der nur leicht veränderte Code und die Evaluation:"
   ]
  },
  {
   "cell_type": "code",
   "execution_count": null,
   "metadata": {
    "ExecuteTime": {
     "end_time": "2021-12-28T08:21:04.059853Z",
     "start_time": "2021-12-28T08:21:04.047657Z"
    }
   },
   "outputs": [],
   "source": [
    "class ConsecutiveNPChunkTagger(nltk.TaggerI):\n",
    "    def __init__(self, train_sents):\n",
    "        train_set = []\n",
    "        for tagged_sent in train_sents:\n",
    "            untagged_sent = nltk.tag.untag(tagged_sent)\n",
    "            history = []\n",
    "            for i, (word, tag) in enumerate(tagged_sent):\n",
    "                featureset = npchunk_features(untagged_sent, i, history)\n",
    "                train_set.append((featureset, tag))\n",
    "                history.append(tag)\n",
    "        # self.classifier = nltk.MaxentClassifier.train(\n",
    "        #    train_set, algorithm='megam', trace=0)\n",
    "        self.classifier = nltk.NaiveBayesClassifier.train(train_set)\n",
    "\n",
    "    def tag(self, sentence):\n",
    "        history = []\n",
    "        for i, word in enumerate(sentence):\n",
    "            featureset = npchunk_features(sentence, i, history)\n",
    "            tag = self.classifier.classify(featureset)\n",
    "            history.append(tag)\n",
    "        return zip(sentence, history)\n",
    "\n",
    "\n",
    "class ConsecutiveNPChunker(nltk.ChunkParserI):\n",
    "    def __init__(self, train_sents):\n",
    "        tagged_sents = [[((w, t), c) for (w, t, c) in\n",
    "                         nltk.chunk.tree2conlltags(sent)]\n",
    "                        for sent in train_sents]\n",
    "        self.tagger = ConsecutiveNPChunkTagger(tagged_sents)\n",
    "\n",
    "    def parse(self, sentence):\n",
    "        tagged_sents = self.tagger.tag(sentence)\n",
    "        conlltags = [(w, t, c) for ((w, t), c) in tagged_sents]\n",
    "        return nltk.chunk.conlltags2tree(conlltags)"
   ]
  },
  {
   "cell_type": "code",
   "execution_count": null,
   "metadata": {
    "ExecuteTime": {
     "end_time": "2021-12-28T08:21:04.073447Z",
     "start_time": "2021-12-28T08:21:04.061988Z"
    }
   },
   "outputs": [],
   "source": [
    "def npchunk_features(sentence, i, history):\n",
    "    word, pos = sentence[i]\n",
    "    if i == 0:\n",
    "        prevword, prevpos = \"<START>\", \"<START>\"\n",
    "    else:\n",
    "        prevword, prevpos = sentence[i-1]\n",
    "    if i == len(sentence)-1:\n",
    "        nextword, nextpos = \"<END>\", \"<END>\"\n",
    "    else:\n",
    "        nextword, nextpos = sentence[i+1]\n",
    "    return {\"pos\": pos,\n",
    "            \"word\": word,\n",
    "            \"prevpos\": prevpos,\n",
    "            \"nextpos\": nextpos,\n",
    "            \"prevpos+pos\": \"%s+%s\" % (prevpos, pos),\n",
    "            \"pos+nextpos\": \"%s+%s\" % (pos, nextpos),\n",
    "            \"tags-since-dt\": tags_since_dt(sentence, i)}\n",
    "\n",
    "\n",
    "def tags_since_dt(sentence, i):\n",
    "    tags = set()\n",
    "    for word, pos in sentence[:i]:\n",
    "        if pos == 'DT':\n",
    "            tags = set()\n",
    "        else:\n",
    "            tags.add(pos)\n",
    "    return '+'.join(sorted(tags))"
   ]
  },
  {
   "cell_type": "code",
   "execution_count": null,
   "metadata": {
    "ExecuteTime": {
     "end_time": "2021-12-28T08:21:13.575001Z",
     "start_time": "2021-12-28T08:21:04.075878Z"
    }
   },
   "outputs": [],
   "source": [
    "chunker = ConsecutiveNPChunker(conlltrain)\n",
    "print(chunker.accuracy(conlltest))"
   ]
  },
  {
   "cell_type": "markdown",
   "metadata": {},
   "source": [
    "Wir sehen, dass der Ansatz mit Bayes-Klassifizierer nochmals deutlich bessere Ergebnisse ermöglicht als die einfachen N-Gram-Chunker.\n",
    "\n",
    "Trotzdem liegt das noch gut 4 %-Punkte unter dem F-Measure der besten Chunker im CoNLL-Shared-Task vor bald 20 Jahre ..."
   ]
  },
  {
   "cell_type": "markdown",
   "metadata": {
    "slideshow": {
     "slide_type": "slide"
    }
   },
   "source": [
    "# Literaturangaben\n",
    "\n",
    "- Brants, Thorsten. 2000. TnT: A Statistical Part-of-Speech Tagger. In Sixth Applied Natural Language Processing Conference, 224–231. Seattle, Washington, USA: Association for Computational Linguistics. https://doi.org/10.3115/974147.974178. https://aclanthology.org/A00-1031.\n",
    "- Jurafsky, Daniel & James H. Martin. 2021. Speech and Language Processing. An Introduction to Natural Language Processing, Computational Linguistics, and Speech Recognition. Draft of September 21, 2021. https://web.stanford.edu/jurafsky/slp3/ed3book.pdf."
   ]
  }
 ],
 "metadata": {
  "kernelspec": {
   "display_name": "Python 3 (ipykernel)",
   "language": "python",
   "name": "python3"
  },
  "language_info": {
   "codemirror_mode": {
    "name": "ipython",
    "version": 3
   },
   "file_extension": ".py",
   "mimetype": "text/x-python",
   "name": "python",
   "nbconvert_exporter": "python",
   "pygments_lexer": "ipython3",
   "version": "3.11.7"
  },
  "toc": {
   "base_numbering": 1,
   "nav_menu": {},
   "number_sections": true,
   "sideBar": true,
   "skip_h1_title": false,
   "title_cell": "Table of Contents",
   "title_sidebar": "Contents",
   "toc_cell": false,
   "toc_position": {
    "height": "calc(100% - 180px)",
    "left": "10px",
    "top": "150px",
    "width": "384px"
   },
   "toc_section_display": true,
   "toc_window_display": false
  }
 },
 "nbformat": 4,
 "nbformat_minor": 4
}
